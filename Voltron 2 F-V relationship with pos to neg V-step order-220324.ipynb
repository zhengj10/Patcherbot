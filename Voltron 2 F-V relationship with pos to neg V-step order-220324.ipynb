{
 "cells": [
  {
   "cell_type": "code",
   "execution_count": 1,
   "metadata": {},
   "outputs": [],
   "source": [
    "import sys\n",
    "sys.path.append('/Users/zhengj10/Python/Modules')\n",
    "import h5py\n",
    "import os\n",
    "import numpy as np\n",
    "import matplotlib.pyplot as plt\n",
    "import yaml\n",
    "import pandas as pd\n",
    "import PatcherBot as pb\n",
    "from glob import glob\n",
    "import seaborn as sns\n",
    "from scipy.stats import mannwhitneyu"
   ]
  },
  {
   "cell_type": "code",
   "execution_count": 2,
   "metadata": {},
   "outputs": [
    {
     "data": {
      "text/plain": [
       "True"
      ]
     },
     "execution_count": 2,
     "metadata": {},
     "output_type": "execute_result"
    }
   ],
   "source": [
    "# imgPath = '/Volumes/Backup Plus/PatcherBot/raw/'\n",
    "imgPath = '/Volumes/genie/Jihong_GENIE_stuff/PatcherBot/raw'\n",
    "sumPath = '/Volumes/genie/Jihong_GENIE_stuff/Voltron 2 with_pos_to_neg_V_steps/'\n",
    "os.path.exists(imgPath)"
   ]
  },
  {
   "cell_type": "markdown",
   "metadata": {},
   "source": [
    "### Creation of dataframe"
   ]
  },
  {
   "cell_type": "markdown",
   "metadata": {},
   "source": [
    "- Meta from experiment"
   ]
  },
  {
   "cell_type": "code",
   "execution_count": 3,
   "metadata": {},
   "outputs": [],
   "source": [
    "datePath = ['2022.03.24_000']"
   ]
  },
  {
   "cell_type": "code",
   "execution_count": 4,
   "metadata": {},
   "outputs": [],
   "source": [
    "columns = ['Date','Plate','Well','Mutation','Cell']"
   ]
  },
  {
   "cell_type": "code",
   "execution_count": 5,
   "metadata": {},
   "outputs": [
    {
     "name": "stdout",
     "output_type": "stream",
     "text": [
      "plate_000\n",
      "376.20950\n"
     ]
    }
   ],
   "source": [
    "data_all = {}\n",
    "for column in columns:\n",
    "    data_all[column] = []\n",
    "\n",
    "for date in datePath:\n",
    "#     platePath = pb.getPathInfo(os.path.join(imgPath,date))\n",
    "    platePath = ['plate_000']\n",
    "    i=0\n",
    "    for plate in platePath:\n",
    "        print(plate)\n",
    "        \n",
    "        idxFile = os.path.join(imgPath, date, plate, '.index')\n",
    "        a = yaml.load(open(idxFile), Loader=yaml.FullLoader)\n",
    "        i+=1\n",
    "        try:\n",
    "            mutation = a['.']['mutation_1']\n",
    "        except:\n",
    "            mutation = 'not recorded'\n",
    "        \n",
    "        cellPath = pb.getPathInfo(os.path.join(imgPath, date, plate))\n",
    "        print(mutation)\n",
    "        for cell in(cellPath):\n",
    "            trialPath = os.path.join(imgPath,date,plate,cell,'camera_clamp1_000')\n",
    "            if not os.path.exists(trialPath):\n",
    "                continue\n",
    "                \n",
    "            data_all['Date'].append(date)\n",
    "            data_all['Plate'].append(plate)\n",
    "            data_all['Well'].append('well_1')\n",
    "            data_all['Mutation'].append(mutation)\n",
    "            data_all['Cell'].append(cell)"
   ]
  },
  {
   "cell_type": "code",
   "execution_count": 6,
   "metadata": {},
   "outputs": [
    {
     "name": "stdout",
     "output_type": "stream",
     "text": [
      "Date 7\n",
      "Plate 7\n",
      "Well 7\n",
      "Mutation 7\n",
      "Cell 7\n"
     ]
    }
   ],
   "source": [
    "for k,v in data_all.items():\n",
    "    print(k,len(v))"
   ]
  },
  {
   "cell_type": "code",
   "execution_count": 7,
   "metadata": {},
   "outputs": [
    {
     "data": {
      "text/html": [
       "<div>\n",
       "<style scoped>\n",
       "    .dataframe tbody tr th:only-of-type {\n",
       "        vertical-align: middle;\n",
       "    }\n",
       "\n",
       "    .dataframe tbody tr th {\n",
       "        vertical-align: top;\n",
       "    }\n",
       "\n",
       "    .dataframe thead th {\n",
       "        text-align: right;\n",
       "    }\n",
       "</style>\n",
       "<table border=\"1\" class=\"dataframe\">\n",
       "  <thead>\n",
       "    <tr style=\"text-align: right;\">\n",
       "      <th></th>\n",
       "      <th>Date</th>\n",
       "      <th>Plate</th>\n",
       "      <th>Well</th>\n",
       "      <th>Mutation</th>\n",
       "      <th>Cell</th>\n",
       "    </tr>\n",
       "  </thead>\n",
       "  <tbody>\n",
       "    <tr>\n",
       "      <th>0</th>\n",
       "      <td>2022.03.24_000</td>\n",
       "      <td>plate_000</td>\n",
       "      <td>well_1</td>\n",
       "      <td>376.20950</td>\n",
       "      <td>patch_attempt_0005_000</td>\n",
       "    </tr>\n",
       "    <tr>\n",
       "      <th>1</th>\n",
       "      <td>2022.03.24_000</td>\n",
       "      <td>plate_000</td>\n",
       "      <td>well_1</td>\n",
       "      <td>376.20950</td>\n",
       "      <td>patch_attempt_0006_000</td>\n",
       "    </tr>\n",
       "    <tr>\n",
       "      <th>2</th>\n",
       "      <td>2022.03.24_000</td>\n",
       "      <td>plate_000</td>\n",
       "      <td>well_1</td>\n",
       "      <td>376.20950</td>\n",
       "      <td>patch_attempt_0009_000</td>\n",
       "    </tr>\n",
       "    <tr>\n",
       "      <th>3</th>\n",
       "      <td>2022.03.24_000</td>\n",
       "      <td>plate_000</td>\n",
       "      <td>well_1</td>\n",
       "      <td>376.20950</td>\n",
       "      <td>patch_attempt_0012_000</td>\n",
       "    </tr>\n",
       "    <tr>\n",
       "      <th>4</th>\n",
       "      <td>2022.03.24_000</td>\n",
       "      <td>plate_000</td>\n",
       "      <td>well_1</td>\n",
       "      <td>376.20950</td>\n",
       "      <td>patch_attempt_0013_000</td>\n",
       "    </tr>\n",
       "    <tr>\n",
       "      <th>5</th>\n",
       "      <td>2022.03.24_000</td>\n",
       "      <td>plate_000</td>\n",
       "      <td>well_1</td>\n",
       "      <td>376.20950</td>\n",
       "      <td>patch_attempt_0014_000</td>\n",
       "    </tr>\n",
       "    <tr>\n",
       "      <th>6</th>\n",
       "      <td>2022.03.24_000</td>\n",
       "      <td>plate_000</td>\n",
       "      <td>well_1</td>\n",
       "      <td>376.20950</td>\n",
       "      <td>patch_attempt_0015_000</td>\n",
       "    </tr>\n",
       "  </tbody>\n",
       "</table>\n",
       "</div>"
      ],
      "text/plain": [
       "             Date      Plate    Well   Mutation                    Cell\n",
       "0  2022.03.24_000  plate_000  well_1  376.20950  patch_attempt_0005_000\n",
       "1  2022.03.24_000  plate_000  well_1  376.20950  patch_attempt_0006_000\n",
       "2  2022.03.24_000  plate_000  well_1  376.20950  patch_attempt_0009_000\n",
       "3  2022.03.24_000  plate_000  well_1  376.20950  patch_attempt_0012_000\n",
       "4  2022.03.24_000  plate_000  well_1  376.20950  patch_attempt_0013_000\n",
       "5  2022.03.24_000  plate_000  well_1  376.20950  patch_attempt_0014_000\n",
       "6  2022.03.24_000  plate_000  well_1  376.20950  patch_attempt_0015_000"
      ]
     },
     "execution_count": 7,
     "metadata": {},
     "output_type": "execute_result"
    }
   ],
   "source": [
    "df_new = pd.DataFrame(data_all)\n",
    "df_new"
   ]
  },
  {
   "cell_type": "markdown",
   "metadata": {},
   "source": [
    "- Calculate dFF and add to dataframe"
   ]
  },
  {
   "cell_type": "code",
   "execution_count": 8,
   "metadata": {},
   "outputs": [],
   "source": [
    "def get_dff(trace,fb):\n",
    "    f0 = np.mean(trace[300:400])\n",
    "    df = np.mean(trace[950:1050])-f0\n",
    "    dff = df/(f0-fb)\n",
    "    return dff"
   ]
  },
  {
   "cell_type": "code",
   "execution_count": 9,
   "metadata": {},
   "outputs": [],
   "source": [
    "def get_peak_dff(trace,fb,neg=True):\n",
    "    dff = get_dff(trace,fb)\n",
    "    if neg:\n",
    "        if i<6:\n",
    "            peak_dff = np.min(dff)\n",
    "        else:\n",
    "            peak_dff = np.max(dff)\n",
    "    else:\n",
    "        if i<6:\n",
    "            peak_dff = np.max(dff)\n",
    "        else:\n",
    "            peak_dff = np.min(dff)\n",
    "    return dff"
   ]
  },
  {
   "cell_type": "code",
   "execution_count": 10,
   "metadata": {},
   "outputs": [],
   "source": [
    "# def get_peak_dff(trace,fb,i,neg=True):\n",
    "#     if neg:\n",
    "#         if i < 6:\n",
    "#             f0 = np.min(trace[300:400])\n",
    "#             df = np.min(trace)-f0\n",
    "#         else:\n",
    "#             f0 = np.max(trace[300:400])\n",
    "#             df = np.max(trace)-f0           \n",
    "#     else:\n",
    "#         if i < 6:\n",
    "#             f0 = np.max(trace[300:400])\n",
    "#             df = np.max(trace)-f0\n",
    "#         else:\n",
    "#             f0 = np.min(trace[300:400])\n",
    "#             df = np.min(trace)-f0   \n",
    "        \n",
    "#     dff = df/(f0-fb)\n",
    "#     return dff"
   ]
  },
  {
   "cell_type": "code",
   "execution_count": 11,
   "metadata": {},
   "outputs": [],
   "source": [
    "def get_leak(maFile): # maFile is Clamp2.ma file (for manipulator_2)\n",
    "    data = h5py.File(maFile,'r')\n",
    "    IV_traces = data['data'][()]\n",
    "    leak = np.mean(IV_traces[0][9000:11000])\n",
    "    leak = leak * 1e12 # convert to pA\n",
    "    return leak"
   ]
  },
  {
   "cell_type": "code",
   "execution_count": 12,
   "metadata": {},
   "outputs": [],
   "source": [
    "def get_Ra(maFile,i): # maFile is Clamp2.ma file (for manipulator_2)\n",
    "    data = h5py.File(maFile,'r')    \n",
    "    IV_traces = data['data'][()]\n",
    "    leak = get_leak(maFile)\n",
    "    if i < 6:\n",
    "        I_peak = np.max(IV_traces[0][19000:21000])\n",
    "        I_peak = I_peak * 1e12 # convert to pA\n",
    "        I_peak = I_peak - leak\n",
    "    else:\n",
    "        I_peak = np.min(IV_traces[0][19000:21000])\n",
    "        I_peak = I_peak * 1e12\n",
    "        I_peak = I_peak - leak\n",
    "    V = np.mean(IV_traces[2][39000:41000]) - np.mean(IV_traces[2][9000:11000])\n",
    "    Ra = V*1e6/I_peak # Convert to megaOhm\n",
    "    return Ra"
   ]
  },
  {
   "cell_type": "markdown",
   "metadata": {},
   "source": [
    "### Create mask and get dFF etc"
   ]
  },
  {
   "cell_type": "code",
   "execution_count": 13,
   "metadata": {},
   "outputs": [
    {
     "name": "stdout",
     "output_type": "stream",
     "text": [
      "2022.03.24_000 plate_000 patch_attempt_0005_000\n",
      "2022.03.24_000 plate_000 patch_attempt_0006_000\n",
      "2022.03.24_000 plate_000 patch_attempt_0009_000\n",
      "2022.03.24_000 plate_000 patch_attempt_0012_000\n",
      "2022.03.24_000 plate_000 patch_attempt_0013_000\n",
      "2022.03.24_000 plate_000 patch_attempt_0014_000\n",
      "2022.03.24_000 plate_000 patch_attempt_0015_000\n"
     ]
    },
    {
     "data": {
      "image/png": "[encoded data removed]",
      "text/plain": [
       "<Figure size 1080x1296 with 7 Axes>"
      ]
     },
     "metadata": {
      "needs_background": "light"
     },
     "output_type": "display_data"
    }
   ],
   "source": [
    "plt.figure(figsize=[15,18])\n",
    "\n",
    "dFF_all = []\n",
    "peak_dFF_all = []\n",
    "Leak = []\n",
    "Ra = []\n",
    "Leak_min = []\n",
    "Ra_max = []\n",
    "light_source = []\n",
    "power = []\n",
    "\n",
    "for i,r in df_new.iterrows():\n",
    "    print(r['Date'],r['Plate'],r['Cell'])\n",
    "    \n",
    "    imgData = os.path.join(imgPath,r['Date'],r['Plate'],r['Cell'],'camera_clamp1_000/000/Camera/frames.ma')  \n",
    "    imgData = h5py.File(imgData,'r')\n",
    "    imgData = imgData['data'][()]\n",
    "    \n",
    "    p_val = []\n",
    "    for row in range(imgData.shape[1]):\n",
    "        for c in range(imgData.shape[2]):\n",
    "            a = imgData[100:400,row,c]\n",
    "            b = imgData[750:1050,row,c]\n",
    "            stat, p = mannwhitneyu(a, b, alternative='two-sided')\n",
    "            p_val.append(p)\n",
    "            \n",
    "    p_val_2d = np.reshape(p_val,[imgData.shape[1],imgData.shape[2]])\n",
    "    thre = sorted(p_val)[500] # Pick up 500 lowest p_val\n",
    "    \n",
    "    mask = p_val_2d<thre\n",
    "    ax = plt.subplot(3,20,i+1)\n",
    "    ax.imshow(mask,cmap='gray')\n",
    "    ax.axis('off')\n",
    "  \n",
    "    dff_single_cell = []\n",
    "    peak_dff_single_cell = [] # For Voltron peak-dFF\n",
    "    leaks = []\n",
    "    ra_s = []\n",
    "    for trial in range(9):\n",
    "        imgData = os.path.join(imgPath,r['Date'],r['Plate'],r['Cell'],'camera_clamp1_000',str(trial).zfill(3),'Camera/frames.ma')\n",
    "        ivFile = os.path.join(imgPath,r['Date'],r['Plate'],r['Cell'],'camera_clamp1_000',str(trial).zfill(3),'Clamp1.ma')\n",
    "        \n",
    "        imgData = h5py.File(imgData,'r')\n",
    "        imgData = imgData['data'][()]\n",
    "        leak = get_leak(ivFile)\n",
    "        if trial !=6: # voltage amplitude = 0\n",
    "            ra = get_Ra(ivFile,trial)\n",
    "        \n",
    "        leaks.append(leak)\n",
    "        ra_s.append(ra)\n",
    "        \n",
    "#         f_single_trial = imgData*mask\n",
    "#         f_single_trial = np.sum(f_single_trial,axis=1)\n",
    "#         f_single_trial = np.sum(f_single_trial,axis=1)\n",
    "\n",
    "        f_single_trial = []\n",
    "        for frame in range(imgData.shape[0]):\n",
    "            act_pix = imgData[frame,:,:]*mask\n",
    "            f_single_frame = np.sum(act_pix)/np.sum(mask)\n",
    "            f_single_trial.append(f_single_frame)\n",
    "\n",
    "        imgMean = np.mean(imgData,axis=0)\n",
    "        imgMean = imgMean.flatten()\n",
    "        fb = sorted(imgMean)[int(imgMean.shape[0]*0.06)]\n",
    "        \n",
    "        dff_single_trial = get_dff(f_single_trial,fb)\n",
    "        \n",
    "#         if r['Date'] in ['476.2046','476.4496']:\n",
    "#             neg=False\n",
    "#         else:\n",
    "#             neg=True\n",
    "        neg = True\n",
    "            \n",
    "        peak_dff_single_trial = get_peak_dff(f_single_trial,fb,neg=True)\n",
    "        dff_single_cell.append(dff_single_trial)\n",
    "        peak_dff_single_cell.append(peak_dff_single_trial)\n",
    "    \n",
    "    Leak.append(leaks)\n",
    "    Ra.append(ra_s)\n",
    "    Leak_min.append(np.min(leaks))\n",
    "    Ra_max.append(np.max(ra_s))\n",
    "    \n",
    "    dFF_all.append(dff_single_cell)\n",
    "    peak_dFF_all.append(peak_dff_single_cell)\n",
    "    \n",
    "#     if mutation in ['487.1','487.6']:\n",
    "#         light_source.append('Cyan')\n",
    "#         power.append(10)\n",
    "    \n",
    "#     elif mutation in ['557.1','557.2','558.1','558.2']:\n",
    "#         light_source.append('Yellow')\n",
    "#         power.append(40)\n",
    "#     else:\n",
    "#         light_source.append('Teal')\n",
    "#         power.append(40)\n",
    "\n",
    "    light_source.append('Cyan')\n",
    "    power.append(40)\n",
    "\n",
    "plt.tight_layout()\n",
    "plt.savefig('/Volumes/genie/Presentations/Jihong/GENIE production/220329/mask_220324_plate_000.png')\n",
    "plt.show()"
   ]
  },
  {
   "cell_type": "code",
   "execution_count": null,
   "metadata": {},
   "outputs": [],
   "source": [
    "imgData.shape"
   ]
  },
  {
   "cell_type": "code",
   "execution_count": null,
   "metadata": {},
   "outputs": [],
   "source": [
    "df_new['dFF'] = dFF_all\n",
    "df_new['peak_dFF'] = peak_dFF_all\n",
    "df_new['Leak'] = Leak\n",
    "df_new['Ra'] = Ra\n",
    "df_new['Leak_min'] = Leak_min\n",
    "df_new['Ra_max'] = Ra_max\n",
    "# df_new['Light_source'] = light_source\n",
    "df_new['Light_source'] = 'Cyan'\n",
    "df_new['Power (%)'] = power"
   ]
  },
  {
   "cell_type": "code",
   "execution_count": null,
   "metadata": {},
   "outputs": [],
   "source": [
    "df_new"
   ]
  },
  {
   "cell_type": "markdown",
   "metadata": {},
   "source": [
    "### Append to existing data"
   ]
  },
  {
   "cell_type": "code",
   "execution_count": null,
   "metadata": {},
   "outputs": [],
   "source": [
    "df_new.shape"
   ]
  },
  {
   "cell_type": "code",
   "execution_count": null,
   "metadata": {},
   "outputs": [],
   "source": [
    "sumPath = '/Users/zhengj10/Desktop/Ongoing_project/ASAP_PatcherBot_Pos_to_Neg'"
   ]
  },
  {
   "cell_type": "code",
   "execution_count": null,
   "metadata": {},
   "outputs": [],
   "source": [
    "df = pd.read_pickle(sumPath+'Summary_pos_to_neg_VC_500_lowest_p_val.pkl')\n",
    "print(df.shape)\n"
   ]
  },
  {
   "cell_type": "code",
   "execution_count": null,
   "metadata": {},
   "outputs": [],
   "source": [
    "# df = df.drop(list(np.arange(390,415)))\n",
    "# df"
   ]
  },
  {
   "cell_type": "code",
   "execution_count": null,
   "metadata": {},
   "outputs": [],
   "source": []
  },
  {
   "cell_type": "code",
   "execution_count": null,
   "metadata": {},
   "outputs": [],
   "source": [
    "df = df.append(df_new, ignore_index=True)\n",
    "df.shape\n"
   ]
  },
  {
   "cell_type": "code",
   "execution_count": null,
   "metadata": {},
   "outputs": [],
   "source": [
    "df"
   ]
  },
  {
   "cell_type": "code",
   "execution_count": null,
   "metadata": {},
   "outputs": [],
   "source": [
    "df_new.to_pickle('/Users/zhengj10/Desktop/Ongoing_project/ASAP_PatcherBot_Pos_to_Neg/Summary_pos_to_neg_VC_500_lowest_p_val.pkl')"
   ]
  },
  {
   "cell_type": "code",
   "execution_count": null,
   "metadata": {},
   "outputs": [],
   "source": [
    "df_new"
   ]
  },
  {
   "cell_type": "markdown",
   "metadata": {},
   "source": [
    "### Plot"
   ]
  },
  {
   "cell_type": "code",
   "execution_count": null,
   "metadata": {},
   "outputs": [],
   "source": [
    "# df = pd.read_pickle(sumPath+'summary.pkl')\n",
    "df = pd.read_pickle('/Users/zhengj10/Desktop/Ongoing_project/ASAP_PatcherBot_Pos_to_Neg/Summary_pos_to_neg_VC_500_lowest_p_val.pkl')\n",
    "df.shape"
   ]
  },
  {
   "cell_type": "code",
   "execution_count": null,
   "metadata": {},
   "outputs": [],
   "source": [
    "# df = df.drop(278)\n",
    "# df[df.Mutation=='421.1076']"
   ]
  },
  {
   "cell_type": "code",
   "execution_count": null,
   "metadata": {},
   "outputs": [],
   "source": [
    "threshold = {'leak':-100, 'Ra':30}"
   ]
  },
  {
   "cell_type": "code",
   "execution_count": null,
   "metadata": {},
   "outputs": [],
   "source": [
    "df_p = df[(df.Leak_min>threshold['leak'])&(df.Ra_max<threshold['Ra'])]\n",
    "df_p.shape\n"
   ]
  },
  {
   "cell_type": "markdown",
   "metadata": {},
   "source": [
    "- FV curve"
   ]
  },
  {
   "cell_type": "code",
   "execution_count": null,
   "metadata": {},
   "outputs": [],
   "source": [
    "df"
   ]
  },
  {
   "cell_type": "code",
   "execution_count": null,
   "metadata": {},
   "outputs": [],
   "source": [
    "df_p.Mutation.unique()"
   ]
  },
  {
   "cell_type": "code",
   "execution_count": null,
   "metadata": {},
   "outputs": [],
   "source": [
    "labels_dict = {\n",
    "    # Voltron and Voltron 2\n",
    "    '421.1':'Voltron',\n",
    "    '476.1':'Voltron-ST',\n",
    "    '421.2096':'Voltron 2',\n",
    "    '476.4495': 'Voltron 2-ST',\n",
    "    \n",
    "    # Voltron and Voltron 2 with TiCnC tag\n",
    "    \n",
    "    '607.1':'Voltron-TiCnC',\n",
    "    '607.2':'Voltron 2 TiCnC',\n",
    "    \n",
    "    \n",
    "    '476.2046':'Positron-ST',\n",
    "    '476.4496':'Positron 2-ST',\n",
    "    \n",
    "    \n",
    "    # Voltron Combo mutants\n",
    "    '421.4909':'Voltron N69E R78H A122D V196P',\n",
    "    '421.4919':'Voltron R78H A122D V196P',\n",
    "    '421.4876':'Voltron N69E A122D',\n",
    "    '421.4892':'Voltron N69E V196P',\n",
    "    '421.6051':'Voltron R78H L89C A122D V196P',\n",
    "    '421.5649':'Voltron Y63L N69E L89C A122D',\n",
    "    '421.6052':'Voltron Y63L L89C A122D V196P',\n",
    "    '421.5658':'Voltron Y63L L89C A122D',\n",
    "    '421.4951':'Voltron Y63L V74W L89T',\n",
    "    '421.5657':'Voltron R78H L89C A122D',\n",
    "    '421.5659':'Voltron L89C A122D',\n",
    "    '421.5650':'Voltron N69E L89C A122D',\n",
    "    '421.5657':'Voltron R78H L89C A122D',\n",
    "    '421.5616':'Voltron V74E L89C',\n",
    "    '421.5619':'Voltron Y63L L89C',\n",
    "    '421.5658':'Voltron Y63L L89C A122D',\n",
    "    '421.5649':'Voltron Y63L N69E L89C A122D',\n",
    "    '421.5462':'Voltron N69E R78H N81S L89C A122D',\n",
    "    '421.5951':'Voltron R78H N81S L89C A122D',\n",
    "    '421.6051':'Voltron R78H L89C A122D V196P',\n",
    "    '421.5922':'Voltron Y63L A122D V196P',\n",
    "    '421.6052':'Voltron Y63L L89C A122D V196P',\n",
    "    '421.6004':'Voltron Y63L N69E N81S',\n",
    "    '421.6155':'Voltron Y63L L89T A122D V196P',\n",
    "    '421.5952':'Voltron Y63L N81S L89C A122D',\n",
    "    '421.5444':'Voltron Y63L R78H A122D V196P',\n",
    "    '421.5953':'Voltron V74W R78H N81S L89C A122D',\n",
    "    '421.6232':'Voltron Y63L V74E N81S',\n",
    "    '421.5076':'Voltron Y63L N69E R78H N81S L89C',\n",
    "    '421.5740':'Voltron V74E R78H N81S V196P',\n",
    "    '421.4911':'Voltron N69E A122D V196P',\n",
    "    '421.5152':'Voltron N69E V74W R78H N81S L89C A122H V196P',\n",
    "    '421.5387':'Voltron V74E R78H L89C V196P',\n",
    "    '421.5414':'Voltron V74W R78H L89C A122H V196P',\n",
    "    '421.5448':'Voltron R78H A122H V196P',\n",
    "    '421.5617':'Voltron Y63L R78H L89C',\n",
    "    '421.5751':'Voltron N69E R78H N81S A122D V196P',\n",
    "    '421.4850':'Voltron N69E R78H',\n",
    "    '421.4875':'Voltron Y63L N69E R78H A122D',\n",
    "    '421.4882':'Voltron R78H A122D',\n",
    "    '421.4910':'Voltron Y63L N69E A122D V196P',\n",
    "    '421.5760':'Voltron R78H N81S A122D V196P',\n",
    "    '421.6053':'Voltron L89C A122D V196P',\n",
    "    '421.6038':'Voltron Y63L N69E R78H L89C A122D V196P',\n",
    "    '421.4925':'Voltron N69E R78H A122H V196P',\n",
    "    '421.6138':'Voltron N69E R78H A122D',\n",
    "    '421.5619':'Voltron Y63L L89C',\n",
    "    \n",
    "    # Voltron Single mutants\n",
    "    '421.2907':'Voltron A122X',\n",
    "    '421.2335':'Voltron Y63P',\n",
    "    '421.2336':'Voltron Y63T',\n",
    "    '421.2346':'Voltron Y63I',\n",
    "    '421.3002':'Voltron V74D',\n",
    "    '421.3046':'Voltron V74S',\n",
    "    '421.3028':'Voltron V74W',\n",
    "    '421.303':'Voltron Y146X',\n",
    "    '421.3012':'Voltron V74G',\n",
    "    '421.2379':'Voltron Y63K',\n",
    "    '421.2347':'Voltron Y63D',\n",
    "    '421.3067':'Voltron V74H',\n",
    "    '421.2203':'Voltron R78N',\n",
    "    '421.3006':'Voltron V74P',\n",
    "    '421.1069':'Voltron N69E',\n",
    "    '421.1076':'Voltron N69P',\n",
    "    '421.3054':'Voltron V74E',\n",
    "    '421.3167':'Voltron L89T',\n",
    "\n",
    "    # ASAP1 variants\n",
    "    '376.1':'ASAP1',\n",
    "    '376.13':'ASAP1 (T392V)',\n",
    "    \n",
    "    # ASAP3b variants\n",
    "    '414.1':'GS-ASAP3b',\n",
    "    '376.20950':'ASAP3b (T392V)',\n",
    "    '376.20949':'ASAP3b (T392Y)',\n",
    "    '485.20950':'ASAP3b (T392V)-ST',\n",
    "    '376.20948':'ASAP3b',\n",
    "    '485.20949':'ASAP3b (T392Y)-ST',\n",
    "    '485.6':'ASAP3b-ST',\n",
    "    '376.17995':'ASAP3b N391L T392I',\n",
    "    '376.18153':'ASAP3b N391I T392V',\n",
    "    '533.1':'ASAP3b-Kv',\n",
    "    \n",
    "    # Amy's Feb batch of ASAP3b variants\n",
    "    'ASAP3b.T392V.H':'pCAG0–ASAP3b (T392V)-NL-SOM2 (Lin)',\n",
    "    'ASAP3b.T392V.G':'pCAG0–ASAP3b (T392V)-lTlcnC',\n",
    "    'ASAP3b.T392V.F':'pCAG0–ASAP3b (T392V)-NL-SOM2 (GENIE)',\n",
    "    'ASAP3b.T392V.I':'pCAG0–ASAP3b (T392V)-GSS3-SOM2-lTlcnC',\n",
    "    'ASAP3b.T392V.J':'376.2095 / pCAG-ASAP3b (T392V)',\n",
    "    'ASAP3b.T392V.C':'pCAG0–ASAP3b (T392V)-GSSlong-SOM2 (GENIE)',\n",
    "    'ASAP3b.T392V.B':'pCAG0–ASAP3b (T392V)-KGC-GSS3-ER2-GSS3-SOM2 (GENIE)',\n",
    "    'ASAP3b.T392V.A':'pCAG0–ASAP3b (T392V)-GSS3TR-SOM2 (GENIE)',\n",
    "    'ASAP3b.T392V.E':'485.2095 / pCAG–ASAP3b (T392V)-TS-ER-SOM2',\n",
    "    'ASAP3b.T392V.D':'533.1 / pCAG-ASAP3-Kv (Lin)',    \n",
    "    \n",
    "    # Amy's Jul batch of ASAP3b variants\n",
    "    'N4':'ASAP3b (T392V)-TS-ER-SOM2 miniprep',\n",
    "    'O5':'ASAP3b (T392V)-GSSlong-SOM2 (GENIE)',\n",
    "    'M3':'ASAP3b (T392V)-NL-SOM2 (GENIE)',\n",
    "    'L2':'ASAP3b (T392V)-GSS3-SOM2-lTlcnC',\n",
    "    'Q7':'ASAP3b (T392V)-GSS3TR-SOM2 (GENIE)',\n",
    "    'P6':'ASAP3b (T392V) maxiprep',\n",
    "    'S9':'ASAP3b (T392V)-NL-SOM2 (Lin)',\n",
    "    'T10':'pCAG-ASAP3b (T392V)-lTlcnC',\n",
    "    'R8':'ASAP3b-TS-ER-SOM2 maxiprep',\n",
    "    'W13':'ASAP3b (T392V) miniprep',\n",
    "    'X14':'ASAP3-Kv (Lin) maxiprep',\n",
    "    'Y15':'ASAP3b-TS-ER-SOM2 miniprep',\n",
    "    'U11':'ASAP3-Kv (Lin) miniprep',\n",
    "    'V12':'ASAP3b (T392V)-KGC-GSS3-ER2-GSS3-SOM2 (GENIE)',\n",
    "    'K1':'ASAP3b (T392V)-TS-ER-SOM2 maxiprep',\n",
    "    \n",
    "    # Other Ace2N based sensors\n",
    "    '487.1':'Ace2N-4AA-mNeon',\n",
    "    '557.1':'CMV-VARNAM',\n",
    "    '558.1':'CAG-VARNAM',\n",
    "    '487.6':'Ace2N-4AA-mNeon A122D',\n",
    "    '488.6':'Ace2N-4AA-mNeon A122D-ST',\n",
    "    '558.2':'CAG-VARNAM A122D',\n",
    "    '557.2':'CMV-VARNAM A122D'\n",
    "}\n"
   ]
  },
  {
   "cell_type": "code",
   "execution_count": null,
   "metadata": {},
   "outputs": [],
   "source": [
    "# df"
   ]
  },
  {
   "cell_type": "code",
   "execution_count": null,
   "metadata": {},
   "outputs": [],
   "source": [
    "fig = plt.figure(figsize=[5,5]) # for fig.2a\n",
    "\n",
    "sns.set(style='whitegrid')\n",
    "x = np.linspace(-110,50,9)\n",
    "# sensors = ['476.2046','476.4496']\n",
    "sensors = ['485.20950']\n",
    "# sensors = ['607.1','607.2']\n",
    "ax= plt.subplot(111)\n",
    "\n",
    "colors_dict = {\n",
    "    '607.1':'k',\n",
    "    '607.2':'r',\n",
    "    '476.2046':'#336699',\n",
    "    '476.4496':'#FF3333',\n",
    "    '485.20950':'r'\n",
    "}\n",
    "\n",
    "\n",
    "\n",
    "for sensor in sensors:\n",
    "    df_sensor = df_p[df_p.Mutation==sensor]\n",
    "    mean = np.mean(df_sensor['dFF'].to_list(),axis=0)\n",
    "    sem = np.std(df_sensor['dFF'].to_list(),axis=0)/np.sqrt(len(df_sensor))\n",
    "    mean = np.flip(mean)*100\n",
    "    sem = np.flip(sem)*100\n",
    "    \n",
    "    if sensor=='607.1':    \n",
    "        ax.errorbar(x, mean, yerr=sem, fmt = '-',label = labels_dict[sensor]+'_steady (%d)' %len(df_sensor),\n",
    "               color=colors_dict[sensor])\n",
    "    else:\n",
    "        ax.errorbar(x, mean, yerr=sem, fmt = 'o-',label = labels_dict[sensor]+' (%d)' %len(df_sensor),\n",
    "               color='k')\n",
    "\n",
    "    if sensor=='607.1':\n",
    "        mean = np.mean(df_sensor['peak_dFF'].to_list(),axis=0)\n",
    "        sem = np.std(df_sensor['peak_dFF'].to_list(),axis=0)/np.sqrt(len(df_sensor))\n",
    "        mean = np.flip(mean)*100\n",
    "        sem = np.flip(sem)*100\n",
    "        ax.errorbar(x, mean, yerr=sem, fmt = '--',label = labels_dict[sensor]+'_peak (%d)' %len(df_sensor),\n",
    "                   color='k')\n",
    "    \n",
    "    \n",
    "ax.set_xlabel('mV')\n",
    "ax.set_ylabel('\\u0394F/F (%)')\n",
    "\n",
    "\n",
    "leg = ax.legend(frameon=False)\n",
    "\n",
    "for item in leg.legendHandles: # remove line marker in legend\n",
    "    item.set_visible(False)\n",
    "for artist, text in zip(leg.legendHandles, leg.get_texts()): # set text the same color as line\n",
    "    col = artist.get_color()\n",
    "    if isinstance(col, np.ndarray):\n",
    "        col = col[0]\n",
    "    text.set_color(col)\n",
    "    \n",
    "# plt.setp(ax, xticks=x)\n",
    "# plt.text(-5, -10, 'Voltron V74W', color='gray',size=10)\n",
    "# plt.text(-2, -28, 'Voltron V74G', color='gray', size=10)\n",
    "    \n",
    "plt.xticks(x)\n",
    "plt.tight_layout()\n",
    "# plt.savefig('/Users/zhengj10/Desktop/210427/Ace-2N_mNeon.png')\n",
    "# plt.savefig('/Users/zhengj10/Desktop/v_2.png',dpi=1200)\n",
    "# plt.savefig('/Users/zhengj10/Desktop/GENIE/Manuscript/Voltron 2 paper/Voltron 2 paper_v9/2A_Voltron_Voltron2_dFF.pdf',format='pdf')\n",
    "# plt.savefig('/Users/zhengj10/Desktop/210707/Voltron-TiCnC vs Voltron-TiCnC 2.png')\n",
    "plt.savefig('/Users/zhengj10/Desktop/485.20950.png',format='png')\n",
    "plt.show()"
   ]
  },
  {
   "cell_type": "code",
   "execution_count": null,
   "metadata": {},
   "outputs": [],
   "source": [
    "df_sensor"
   ]
  },
  {
   "cell_type": "code",
   "execution_count": null,
   "metadata": {},
   "outputs": [],
   "source": [
    "sem"
   ]
  },
  {
   "cell_type": "code",
   "execution_count": null,
   "metadata": {},
   "outputs": [],
   "source": [
    "import matplotlib\n",
    "from matplotlib import font_manager\n",
    "matplotlib.rcParams['pdf.fonttype'] = 42\n",
    "matplotlib.rcParams['ps.fonttype'] = 42\n",
    "\n",
    "\n",
    "fig = plt.figure(figsize=[5.7,4.5]) # for Voltron 2 paper single mutants\n",
    "# fig = plt.figure(figsize=[8.4,5]) # for Voltron 2 paper combo mutants_1\n",
    "# fig = plt.figure(figsize=[8.7,5]) # for Voltron 2 paper combo mutants_2\n",
    "# fig = plt.figure(figsize=[4.2,4.5]) # for mNeon & VARNAM\n",
    "# fig = plt.figure(figsize=[3.5,4.7]) # for fig.2a\n",
    "# fig = plt.figure(figsize=[6,5]) # for default plotting with smaller N\n",
    "# fig = plt.figure(figsize=[8.9,5]) # with legend\n",
    "# fig = plt.figure(figsize=[4.75,5]) # without legend\n",
    "\n",
    "sns.set(style='whitegrid')\n",
    "x = np.linspace(-110,50,9)\n",
    "# x = [-110,-90,-50,-30,-10,10,30,50]\n",
    "\n",
    "# sensors = ['421.1','421.2096']\n",
    "\n",
    "# sensors = ['421.1','421.2096','421.3028','421.3012']\n",
    "\n",
    "# sensors = ['421.4909','421.2096']\n",
    "\n",
    "# sensors = ['421.1','476.1']\n",
    "\n",
    "sensors = ['421.1','421.2096','421.3012','421.3028','421.2336','421.2203','421.3067','421.1069','421.1076',\n",
    "           '421.3054', '421.3167']\n",
    "\n",
    "# sensors = ['476.1','607.1','607.2']\n",
    "\n",
    "# sensors = ['421.1','421.2096','421.5414','421.5448','421.5617','421.5751','421.4850','421.4875','421.4882',\n",
    "#            '421.4910','421.5760','421.6053','421.5462','421.5659','421.6004','421.6038','421.4925','421.6138',\n",
    "#            '421.5619']\n",
    "\n",
    "# sensors = ['421.1','421.2096','421.5649','421.4909','421.5657','421.5616','421.6051','421.5951','421.4919',\n",
    "#            '421.4892','421.5658','421.6052','421.4876','421.5650','421.6155','421.5952','421.4911','421.5152',\n",
    "#            '421.5387']\n",
    "\n",
    "# sensors = ['557.1','557.2']\n",
    "\n",
    "# sensors = ['558.1','558.2']\n",
    "\n",
    "# sensors = ['487.1','487.6']\n",
    "\n",
    "# sensors = ['421.1','421.2096','421.3012','421.3028','421.2336','421.2203','421.3067','421.1069','421.1076',\n",
    "#            '421.3054', '421.3167','421.5414','421.5448','421.5617','421.5751','421.4850','421.4875','421.4882',\n",
    "#            '421.4910','421.5760','421.6053','421.5462','421.5659','421.6004','421.6038','421.4925','421.6138',\n",
    "#            '421.5619','421.5649','421.4909','421.5657','421.5616','421.6051','421.5951','421.4919',\n",
    "#            '421.4892','421.5658','421.6052','421.4876','421.5650','421.6155','421.5952','421.4911','421.5152',\n",
    "#            '421.5387']\n",
    "\n",
    "\n",
    "\n",
    "lw = 2\n",
    "ax= plt.subplot(111)\n",
    "\n",
    "n = len(sensors)\n",
    "colors = plt.cm.tab20(np.linspace(0,1,n))\n",
    "c=0\n",
    "\n",
    "alpha = 0.5\n",
    "\n",
    "# mean_all_100mV = []\n",
    "# sem_all_100mV = []\n",
    "# A = []\n",
    "# B = []\n",
    "\n",
    "column_A = []\n",
    "column_B = []\n",
    "\n",
    "\n",
    "C_ANOVA = []\n",
    "\n",
    "data_dict = {}\n",
    "\n",
    "data_dict['Sensor'] = []\n",
    "data_dict['Value'] = []\n",
    "\n",
    "for sensor in sensors:\n",
    "    df_sensor = df_p[df_p.Mutation==sensor]\n",
    "    \n",
    "#     c_ANOVA = []\n",
    "\n",
    "#     for i,r in df_sensor.iterrows():\n",
    "#         c_ANOVA.append(r['peak_dFF'][1])\n",
    "#         data_dict['Sensor'].append(sensor)\n",
    "#         data_dict['Value'].append(r['peak_dFF'][1])\n",
    "                \n",
    "#         if sensor == '557.1':\n",
    "#             A.append(r['peak_dFF'][7]-r['peak_dFF'][5])\n",
    "#         else:\n",
    "#             B.append(r['peak_dFF'][7]-r['peak_dFF'][5])\n",
    "    \n",
    "#     C_ANOVA.append(c_ANOVA)\n",
    "#     mean_sensor_norm = np.mean(mean_sensor)/40.0\n",
    "#     sem_sensor_norm = np.std(mean_sensor)/(40*np.sqrt(len(df_sensor)))\n",
    "\n",
    "#     print(sensor)\n",
    "#     print(mean_sensor_norm)\n",
    "#     print(sem_sensor_norm)\n",
    "        \n",
    "    mean = np.mean(df_sensor['peak_dFF'].to_list(),axis=0)\n",
    "    sem = np.std(df_sensor['peak_dFF'].to_list(),axis=0)/np.sqrt(len(df_sensor))\n",
    "    mean = np.flip(mean)*100\n",
    "    sem = np.flip(sem)*100\n",
    "\n",
    "    column_A.append(labels_dict[sensor])\n",
    "    column_B.append(mean[-2])\n",
    "#     print(mean.shape)\n",
    "#     mean_all_100mV.append(mean[7])\n",
    "#     sem_all_100mV.append(sem[7])\n",
    "\n",
    "    if sensor in ['421.1','487.1','557.1']:\n",
    "#         mean = np.mean(df_sensor['dFF'].to_list(),axis=0)\n",
    "#         sem = np.std(df_sensor['dFF'].to_list(),axis=0)/np.sqrt(len(df_sensor))\n",
    "#         mean = np.flip(mean)*100\n",
    "#         sem = np.flip(sem)*100\n",
    "#         if sensor == '558.1':\n",
    "#             ax.errorbar(x, mean, yerr=sem, fmt = '-',label = labels_dict[sensor]+' (%d)' %len(df_sensor),\n",
    "#                    color='#336699',alpha=alpha)\n",
    "#         else:\n",
    "#             ax.errorbar(x, mean, yerr=sem, fmt = '-',label = labels_dict[sensor]+' (%d)' %len(df_sensor),\n",
    "#                    color='#336699')\n",
    "        \n",
    "\n",
    "        ax.errorbar(x, mean, yerr=sem, fmt = '-',label = labels_dict[sensor]+' (%d)' %len(df_sensor),\n",
    "                    color='#336699')\n",
    "        \n",
    "    elif sensor in ['558.1']:\n",
    "        ax.errorbar(x, mean, yerr=sem, fmt = '-',label = labels_dict[sensor]+' (%d)' %len(df_sensor),\n",
    "                    color='#336699',alpha=alpha)\n",
    "        \n",
    "        \n",
    "    elif sensor in ['421.2096','487.6','557.2']:\n",
    "#         mean = np.mean(df_sensor['dFF'].to_list(),axis=0)\n",
    "#         sem = np.std(df_sensor['dFF'].to_list(),axis=0)/np.sqrt(len(df_sensor))\n",
    "#         mean = np.flip(mean)*100\n",
    "#         sem = np.flip(sem)*100\n",
    "#         if sensor == '558.2':\n",
    "#             ax.errorbar(x, mean, yerr=sem, fmt = '-',label = labels_dict[sensor]+' (%d)' %len(df_sensor),\n",
    "#                    color='#FF3333',alpha=alpha)\n",
    "#         else:\n",
    "            \n",
    "#             ax.errorbar(x, mean, yerr=sem, fmt = '-',label = labels_dict[sensor]+' (%d)' %len(df_sensor),\n",
    "#                    color='#FF3333')\n",
    "\n",
    "        ax.errorbar(x, mean, yerr=sem, fmt = '-',label = labels_dict[sensor]+' (%d)' %len(df_sensor),\n",
    "                    color='#FF3333')\n",
    "        \n",
    "    elif sensor in ['558.2']:\n",
    "\n",
    "        ax.errorbar(x, mean, yerr=sem, fmt = '-',label = labels_dict[sensor]+' (%d)' %len(df_sensor),\n",
    "                    color='#FF3333',alpha=alpha)\n",
    "        \n",
    "    elif sensor in ['476.4495']:\n",
    "\n",
    "        ax.errorbar(x, mean, yerr=sem, fmt = '-',label = labels_dict[sensor]+' (%d)' %len(df_sensor),\n",
    "                    color='k',alpha=0.8)\n",
    "#     elif sensor in ['421.3028','421.3012']:\n",
    "#         mean = np.mean(df_sensor['peak_dFF'].to_list(),axis=0)\n",
    "#         sem = np.std(df_sensor['peak_dFF'].to_list(),axis=0)/np.sqrt(len(df_sensor))\n",
    "#         mean = np.flip(mean)*100\n",
    "#         sem = np.flip(sem)*100\n",
    "#         ax.errorbar(x, mean, yerr=sem, fmt = '-',color='gray')\n",
    "        \n",
    "        \n",
    "    else:\n",
    "#         mean = np.mean(df_sensor['dFF'].to_list(),axis=0)\n",
    "#         sem = np.std(df_sensor['dFF'].to_list(),axis=0)/np.sqrt(len(df_sensor))\n",
    "#         mean = np.flip(mean)*100\n",
    "#         sem = np.flip(sem)*100\n",
    "# #         ax.errorbar(x, mean, yerr=sem, fmt = '-',label = labels_dict[sensor]+' (%d)' %len(df_sensor))\n",
    "        \n",
    "#         ax.errorbar(x, mean, yerr=sem, fmt = '-',label = labels_dict[sensor]+' (%d)' %len(df_sensor),\n",
    "#             color=colors[c])\n",
    "\n",
    "        ax.errorbar(x, mean, yerr=sem, fmt = '-',label = labels_dict[sensor]+' (%d)' %len(df_sensor),\n",
    "                    color=colors[c])\n",
    "        \n",
    "        c+=1\n",
    "    \n",
    "ax.set_xlabel('mV')\n",
    "ax.set_ylabel('\\u0394F/F (%)')\n",
    "\n",
    "## Following legend commands designed for Voltron 2 paper\n",
    "font = font_manager.FontProperties(weight='bold',style='normal')\n",
    "\n",
    "leg = ax.legend(handlelength=0,handletextpad = -0.19, markerscale = 0,bbox_to_anchor=(1,1),frameon=False,prop=font)\n",
    "\n",
    "# leg = ax.legend(markerscale=0, loc='upper right')\n",
    "for item in leg.legendHandles: # remove line marker in legend\n",
    "    item.set_visible(False)\n",
    "for artist, text in zip(leg.legendHandles, leg.get_texts()): # set text the same color as line\n",
    "    col = artist.get_color()\n",
    "    if isinstance(col, np.ndarray):\n",
    "        col = col[0]\n",
    "    text.set_color(col)\n",
    "    \n",
    "# plt.setp(ax, xticks=x)\n",
    "# plt.text(-5, -10, 'Voltron V74W', color='gray',size=10)\n",
    "# plt.text(-2, -28, 'Voltron V74G', color='gray', size=10)\n",
    "    \n",
    "plt.xticks(x)\n",
    "plt.tight_layout()\n",
    "# plt.savefig('/Users/zhengj10/Desktop/210427/Ace-2N_mNeon.png')\n",
    "# plt.savefig('/Users/zhengj10/Desktop/v_2.png',dpi=1200)\n",
    "# plt.savefig('/Users/zhengj10/Desktop/GENIE/Manuscript/Voltron 2 paper/Voltron 2 paper_v9/2A_Voltron_Voltron2_dFF.pdf',format='pdf')\n",
    "# plt.savefig('210427/Voltron 2.png')\n",
    "plt.savefig('/Users/zhengj10/Desktop/2F_Voltron_single_mutants.pdf',format='pdf')\n",
    "plt.show()\n"
   ]
  },
  {
   "cell_type": "code",
   "execution_count": null,
   "metadata": {},
   "outputs": [],
   "source": []
  },
  {
   "cell_type": "code",
   "execution_count": null,
   "metadata": {},
   "outputs": [],
   "source": []
  },
  {
   "cell_type": "code",
   "execution_count": null,
   "metadata": {},
   "outputs": [],
   "source": []
  },
  {
   "cell_type": "code",
   "execution_count": null,
   "metadata": {},
   "outputs": [],
   "source": []
  },
  {
   "cell_type": "code",
   "execution_count": null,
   "metadata": {},
   "outputs": [],
   "source": []
  },
  {
   "cell_type": "code",
   "execution_count": null,
   "metadata": {},
   "outputs": [],
   "source": [
    "df_q = pd.DataFrame({'Sensor':column_A,'dFF_at_30_mV':column_B})"
   ]
  },
  {
   "cell_type": "code",
   "execution_count": null,
   "metadata": {},
   "outputs": [],
   "source": [
    "df_q"
   ]
  },
  {
   "cell_type": "code",
   "execution_count": null,
   "metadata": {},
   "outputs": [],
   "source": [
    "df_q.to_excel('/Users/zhengj10/Desktop/dFF_at_30_mV_single_mutants.xlsx')"
   ]
  },
  {
   "cell_type": "code",
   "execution_count": null,
   "metadata": {},
   "outputs": [],
   "source": [
    "data_dict"
   ]
  },
  {
   "cell_type": "code",
   "execution_count": null,
   "metadata": {},
   "outputs": [],
   "source": [
    "df_stat = pd.DataFrame(data_dict)\n",
    "df_stat"
   ]
  },
  {
   "cell_type": "code",
   "execution_count": null,
   "metadata": {},
   "outputs": [],
   "source": [
    "import statsmodels.api as sa\n",
    "import statsmodels.formula.api as sfa\n",
    "import scikit_posthocs as sp"
   ]
  },
  {
   "cell_type": "code",
   "execution_count": null,
   "metadata": {},
   "outputs": [],
   "source": [
    "lm = sfa.ols('Value ~ C(Sensor)', data=df_stat).fit()\n",
    "anova = sa.stats.anova_lm(lm)\n",
    "print(anova)"
   ]
  },
  {
   "cell_type": "code",
   "execution_count": null,
   "metadata": {},
   "outputs": [],
   "source": [
    "sp.posthoc_dunn(df_stat, val_col='Value', group_col='Sensor', p_adjust='holm')"
   ]
  },
  {
   "cell_type": "code",
   "execution_count": null,
   "metadata": {},
   "outputs": [],
   "source": []
  },
  {
   "cell_type": "code",
   "execution_count": null,
   "metadata": {},
   "outputs": [],
   "source": [
    "from scipy.stats import f_oneway"
   ]
  },
  {
   "cell_type": "code",
   "execution_count": null,
   "metadata": {},
   "outputs": [],
   "source": [
    "f_oneway(C_ANOVA[0],C_ANOVA[1],C_ANOVA[2],C_ANOVA[3])"
   ]
  },
  {
   "cell_type": "code",
   "execution_count": null,
   "metadata": {},
   "outputs": [],
   "source": [
    "C_ANOVA"
   ]
  },
  {
   "cell_type": "code",
   "execution_count": null,
   "metadata": {},
   "outputs": [],
   "source": [
    "from scipy.stats import mannwhitneyu\n",
    "from scipy.stats import f_oneway"
   ]
  },
  {
   "cell_type": "code",
   "execution_count": null,
   "metadata": {},
   "outputs": [],
   "source": [
    "mannwhitneyu(np.array(A)*100/40.0,np.array(B)*100/40.0,alternative='two-sided')"
   ]
  },
  {
   "cell_type": "code",
   "execution_count": null,
   "metadata": {},
   "outputs": [],
   "source": [
    "# np.mean(np.array(B)*100)/40.0\n",
    "np.std(np.array(B)*100/40.0)/np.sqrt(len(B))"
   ]
  },
  {
   "cell_type": "code",
   "execution_count": null,
   "metadata": {},
   "outputs": [],
   "source": [
    "B"
   ]
  },
  {
   "cell_type": "code",
   "execution_count": null,
   "metadata": {},
   "outputs": [],
   "source": [
    "df_sensor"
   ]
  },
  {
   "cell_type": "code",
   "execution_count": null,
   "metadata": {},
   "outputs": [],
   "source": [
    "mean_all_100mV"
   ]
  },
  {
   "cell_type": "code",
   "execution_count": null,
   "metadata": {},
   "outputs": [],
   "source": [
    "sem_all_100mV"
   ]
  },
  {
   "cell_type": "code",
   "execution_count": null,
   "metadata": {},
   "outputs": [],
   "source": [
    "(20.76048358-34.33768864465524)/-20.76048358"
   ]
  },
  {
   "cell_type": "code",
   "execution_count": null,
   "metadata": {},
   "outputs": [],
   "source": [
    "df_sensor"
   ]
  },
  {
   "cell_type": "code",
   "execution_count": null,
   "metadata": {},
   "outputs": [],
   "source": [
    "df_p_sel = df_p[df_p['Mutation'].isin (sensors)]"
   ]
  },
  {
   "cell_type": "code",
   "execution_count": null,
   "metadata": {},
   "outputs": [],
   "source": [
    "fig = plt.figure(figsize=[15,20])\n",
    "q=1\n",
    "for sensor in sensors:\n",
    "    print(sensor)\n",
    "    df_sensor = df_p[df_p.Mutation==sensor]\n",
    "    df_sensor.index = np.arange(len(df_sensor))\n",
    "    df_sensor = df_sensor[2:3]\n",
    "    for i,r in df_sensor.iterrows():\n",
    "        try:\n",
    "            imgData = os.path.join(imgPath,r['Date'],r['Plate'],r['Cell'],'camera_clamp1_000/000/Camera/frames.ma')\n",
    "            imgData = h5py.File(imgData,'r')\n",
    "        except:\n",
    "            imgData = os.path.join(imgPath,r['Date'],r['Plate'],r['Cell'],'camera_clamp2_000/000/Camera/frames.ma')\n",
    "            imgData = h5py.File(imgData,'r')\n",
    "        \n",
    "        imgData = imgData['data'][()]\n",
    "        F = []\n",
    "        for frame in range(imgData.shape[0]):\n",
    "            f = np.mean(imgData[frame,184:224,:])\n",
    "            F.append(f)\n",
    "        ax = plt.subplot(5,4,q)\n",
    "        ax.plot(F)\n",
    "        ax.set_title(sensor)\n",
    "    q+=1\n",
    "plt.show()\n"
   ]
  },
  {
   "cell_type": "code",
   "execution_count": null,
   "metadata": {},
   "outputs": [],
   "source": []
  },
  {
   "cell_type": "code",
   "execution_count": null,
   "metadata": {},
   "outputs": [],
   "source": [
    "len(sensors)\n",
    "# df_sensor"
   ]
  },
  {
   "cell_type": "code",
   "execution_count": null,
   "metadata": {},
   "outputs": [],
   "source": [
    "len(sensors)"
   ]
  },
  {
   "cell_type": "code",
   "execution_count": null,
   "metadata": {},
   "outputs": [],
   "source": [
    "sem.shape"
   ]
  },
  {
   "cell_type": "code",
   "execution_count": null,
   "metadata": {},
   "outputs": [],
   "source": [
    "sem.shape"
   ]
  },
  {
   "cell_type": "code",
   "execution_count": null,
   "metadata": {},
   "outputs": [],
   "source": [
    "plt.figure(figsize=[14,8])\n",
    "df_sensor = df_p[df_p['Mutation']=='421.5951']\n",
    "sub = 1\n",
    "for i,r in df_sensor.iterrows():\n",
    "    ax = plt.subplot(2,4,sub)\n",
    "    ax.plot(x,np.flip(r['dFF']))\n",
    "    sub+=1"
   ]
  },
  {
   "cell_type": "code",
   "execution_count": null,
   "metadata": {},
   "outputs": [],
   "source": []
  },
  {
   "cell_type": "code",
   "execution_count": null,
   "metadata": {},
   "outputs": [],
   "source": []
  },
  {
   "cell_type": "markdown",
   "metadata": {},
   "source": [
    "- dFF trace at 30 mV"
   ]
  },
  {
   "cell_type": "code",
   "execution_count": null,
   "metadata": {},
   "outputs": [],
   "source": [
    "fig = plt.figure(figsize=[1.6,1.4])\n",
    "ax = plt.subplot(111)\n",
    "colors = {'421.1':'#336699','421.2096':'#FF3333'}\n",
    "\n",
    "for sensor in sensors:\n",
    "    print(sensor)\n",
    "    df_sensor = df_p[df_p.Mutation==sensor]\n",
    "    dFF_sensor = []\n",
    "    for i,r in df_sensor.iterrows():\n",
    "\n",
    "        imgData = os.path.join(imgPath,r['Date'],r['Plate'],r['Cell'],'camera_clamp2_000/000/Camera/frames.ma')  \n",
    "        imgData = h5py.File(imgData,'r')\n",
    "        imgData = imgData['data'][()]\n",
    "        p_val = []\n",
    "        for row in range(imgData.shape[1]):\n",
    "            for c in range(imgData.shape[2]):\n",
    "                a = imgData[100:400,row,c]\n",
    "                b = imgData[750:1050,row,c]\n",
    "                stat, p = mannwhitneyu(a, b, alternative='two-sided')\n",
    "                p_val.append(p)\n",
    "\n",
    "        p_val_2d = np.reshape(p_val,[imgData.shape[1],imgData.shape[2]])\n",
    "        thre = sorted(p_val)[500]\n",
    "        mask = p_val_2d<thre\n",
    "\n",
    "\n",
    "        imgData = os.path.join(imgPath,r['Date'],r['Plate'],r['Cell'],'camera_clamp2_000','001','Camera/frames.ma')\n",
    "        ivFile = os.path.join(imgPath,r['Date'],r['Plate'],r['Cell'],'camera_clamp2_000','001','Clamp2.ma')\n",
    "\n",
    "        imgData = h5py.File(imgData,'r')\n",
    "        imgData = imgData['data'][()]\n",
    "\n",
    "        f_single_trial = []\n",
    "        for frame in range(imgData.shape[0]):\n",
    "            act_pix = imgData[frame,:,:]*mask\n",
    "            f_single_frame = np.sum(act_pix)/np.sum(mask)\n",
    "            f_single_trial.append(f_single_frame)\n",
    "\n",
    "        imgMean = np.mean(imgData,axis=0)\n",
    "        imgMean = imgMean.flatten()\n",
    "        fb = sorted(imgMean)[int(imgMean.shape[0]*0.06)]\n",
    "\n",
    "        f0 = np.mean(f_single_trial[300:400])\n",
    "        df = np.array(f_single_trial)-f0\n",
    "        dff = df/(f0-fb)\n",
    "        dFF_sensor.append(dff[250:1750])\n",
    "    dFF_mean = np.mean(dFF_sensor,axis=0)*100\n",
    "    dFF_sem = np.std(dFF_sensor,axis=0)*100/np.sqrt(len(df_sensor))\n",
    "    x = np.arange(1,1501)\n",
    "    ax.plot(x, dFF_mean,color=colors[sensor])\n",
    "    ax.fill_between(x, dFF_mean+dFF_sem, dFF_mean-dFF_sem, alpha=0.2,color=colors[sensor])\n",
    "\n",
    "\n",
    "ax.set_xlabel('ms')\n",
    "ax.set_ylabel('')\n",
    "ax = plt.gca()\n",
    "ax.xaxis.set_label_coords(1.0,-0.095)\n",
    " \n",
    "plt.tight_layout(pad=-0.06)\n",
    "# plt.savefig(sumPath+'dFF_trace_at_30mV.pdf',format='pdf')\n",
    "plt.show()\n"
   ]
  },
  {
   "cell_type": "markdown",
   "metadata": {},
   "source": [
    "### Check individual data"
   ]
  },
  {
   "cell_type": "code",
   "execution_count": null,
   "metadata": {},
   "outputs": [],
   "source": [
    "imgPath = '/Volumes/genie/Jihong_GENIE_stuff/PatcherBot/raw/'\n",
    "date = '2021.03.19_000/'\n",
    "plate = 'plate_001/'\n",
    "cell = 'patch_attempt_0015_000/'\n",
    "imgFile = imgPath + date + plate + cell + '/camera_clamp1_000/000/Camera/frames.ma'\n",
    "ivFile = imgPath + date + plate + cell + '/camera_clamp1_000/008/Clamp1.ma'"
   ]
  },
  {
   "cell_type": "code",
   "execution_count": null,
   "metadata": {},
   "outputs": [],
   "source": [
    "imgData = h5py.File(imgFile,'r')\n",
    "ivData = h5py.File(ivFile,'r')"
   ]
  },
  {
   "cell_type": "code",
   "execution_count": null,
   "metadata": {},
   "outputs": [],
   "source": [
    "imgData = imgData['data'][()]\n",
    "ivData = ivData['data'][()]\n",
    "imgData.shape"
   ]
  },
  {
   "cell_type": "code",
   "execution_count": null,
   "metadata": {},
   "outputs": [],
   "source": [
    "F = []\n",
    "for frame in range(imgData.shape[0]):\n",
    "    f = np.mean(imgData[frame,236:276,:])\n",
    "    F.append(f)"
   ]
  },
  {
   "cell_type": "code",
   "execution_count": null,
   "metadata": {},
   "outputs": [],
   "source": [
    "plt.plot(F)"
   ]
  },
  {
   "cell_type": "code",
   "execution_count": null,
   "metadata": {},
   "outputs": [],
   "source": [
    "plt.plot(ivData[1])"
   ]
  },
  {
   "cell_type": "code",
   "execution_count": null,
   "metadata": {},
   "outputs": [],
   "source": []
  },
  {
   "cell_type": "code",
   "execution_count": null,
   "metadata": {},
   "outputs": [],
   "source": []
  },
  {
   "cell_type": "code",
   "execution_count": null,
   "metadata": {},
   "outputs": [],
   "source": []
  },
  {
   "cell_type": "code",
   "execution_count": null,
   "metadata": {},
   "outputs": [],
   "source": []
  },
  {
   "cell_type": "code",
   "execution_count": null,
   "metadata": {},
   "outputs": [],
   "source": []
  }
 ],
 "metadata": {
  "kernelspec": {
   "display_name": "Python 3 (ipykernel)",
   "language": "python",
   "name": "python3"
  },
  "language_info": {
   "codemirror_mode": {
    "name": "ipython",
    "version": 3
   },
   "file_extension": ".py",
   "mimetype": "text/x-python",
   "name": "python",
   "nbconvert_exporter": "python",
   "pygments_lexer": "ipython3",
   "version": "3.9.7"
  }
 },
 "nbformat": 4,
 "nbformat_minor": 4
}
