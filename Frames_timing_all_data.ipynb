{
 "cells": [
  {
   "cell_type": "code",
   "execution_count": 1,
   "metadata": {},
   "outputs": [],
   "source": [
    "import numpy as np\n",
    "import sys\n",
    "sys.path.append('/Users/zhengj10/Python/Modules')\n",
    "import PatcherBot as pb\n",
    "import pandas as pd\n",
    "from glob import glob\n",
    "import h5py\n",
    "import os\n",
    "import matplotlib.pyplot as plt\n"
   ]
  },
  {
   "cell_type": "code",
   "execution_count": null,
   "metadata": {},
   "outputs": [],
   "source": [
    "# df = pd.read_pickle('/Users/zhengj10/Desktop/Frames drop issue/frames_drops.pkl')"
   ]
  },
  {
   "cell_type": "code",
   "execution_count": null,
   "metadata": {},
   "outputs": [],
   "source": [
    "# df.head()"
   ]
  },
  {
   "cell_type": "code",
   "execution_count": null,
   "metadata": {},
   "outputs": [],
   "source": [
    "# ax = df.stim_idx.plot(kind='hist',bins=20)\n",
    "# # ax.set_xlabel('No. of frames drop')\n",
    "# # ax.set_ylabel('Frequency')\n",
    "# plt.show()"
   ]
  },
  {
   "cell_type": "code",
   "execution_count": null,
   "metadata": {},
   "outputs": [],
   "source": []
  },
  {
   "cell_type": "code",
   "execution_count": null,
   "metadata": {},
   "outputs": [],
   "source": []
  },
  {
   "cell_type": "code",
   "execution_count": null,
   "metadata": {},
   "outputs": [],
   "source": [
    "# def get_peak_idx(trace,samples_per_ms = 40.0):\n",
    "#     peak_indices = np.where(trace==1) # All indices with value equal to 1 (high)\n",
    "#     peak_index = [k for k in range(peak_indices[0].shape[0]) if peak_indices[0][k]-peak_indices[0][k-1]!=1]\n",
    "#     # Note the first peak was counted in different way: it's counted because it's subtracting the last value\n",
    "#     # in the list and the result is not equal to 1.\n",
    "#     peak_index = peak_indices[0][peak_index]\n",
    "#     # peak_indices[0]: remove tuple format\n",
    "#     peak_index = peak_index/samples_per_ms\n",
    "#     for idx in range(peak_index.shape[0]):\n",
    "#         if peak_index[idx]>=500.0:\n",
    "#             break\n",
    "#         else:\n",
    "#             continue\n",
    "#     stim_timing = peak_index[idx]\n",
    "#     return peak_index,idx,stim_timing"
   ]
  },
  {
   "cell_type": "code",
   "execution_count": 3,
   "metadata": {},
   "outputs": [],
   "source": [
    "imgPath = '/Volumes/genie/BenArthur/patch-screen/bot'\n",
    "rawPath = '/Volumes/genie/Jihong_GENIE_stuff'\n",
    "\n",
    "# imgPath = '/Volumes/Backup Plus/patch-screen/bot'\n",
    "# rawPath = '/Volumes/Backup Plus/PatcherBot/raw'"
   ]
  },
  {
   "cell_type": "code",
   "execution_count": 5,
   "metadata": {},
   "outputs": [],
   "source": [
    "date_path = ['2020.02.02_000']\n",
    "# date_path = pb.getPathInfo(imgPath)\n",
    "datePath = []\n",
    "for date in date_path:\n",
    "    if len(date)!=14:\n",
    "        continue\n",
    "    datePath.append(date)"
   ]
  },
  {
   "cell_type": "code",
   "execution_count": null,
   "metadata": {},
   "outputs": [],
   "source": []
  },
  {
   "cell_type": "code",
   "execution_count": 6,
   "metadata": {},
   "outputs": [
    {
     "data": {
      "text/plain": [
       "['2020.02.02_000']"
      ]
     },
     "execution_count": 6,
     "metadata": {},
     "output_type": "execute_result"
    }
   ],
   "source": [
    "datePath"
   ]
  },
  {
   "cell_type": "code",
   "execution_count": 7,
   "metadata": {
    "scrolled": false
   },
   "outputs": [
    {
     "ename": "FileNotFoundError",
     "evalue": "[Errno 2] No such file or directory: '/Volumes/genie/BenArthur/patch-screen/bot/2020.02.02_000'",
     "output_type": "error",
     "traceback": [
      "\u001b[0;31m---------------------------------------------------------------------------\u001b[0m",
      "\u001b[0;31mFileNotFoundError\u001b[0m                         Traceback (most recent call last)",
      "\u001b[0;32m<ipython-input-7-51664f0b24f2>\u001b[0m in \u001b[0;36m<module>\u001b[0;34m\u001b[0m\n\u001b[1;32m      9\u001b[0m \u001b[0;31m#     if len(date)!=14:\u001b[0m\u001b[0;34m\u001b[0m\u001b[0;34m\u001b[0m\u001b[0;34m\u001b[0m\u001b[0m\n\u001b[1;32m     10\u001b[0m     \u001b[0;31m#     continue\u001b[0m\u001b[0;34m\u001b[0m\u001b[0;34m\u001b[0m\u001b[0;34m\u001b[0m\u001b[0m\n\u001b[0;32m---> 11\u001b[0;31m     \u001b[0mplatePath\u001b[0m \u001b[0;34m=\u001b[0m \u001b[0mpb\u001b[0m\u001b[0;34m.\u001b[0m\u001b[0mgetPathInfo\u001b[0m\u001b[0;34m(\u001b[0m\u001b[0mos\u001b[0m\u001b[0;34m.\u001b[0m\u001b[0mpath\u001b[0m\u001b[0;34m.\u001b[0m\u001b[0mjoin\u001b[0m\u001b[0;34m(\u001b[0m\u001b[0mimgPath\u001b[0m\u001b[0;34m,\u001b[0m \u001b[0mdate\u001b[0m\u001b[0;34m)\u001b[0m\u001b[0;34m)\u001b[0m\u001b[0;34m\u001b[0m\u001b[0;34m\u001b[0m\u001b[0m\n\u001b[0m\u001b[1;32m     12\u001b[0m     \u001b[0;32mfor\u001b[0m \u001b[0mplate\u001b[0m \u001b[0;32min\u001b[0m \u001b[0mplatePath\u001b[0m\u001b[0;34m:\u001b[0m\u001b[0;34m\u001b[0m\u001b[0;34m\u001b[0m\u001b[0m\n\u001b[1;32m     13\u001b[0m         \u001b[0mcellPath\u001b[0m \u001b[0;34m=\u001b[0m \u001b[0mpb\u001b[0m\u001b[0;34m.\u001b[0m\u001b[0mgetPathInfo\u001b[0m\u001b[0;34m(\u001b[0m\u001b[0mos\u001b[0m\u001b[0;34m.\u001b[0m\u001b[0mpath\u001b[0m\u001b[0;34m.\u001b[0m\u001b[0mjoin\u001b[0m\u001b[0;34m(\u001b[0m\u001b[0mimgPath\u001b[0m\u001b[0;34m,\u001b[0m \u001b[0mdate\u001b[0m\u001b[0;34m,\u001b[0m \u001b[0mplate\u001b[0m\u001b[0;34m)\u001b[0m\u001b[0;34m)\u001b[0m\u001b[0;34m\u001b[0m\u001b[0;34m\u001b[0m\u001b[0m\n",
      "\u001b[0;32m~/Python/Modules/PatcherBot.py\u001b[0m in \u001b[0;36mgetPathInfo\u001b[0;34m(path)\u001b[0m\n\u001b[1;32m      5\u001b[0m \u001b[0;34m\u001b[0m\u001b[0m\n\u001b[1;32m      6\u001b[0m \u001b[0;32mdef\u001b[0m \u001b[0mgetPathInfo\u001b[0m\u001b[0;34m(\u001b[0m\u001b[0mpath\u001b[0m\u001b[0;34m)\u001b[0m\u001b[0;34m:\u001b[0m\u001b[0;34m\u001b[0m\u001b[0;34m\u001b[0m\u001b[0m\n\u001b[0;32m----> 7\u001b[0;31m     \u001b[0mfilePath\u001b[0m \u001b[0;34m=\u001b[0m \u001b[0;34m[\u001b[0m\u001b[0md\u001b[0m \u001b[0;32mfor\u001b[0m \u001b[0md\u001b[0m \u001b[0;32min\u001b[0m \u001b[0mos\u001b[0m\u001b[0;34m.\u001b[0m\u001b[0mlistdir\u001b[0m\u001b[0;34m(\u001b[0m\u001b[0mpath\u001b[0m\u001b[0;34m)\u001b[0m \u001b[0;32mif\u001b[0m \u001b[0mos\u001b[0m\u001b[0;34m.\u001b[0m\u001b[0mpath\u001b[0m\u001b[0;34m.\u001b[0m\u001b[0misdir\u001b[0m\u001b[0;34m(\u001b[0m\u001b[0mos\u001b[0m\u001b[0;34m.\u001b[0m\u001b[0mpath\u001b[0m\u001b[0;34m.\u001b[0m\u001b[0mjoin\u001b[0m\u001b[0;34m(\u001b[0m\u001b[0mpath\u001b[0m\u001b[0;34m,\u001b[0m \u001b[0md\u001b[0m\u001b[0;34m)\u001b[0m\u001b[0;34m)\u001b[0m\u001b[0;34m]\u001b[0m\u001b[0;34m\u001b[0m\u001b[0;34m\u001b[0m\u001b[0m\n\u001b[0m\u001b[1;32m      8\u001b[0m     \u001b[0mfilePath\u001b[0m \u001b[0;34m=\u001b[0m \u001b[0msorted\u001b[0m\u001b[0;34m(\u001b[0m\u001b[0mfilePath\u001b[0m\u001b[0;34m)\u001b[0m\u001b[0;34m\u001b[0m\u001b[0;34m\u001b[0m\u001b[0m\n\u001b[1;32m      9\u001b[0m     \u001b[0;32mreturn\u001b[0m \u001b[0mfilePath\u001b[0m\u001b[0;34m\u001b[0m\u001b[0;34m\u001b[0m\u001b[0m\n",
      "\u001b[0;31mFileNotFoundError\u001b[0m: [Errno 2] No such file or directory: '/Volumes/genie/BenArthur/patch-screen/bot/2020.02.02_000'"
     ]
    }
   ],
   "source": [
    "# datePath = pb.getPathInfo(imgPath)\n",
    "no_cells = 0\n",
    "frame_offset_all_cells = []\n",
    "idx_all_cells = []\n",
    "timing_all_cells = []\n",
    "traces = []\n",
    "cell_id = []\n",
    "for date in datePath:\n",
    "#     if len(date)!=14:\n",
    "    #     continue\n",
    "    platePath = pb.getPathInfo(os.path.join(imgPath, date))\n",
    "    for plate in platePath:\n",
    "        cellPath = pb.getPathInfo(os.path.join(imgPath, date, plate))\n",
    "        for cell in(cellPath):\n",
    "            print(cell)\n",
    "            if not os.path.exists(os.path.join(rawPath, date, plate, cell)):\n",
    "                continue\n",
    "            matFiles = glob(os.path.join(imgPath, date, plate, cell) + '/*.mat')\n",
    "            if len(matFiles) != 9:\n",
    "                continue\n",
    "            idx_all_trials = []\n",
    "            timing_all_trials = []\n",
    "            frame_offset_all_trials = []\n",
    "#             for trial in range(9):\n",
    "            daqData = os.path.join(rawPath,date,plate,cell,'camera_clamp2_000','000','Camera','daqResult.ma')\n",
    "            imgData = os.path.join(rawPath,date,plate,cell,'camera_clamp2_000','000','Camera','frames.ma')\n",
    "            if not os.path.exists(daqData):\n",
    "                daqData = os.path.join(rawPath,date,plate,cell,'camera_clamp1_000','000','Camera','daqResult.ma')\n",
    "            if not os.path.exists(imgData):\n",
    "                imgData = os.path.join(rawPath,date,plate,cell,'camera_clamp1_000','000','Camera','frames.ma')\n",
    "            daqData = h5py.File(daqData,'r')\n",
    "            V_SYNC = daqData['data'][()][1]\n",
    "            if np.max(V_SYNC)<1:\n",
    "                print(os.path.join(rawPath, date, plate, cell)+'no vsync signal')\n",
    "                continue\n",
    "\n",
    "            peak_indices = np.where(V_SYNC==1)\n",
    "            peak_index = [k for k in range(peak_indices[0].shape[0]) if peak_indices[0][k]-peak_indices[0][k-1]!=1]\n",
    "            peak_index = peak_indices[0][peak_index]\n",
    "            peak_index = peak_index/40.0 # change to ms\n",
    "#             print(peak_index.shape)\n",
    "            for i in range(peak_index.shape[0]):\n",
    "                if peak_index[i]>=500.0:\n",
    "#                     print(i,peak_index[i])\n",
    "                    idx = i\n",
    "                    break\n",
    "\n",
    "            stim_timing = peak_index[idx]\n",
    "            idx_all_trials.append(idx)\n",
    "\n",
    "            timing_all_trials.append(stim_timing)\n",
    "            imgData = h5py.File(imgData,'r')\n",
    "            imgData = imgData['data'][()]\n",
    "\n",
    "            F_all = []\n",
    "            for frame in range(imgData.shape[0]):\n",
    "                F = np.mean(imgData[frame,240:272,:])\n",
    "                F_all.append(F)\n",
    "            for frame in range(len(F_all[idx-20:idx+20])-3):\n",
    "                if np.abs(F_all[idx-20:idx+20][frame+3]-F_all[idx-20:idx+20][frame])>3:\n",
    "                    F_change_idx = frame+1\n",
    "                    break\n",
    "            frame_offset = 20-F_change_idx\n",
    "            frame_offset_all_trials.append(frame_offset)\n",
    "            frame_offset_all_cells.append(frame_offset_all_trials)\n",
    "            idx_all_cells.append(idx_all_trials)\n",
    "            timing_all_cells.append(timing_all_trials)\n",
    "            traces.append(F_all[idx-20:idx+20])\n",
    "            \n",
    "            no_cells += 1\n",
    "            cell_id.append(date+'/'+plate+'/'+cell)\n",
    "        print(os.path.join(rawPath, date, plate))"
   ]
  },
  {
   "cell_type": "code",
   "execution_count": null,
   "metadata": {},
   "outputs": [],
   "source": [
    "# plt.plot(F_all[idx-30:idx+10])"
   ]
  },
  {
   "cell_type": "code",
   "execution_count": null,
   "metadata": {},
   "outputs": [],
   "source": [
    "no_cells"
   ]
  },
  {
   "cell_type": "code",
   "execution_count": null,
   "metadata": {},
   "outputs": [],
   "source": [
    "# frame_offset_all_cells\n",
    "# len(idx_all_cells)\n",
    "# len(timing_all_cells)"
   ]
  },
  {
   "cell_type": "code",
   "execution_count": null,
   "metadata": {},
   "outputs": [],
   "source": [
    "frame_offset = []\n",
    "for i in range(len(frame_offset_all_cells)):\n",
    "    frame_offset.append(frame_offset_all_cells[i][0])\n"
   ]
  },
  {
   "cell_type": "code",
   "execution_count": null,
   "metadata": {},
   "outputs": [],
   "source": [
    "stim_idx = []\n",
    "for i in range(len(idx_all_cells)):\n",
    "    stim_idx.append(idx_all_cells[i][0])\n",
    "    "
   ]
  },
  {
   "cell_type": "code",
   "execution_count": null,
   "metadata": {},
   "outputs": [],
   "source": [
    "stim_timing = []\n",
    "for i in range(len(timing_all_cells)):\n",
    "    stim_timing.append(timing_all_cells[i][0])\n",
    "    "
   ]
  },
  {
   "cell_type": "code",
   "execution_count": null,
   "metadata": {},
   "outputs": [],
   "source": [
    "x = np.arange(no_cells)\n",
    "plt.scatter(x,frame_offset)\n",
    "# plt.ylim([479,485])\n",
    "# plt.xlim([500,600])\n",
    "# plt.savefig('/Users/zhengj10/Desktop/frames_offset_individual.png')\n",
    "plt.show()"
   ]
  },
  {
   "cell_type": "code",
   "execution_count": null,
   "metadata": {},
   "outputs": [],
   "source": [
    "np.median(frame_offset)"
   ]
  },
  {
   "cell_type": "code",
   "execution_count": null,
   "metadata": {},
   "outputs": [],
   "source": [
    "plt.plot(F_all[idx-20:idx+20])\n",
    "# plt.ylim([479,485])\n",
    "# plt.xlim([2,10])\n"
   ]
  },
  {
   "cell_type": "code",
   "execution_count": null,
   "metadata": {},
   "outputs": [],
   "source": [
    "plt.plot(stim_idx)\n",
    "plt.ylim([470,494])\n",
    "plt.tight_layout()\n",
    "# plt.savefig('/Users/zhengj10/Desktop/stim_idx.png')\n",
    "plt.show()"
   ]
  },
  {
   "cell_type": "code",
   "execution_count": null,
   "metadata": {},
   "outputs": [],
   "source": [
    "plt.plot(stim_timing)\n",
    "# plt.ylim([500.5,500.9])\n",
    "plt.tight_layout()\n",
    "# plt.savefig('/Users/zhengj10/Desktop/frames_offset.png')\n",
    "plt.show()"
   ]
  },
  {
   "cell_type": "code",
   "execution_count": null,
   "metadata": {},
   "outputs": [],
   "source": [
    "fig = plt.figure()\n",
    "traces = df.traces.to_list()\n",
    "x = np.linspace(-20,19,40)\n",
    "for trace in traces:\n",
    "    trace = np.array(trace)\n",
    "    plt.plot(x,trace-trace[0])\n",
    "plt.xlabel('frame#')\n",
    "plt.ylabel('deltaF')\n",
    "plt.tight_layout()\n",
    "# fig.savefig('/Users/zhengj10/Desktop/Frames drop issue/traces.png',dpi=1200)\n"
   ]
  },
  {
   "cell_type": "code",
   "execution_count": null,
   "metadata": {},
   "outputs": [],
   "source": [
    "df = pd.DataFrame({'cell_id':cell_id,'frame_offset':frame_offset,'stim_idx':stim_idx,'stim_timing':stim_idx,'traces':traces})"
   ]
  },
  {
   "cell_type": "code",
   "execution_count": null,
   "metadata": {},
   "outputs": [],
   "source": [
    "df"
   ]
  },
  {
   "cell_type": "code",
   "execution_count": null,
   "metadata": {},
   "outputs": [],
   "source": [
    "# df.to_pickle('/Users/zhengj10/Desktop/frames_drops.pkl')\n",
    "# df.to_excel('/Users/zhengj10/Desktop/frames_drops.xlsx')"
   ]
  },
  {
   "cell_type": "code",
   "execution_count": null,
   "metadata": {},
   "outputs": [],
   "source": [
    "ax = df.frame_offset.plot(kind='hist')\n",
    "ax.set_xlabel('No. of frames offset')\n",
    "ax.set_ylabel('Frequency')\n",
    "plt.show()"
   ]
  },
  {
   "cell_type": "code",
   "execution_count": null,
   "metadata": {},
   "outputs": [],
   "source": [
    "ax = df.frame_offset.plot()\n",
    "ax.set_xlabel('Cell #')\n",
    "ax.set_ylabel('No. of frames offset')\n",
    "plt.show()"
   ]
  },
  {
   "cell_type": "code",
   "execution_count": null,
   "metadata": {},
   "outputs": [],
   "source": [
    "dataPath = '/Volumes/Backup Plus/PatcherBot/raw/2020.10.15_000/plate_000/patch_attempt_0000_000/camera_clamp1_000/008'"
   ]
  },
  {
   "cell_type": "code",
   "execution_count": null,
   "metadata": {},
   "outputs": [],
   "source": [
    "# dataFile = dataPath+'/Clamp1.ma'\n",
    "# dataFile = dataPath+'Camera/daqResult.ma'\n",
    "dataFile = dataPath+'/Camera/frames.ma'"
   ]
  },
  {
   "cell_type": "code",
   "execution_count": null,
   "metadata": {},
   "outputs": [],
   "source": [
    "data = h5py.File(dataFile,'r')"
   ]
  },
  {
   "cell_type": "code",
   "execution_count": null,
   "metadata": {},
   "outputs": [],
   "source": [
    "# data = data['data'][()]\n",
    "data = data['info']['0']['values'][()]"
   ]
  },
  {
   "cell_type": "code",
   "execution_count": null,
   "metadata": {},
   "outputs": [],
   "source": [
    "data.shape"
   ]
  },
  {
   "cell_type": "code",
   "execution_count": null,
   "metadata": {},
   "outputs": [],
   "source": [
    "plt.plot(data[0])\n",
    "plt.xlim([19990,20010])"
   ]
  },
  {
   "cell_type": "code",
   "execution_count": null,
   "metadata": {},
   "outputs": [],
   "source": [
    "F_all = []\n",
    "for frame in range(data.shape[0]):\n",
    "    F = np.mean(data[frame,234:274,:])\n",
    "    F_all.append(F)"
   ]
  },
  {
   "cell_type": "code",
   "execution_count": null,
   "metadata": {},
   "outputs": [],
   "source": [
    "plt.plot(F_all)\n",
    "plt.xlim([460,500])"
   ]
  },
  {
   "cell_type": "code",
   "execution_count": null,
   "metadata": {},
   "outputs": [],
   "source": [
    "timing_info = []\n",
    "for timing in range(data.shape[0]-1):\n",
    "    timing_info.append(data[timing+1]-data[timing])\n",
    "\n",
    "plt.plot(timing_info)"
   ]
  },
  {
   "cell_type": "code",
   "execution_count": null,
   "metadata": {},
   "outputs": [],
   "source": [
    "class student:\n",
    "    def __init__(self,name,age):\n",
    "        self.name = name\n",
    "        self.age = age\n",
    "    def double_it(self,x):\n",
    "        return x*2\n",
    "    def get_mean(self,x):\n",
    "        return np.mean(x)\n",
    "\n",
    "        "
   ]
  },
  {
   "cell_type": "code",
   "execution_count": null,
   "metadata": {},
   "outputs": [],
   "source": [
    "jihong = student('jihong',22)"
   ]
  },
  {
   "cell_type": "code",
   "execution_count": null,
   "metadata": {},
   "outputs": [],
   "source": [
    "jihong.age"
   ]
  },
  {
   "cell_type": "code",
   "execution_count": null,
   "metadata": {},
   "outputs": [],
   "source": [
    "jihong.double_it(10)"
   ]
  },
  {
   "cell_type": "code",
   "execution_count": null,
   "metadata": {},
   "outputs": [],
   "source": [
    "jihong.get_mean([2,3])"
   ]
  },
  {
   "cell_type": "code",
   "execution_count": null,
   "metadata": {},
   "outputs": [],
   "source": []
  }
 ],
 "metadata": {
  "kernelspec": {
   "display_name": "Python 3",
   "language": "python",
   "name": "python3"
  },
  "language_info": {
   "codemirror_mode": {
    "name": "ipython",
    "version": 3
   },
   "file_extension": ".py",
   "mimetype": "text/x-python",
   "name": "python",
   "nbconvert_exporter": "python",
   "pygments_lexer": "ipython3",
   "version": "3.7.6"
  }
 },
 "nbformat": 4,
 "nbformat_minor": 4
}
