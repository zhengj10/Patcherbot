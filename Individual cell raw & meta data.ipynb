{
 "cells": [
  {
   "cell_type": "code",
   "execution_count": null,
   "metadata": {},
   "outputs": [],
   "source": []
  },
  {
   "cell_type": "code",
   "execution_count": 1,
   "metadata": {},
   "outputs": [],
   "source": [
    "import h5py\n",
    "import os\n",
    "import numpy as np\n",
    "from skimage.io import imsave\n",
    "import matplotlib.pyplot as plt\n"
   ]
  },
  {
   "cell_type": "code",
   "execution_count": 4,
   "metadata": {},
   "outputs": [],
   "source": [
    "dataFile = '/Volumes/genie/Jihong_GENIE_stuff/patch_attempt_0010_000/sIPSC&imaging_000/000/Camera/frames.ma'\n",
    "imgData = h5py.File(dataFile,'r')\n",
    "imgData = imgData['data'][()]\n",
    "\n",
    "# imsave('/Users/zhengj10/Desktop/a/'+str(trial+1)+'.tif',imgData)"
   ]
  },
  {
   "cell_type": "code",
   "execution_count": 5,
   "metadata": {},
   "outputs": [
    {
     "data": {
      "text/plain": [
       "(1500, 508, 508)"
      ]
     },
     "execution_count": 5,
     "metadata": {},
     "output_type": "execute_result"
    }
   ],
   "source": [
    "imgData.shape"
   ]
  },
  {
   "cell_type": "markdown",
   "metadata": {},
   "source": [
    "### Single cell"
   ]
  },
  {
   "cell_type": "code",
   "execution_count": 30,
   "metadata": {},
   "outputs": [],
   "source": [
    "imgPath = '/Volumes/genie/Jihong_GENIE_stuff/PatcherBot/raw/2020.11.25_000/plate_011/patch_attempt_0041_000/camera_clamp1_000/'"
   ]
  },
  {
   "cell_type": "code",
   "execution_count": 31,
   "metadata": {},
   "outputs": [
    {
     "name": "stderr",
     "output_type": "stream",
     "text": [
      "/Users/zhengj10/opt/anaconda3/lib/python3.7/site-packages/ipykernel_launcher.py:8: UserWarning: /Users/zhengj10/Desktop/a/1.tif is a low contrast image\n",
      "  \n",
      "/Users/zhengj10/opt/anaconda3/lib/python3.7/site-packages/ipykernel_launcher.py:8: UserWarning: /Users/zhengj10/Desktop/a/2.tif is a low contrast image\n",
      "  \n",
      "/Users/zhengj10/opt/anaconda3/lib/python3.7/site-packages/ipykernel_launcher.py:8: UserWarning: /Users/zhengj10/Desktop/a/3.tif is a low contrast image\n",
      "  \n",
      "/Users/zhengj10/opt/anaconda3/lib/python3.7/site-packages/ipykernel_launcher.py:8: UserWarning: /Users/zhengj10/Desktop/a/4.tif is a low contrast image\n",
      "  \n",
      "/Users/zhengj10/opt/anaconda3/lib/python3.7/site-packages/ipykernel_launcher.py:8: UserWarning: /Users/zhengj10/Desktop/a/5.tif is a low contrast image\n",
      "  \n",
      "/Users/zhengj10/opt/anaconda3/lib/python3.7/site-packages/ipykernel_launcher.py:8: UserWarning: /Users/zhengj10/Desktop/a/6.tif is a low contrast image\n",
      "  \n",
      "/Users/zhengj10/opt/anaconda3/lib/python3.7/site-packages/ipykernel_launcher.py:8: UserWarning: /Users/zhengj10/Desktop/a/7.tif is a low contrast image\n",
      "  \n",
      "/Users/zhengj10/opt/anaconda3/lib/python3.7/site-packages/ipykernel_launcher.py:8: UserWarning: /Users/zhengj10/Desktop/a/8.tif is a low contrast image\n",
      "  \n",
      "/Users/zhengj10/opt/anaconda3/lib/python3.7/site-packages/ipykernel_launcher.py:8: UserWarning: /Users/zhengj10/Desktop/a/9.tif is a low contrast image\n",
      "  \n"
     ]
    }
   ],
   "source": [
    "imgData_all = []\n",
    "for trial in range(9):\n",
    "#     dataFile = imgPath+str(trial).zfill(3)+'/Camera/frames.ma'\n",
    "    dataFile = imgPath+str(trial).zfill(3)+'/Camera/frames.ma'\n",
    "    imgData = h5py.File(dataFile,'r')\n",
    "    imgData = imgData['data'][()]\n",
    "#     imgData_mean.append(imgData_all[:1000,:,:])\n",
    "    imsave('/Users/zhengj10/Desktop/a/'+str(trial+1)+'.tif',imgData)"
   ]
  },
  {
   "cell_type": "code",
   "execution_count": null,
   "metadata": {},
   "outputs": [],
   "source": []
  },
  {
   "cell_type": "code",
   "execution_count": 9,
   "metadata": {},
   "outputs": [],
   "source": [
    "# imgData_mean = np.mean(imgData_all,axis=0)"
   ]
  },
  {
   "cell_type": "code",
   "execution_count": 10,
   "metadata": {},
   "outputs": [],
   "source": [
    "# imsave('/Users/zhengj10/Desktop/a/mean.tif',imgData_mean)"
   ]
  },
  {
   "cell_type": "code",
   "execution_count": null,
   "metadata": {},
   "outputs": [],
   "source": []
  },
  {
   "cell_type": "markdown",
   "metadata": {},
   "source": [
    "### Check imaging data"
   ]
  },
  {
   "cell_type": "code",
   "execution_count": 2,
   "metadata": {},
   "outputs": [
    {
     "data": {
      "text/plain": [
       "True"
      ]
     },
     "execution_count": 2,
     "metadata": {},
     "output_type": "execute_result"
    }
   ],
   "source": [
    "# imgPath = '/Users/zhengj10/Desktop/PatcherBot/processed/2020.02.03_000/'\n",
    "# imgPath = '/Users/zhengj10/Desktop/2020.08.04_000/'\n",
    "# imgPath = '/Volumes/genie/Jihong_GENIE_stuff/PatcherBot/raw/2020.06.25_000/'\n",
    "imgPath = '/Volumes/genie/Jihong_GENIE_stuff/PatcherBot/raw/2020.10.07_000/plate_000/patch_attempt_0000_000/camera_clamp1_000/000/Camera'\n",
    "os.path.exists(imgPath)\n"
   ]
  },
  {
   "cell_type": "code",
   "execution_count": 4,
   "metadata": {},
   "outputs": [],
   "source": [
    "def getSessionInfo(imgPath):\n",
    "    filePath = [d for d in os.listdir(imgPath) if os.path.isdir(os.path.join(imgPath, d))]\n",
    "    filePath = sorted(filePath)\n",
    "    return filePath\n"
   ]
  },
  {
   "cell_type": "code",
   "execution_count": 5,
   "metadata": {},
   "outputs": [
    {
     "data": {
      "text/plain": [
       "['plate_000', 'plate_001']"
      ]
     },
     "execution_count": 5,
     "metadata": {},
     "output_type": "execute_result"
    }
   ],
   "source": [
    "platePath = getSessionInfo(imgPath)\n",
    "platePath\n",
    "# trialPath = getSessionInfo(cellPath)\n",
    "# cellPath"
   ]
  },
  {
   "cell_type": "code",
   "execution_count": 6,
   "metadata": {},
   "outputs": [
    {
     "data": {
      "text/plain": [
       "['patch_attempt_0000_000',\n",
       " 'patch_attempt_0001_000',\n",
       " 'patch_attempt_0002_000',\n",
       " 'patch_attempt_0004_000',\n",
       " 'patch_attempt_0005_000',\n",
       " 'patch_attempt_0006_000',\n",
       " 'patch_attempt_0007_000',\n",
       " 'patch_attempt_0008_000',\n",
       " 'patch_attempt_0009_000',\n",
       " 'patch_attempt_0010_000',\n",
       " 'patch_attempt_0011_000',\n",
       " 'patch_attempt_0012_000']"
      ]
     },
     "execution_count": 6,
     "metadata": {},
     "output_type": "execute_result"
    }
   ],
   "source": [
    "cellPath = getSessionInfo(os.path.join(imgPath, platePath[0]))\n",
    "cellPath = sorted(cellPath)\n",
    "cellPath\n",
    "                          "
   ]
  },
  {
   "cell_type": "code",
   "execution_count": 6,
   "metadata": {},
   "outputs": [],
   "source": [
    "# channelPath = '/camera_clamp2_000/'\n",
    "# trialPath = getSessionInfo(imgPath + cellPath[0] + channelPath)\n",
    "# trialPath\n"
   ]
  },
  {
   "cell_type": "code",
   "execution_count": 7,
   "metadata": {},
   "outputs": [],
   "source": [
    "def get_dff(imgData):\n",
    "    f0 = np.mean(imgData[100:200, int(imgData.shape[1]/2)-20:int(imgData.shape[1]/2)+20, :])\n",
    "    print(f0)\n",
    "\n",
    "    fb = np.mean(imgData[100:200,:20,:20])\n",
    "    print(fb)\n",
    "#         fb = np.min(imgData[frame,:,:])\n",
    "    f = np.mean(imgData[900:1100, int(imgData.shape[1]/2)-20:int(imgData.shape[1]/2)+20, :])\n",
    "    print(f)\n",
    "    dff = (f-f0)/(f0-fb)\n",
    "    return dff\n"
   ]
  },
  {
   "cell_type": "code",
   "execution_count": 8,
   "metadata": {},
   "outputs": [],
   "source": [
    "# def get_dff(imgData):\n",
    "#     dff_list = []\n",
    "#     f0 = np.mean(imgData[100:200, int(imgData.shape[1]/2)-20:int(imgData.shape[1]/2)+20, :])\n",
    "#     for frame in range(imgData.shape[0]):\n",
    "#         fb = np.mean(imgData[frame,:20,:20])\n",
    "# #         fb = np.min(imgData[frame,:,:])\n",
    "#         f = np.mean(imgData[frame, int(imgData.shape[1]/2)-20:int(imgData.shape[1]/2)+20, :])\n",
    "#         dff = (f-f0)/(f0-fb)\n",
    "#         dff_list.append(dff)\n",
    "#     return dff_list\n"
   ]
  },
  {
   "cell_type": "code",
   "execution_count": 9,
   "metadata": {},
   "outputs": [],
   "source": [
    "# def get_dff(imgData, neg = True):\n",
    "#     dff_list = []\n",
    "#     f0 = np.mean(imgData[100:200, int(imgData.shape[1]/2)-20:int(imgData.shape[1]/2)+20, :])\n",
    "#     for frame in range(imgData.shape[0]):\n",
    "#         fb = np.mean(imgData[frame,:20,:20])\n",
    "# #         fb = np.min(imgData[frame,:,:])\n",
    "#         if neg:\n",
    "#             f = np.max(imgData)\n",
    "#         else:\n",
    "#             f = np.min(imgData)\n",
    "#         dff = (f-f0)/(f0-fb)\n",
    "#         dff_list.append(dff)\n",
    "#     return dff_list\n"
   ]
  },
  {
   "cell_type": "code",
   "execution_count": 13,
   "metadata": {
    "scrolled": false
   },
   "outputs": [
    {
     "name": "stdout",
     "output_type": "stream",
     "text": [
      "patch_attempt_0026_000\n",
      "1946.1861341463414\n",
      "1756.2023\n",
      "2006.858100609756\n",
      "1917.961481707317\n",
      "1752.378475\n",
      "1930.2724542682927\n",
      "1887.7616341463415\n",
      "1748.966475\n",
      "1879.1642865853657\n",
      "1865.2713414634147\n",
      "1747.29845\n",
      "1851.0320975609757\n"
     ]
    }
   ],
   "source": [
    "dff_all = []\n",
    "for plate in platePath:\n",
    "    for cell in cellPath:\n",
    "        if not os.path.exists(os.path.join(imgPath,plate,cell,'camera_clamp1_000')):\n",
    "            continue\n",
    "        dff_list = []\n",
    "        print(cell)\n",
    "        for trial in range(4):\n",
    "\n",
    "            dataFile = imgPath +  '/' + plate + '/' + cell + '/camera_clamp1_000/' + str(trial).zfill(3) + '/Camera/frames.ma'\n",
    "\n",
    "            data = h5py.File(dataFile,'r')\n",
    "            imgData = data['data'][()]\n",
    "            dff_single = get_dff(imgData)\n",
    "            dff_list.append(dff_single)\n"
   ]
  },
  {
   "cell_type": "code",
   "execution_count": 14,
   "metadata": {},
   "outputs": [
    {
     "data": {
      "text/plain": [
       "(3599, 508, 41)"
      ]
     },
     "execution_count": 14,
     "metadata": {},
     "output_type": "execute_result"
    }
   ],
   "source": [
    "imgData.shape"
   ]
  },
  {
   "cell_type": "code",
   "execution_count": 15,
   "metadata": {},
   "outputs": [
    {
     "data": {
      "image/png": "[encoded data removed]",
      "text/plain": [
       "<Figure size 432x288 with 1 Axes>"
      ]
     },
     "metadata": {
      "needs_background": "light"
     },
     "output_type": "display_data"
    }
   ],
   "source": [
    "plt.plot(dff_list)\n",
    "plt.show()"
   ]
  },
  {
   "cell_type": "code",
   "execution_count": 17,
   "metadata": {},
   "outputs": [
    {
     "ename": "ValueError",
     "evalue": "The lengths of the data (1) and the error 4 do not match",
     "output_type": "error",
     "traceback": [
      "\u001b[0;31m---------------------------------------------------------------------------\u001b[0m",
      "\u001b[0;31mValueError\u001b[0m                                Traceback (most recent call last)",
      "\u001b[0;32m<ipython-input-17-7fc77ae4d411>\u001b[0m in \u001b[0;36m<module>\u001b[0;34m\u001b[0m\n\u001b[1;32m      9\u001b[0m \u001b[0;34m\u001b[0m\u001b[0m\n\u001b[1;32m     10\u001b[0m \u001b[0;34m\u001b[0m\u001b[0m\n\u001b[0;32m---> 11\u001b[0;31m \u001b[0mplt\u001b[0m\u001b[0;34m.\u001b[0m\u001b[0merrorbar\u001b[0m\u001b[0;34m(\u001b[0m\u001b[0mx\u001b[0m\u001b[0;34m,\u001b[0m \u001b[0mdff_all_mean\u001b[0m\u001b[0;34m,\u001b[0m \u001b[0myerr\u001b[0m\u001b[0;34m=\u001b[0m\u001b[0mdff_all_sem\u001b[0m\u001b[0;34m,\u001b[0m \u001b[0mfmt\u001b[0m\u001b[0;34m=\u001b[0m\u001b[0;34m'o-'\u001b[0m\u001b[0;34m,\u001b[0m \u001b[0mmarkersize\u001b[0m\u001b[0;34m=\u001b[0m\u001b[0;34m'8'\u001b[0m\u001b[0;34m,\u001b[0m \u001b[0mlw\u001b[0m\u001b[0;34m=\u001b[0m\u001b[0;36m2\u001b[0m\u001b[0;34m)\u001b[0m\u001b[0;34m\u001b[0m\u001b[0;34m\u001b[0m\u001b[0m\n\u001b[0m\u001b[1;32m     12\u001b[0m \u001b[0;31m# fig.savefig('/Users/zhengj10/Desktop/414.1.png')\u001b[0m\u001b[0;34m\u001b[0m\u001b[0;34m\u001b[0m\u001b[0;34m\u001b[0m\u001b[0m\n\u001b[1;32m     13\u001b[0m \u001b[0mplt\u001b[0m\u001b[0;34m.\u001b[0m\u001b[0mshow\u001b[0m\u001b[0;34m(\u001b[0m\u001b[0;34m)\u001b[0m\u001b[0;34m\u001b[0m\u001b[0;34m\u001b[0m\u001b[0m\n",
      "\u001b[0;32m~/opt/anaconda3/lib/python3.7/site-packages/matplotlib/pyplot.py\u001b[0m in \u001b[0;36merrorbar\u001b[0;34m(x, y, yerr, xerr, fmt, ecolor, elinewidth, capsize, barsabove, lolims, uplims, xlolims, xuplims, errorevery, capthick, data, **kwargs)\u001b[0m\n\u001b[1;32m   2559\u001b[0m         \u001b[0mlolims\u001b[0m\u001b[0;34m=\u001b[0m\u001b[0mlolims\u001b[0m\u001b[0;34m,\u001b[0m \u001b[0muplims\u001b[0m\u001b[0;34m=\u001b[0m\u001b[0muplims\u001b[0m\u001b[0;34m,\u001b[0m \u001b[0mxlolims\u001b[0m\u001b[0;34m=\u001b[0m\u001b[0mxlolims\u001b[0m\u001b[0;34m,\u001b[0m\u001b[0;34m\u001b[0m\u001b[0;34m\u001b[0m\u001b[0m\n\u001b[1;32m   2560\u001b[0m         \u001b[0mxuplims\u001b[0m\u001b[0;34m=\u001b[0m\u001b[0mxuplims\u001b[0m\u001b[0;34m,\u001b[0m \u001b[0merrorevery\u001b[0m\u001b[0;34m=\u001b[0m\u001b[0merrorevery\u001b[0m\u001b[0;34m,\u001b[0m \u001b[0mcapthick\u001b[0m\u001b[0;34m=\u001b[0m\u001b[0mcapthick\u001b[0m\u001b[0;34m,\u001b[0m\u001b[0;34m\u001b[0m\u001b[0;34m\u001b[0m\u001b[0m\n\u001b[0;32m-> 2561\u001b[0;31m         **({\"data\": data} if data is not None else {}), **kwargs)\n\u001b[0m\u001b[1;32m   2562\u001b[0m \u001b[0;34m\u001b[0m\u001b[0m\n\u001b[1;32m   2563\u001b[0m \u001b[0;34m\u001b[0m\u001b[0m\n",
      "\u001b[0;32m~/opt/anaconda3/lib/python3.7/site-packages/matplotlib/__init__.py\u001b[0m in \u001b[0;36minner\u001b[0;34m(ax, data, *args, **kwargs)\u001b[0m\n\u001b[1;32m   1597\u001b[0m     \u001b[0;32mdef\u001b[0m \u001b[0minner\u001b[0m\u001b[0;34m(\u001b[0m\u001b[0max\u001b[0m\u001b[0;34m,\u001b[0m \u001b[0;34m*\u001b[0m\u001b[0margs\u001b[0m\u001b[0;34m,\u001b[0m \u001b[0mdata\u001b[0m\u001b[0;34m=\u001b[0m\u001b[0;32mNone\u001b[0m\u001b[0;34m,\u001b[0m \u001b[0;34m**\u001b[0m\u001b[0mkwargs\u001b[0m\u001b[0;34m)\u001b[0m\u001b[0;34m:\u001b[0m\u001b[0;34m\u001b[0m\u001b[0;34m\u001b[0m\u001b[0m\n\u001b[1;32m   1598\u001b[0m         \u001b[0;32mif\u001b[0m \u001b[0mdata\u001b[0m \u001b[0;32mis\u001b[0m \u001b[0;32mNone\u001b[0m\u001b[0;34m:\u001b[0m\u001b[0;34m\u001b[0m\u001b[0;34m\u001b[0m\u001b[0m\n\u001b[0;32m-> 1599\u001b[0;31m             \u001b[0;32mreturn\u001b[0m \u001b[0mfunc\u001b[0m\u001b[0;34m(\u001b[0m\u001b[0max\u001b[0m\u001b[0;34m,\u001b[0m \u001b[0;34m*\u001b[0m\u001b[0mmap\u001b[0m\u001b[0;34m(\u001b[0m\u001b[0msanitize_sequence\u001b[0m\u001b[0;34m,\u001b[0m \u001b[0margs\u001b[0m\u001b[0;34m)\u001b[0m\u001b[0;34m,\u001b[0m \u001b[0;34m**\u001b[0m\u001b[0mkwargs\u001b[0m\u001b[0;34m)\u001b[0m\u001b[0;34m\u001b[0m\u001b[0;34m\u001b[0m\u001b[0m\n\u001b[0m\u001b[1;32m   1600\u001b[0m \u001b[0;34m\u001b[0m\u001b[0m\n\u001b[1;32m   1601\u001b[0m         \u001b[0mbound\u001b[0m \u001b[0;34m=\u001b[0m \u001b[0mnew_sig\u001b[0m\u001b[0;34m.\u001b[0m\u001b[0mbind\u001b[0m\u001b[0;34m(\u001b[0m\u001b[0max\u001b[0m\u001b[0;34m,\u001b[0m \u001b[0;34m*\u001b[0m\u001b[0margs\u001b[0m\u001b[0;34m,\u001b[0m \u001b[0;34m**\u001b[0m\u001b[0mkwargs\u001b[0m\u001b[0;34m)\u001b[0m\u001b[0;34m\u001b[0m\u001b[0;34m\u001b[0m\u001b[0m\n",
      "\u001b[0;32m~/opt/anaconda3/lib/python3.7/site-packages/matplotlib/axes/_axes.py\u001b[0m in \u001b[0;36merrorbar\u001b[0;34m(self, x, y, yerr, xerr, fmt, ecolor, elinewidth, capsize, barsabove, lolims, uplims, xlolims, xuplims, errorevery, capthick, **kwargs)\u001b[0m\n\u001b[1;32m   3421\u001b[0m \u001b[0;34m\u001b[0m\u001b[0m\n\u001b[1;32m   3422\u001b[0m         \u001b[0;32mif\u001b[0m \u001b[0myerr\u001b[0m \u001b[0;32mis\u001b[0m \u001b[0;32mnot\u001b[0m \u001b[0;32mNone\u001b[0m\u001b[0;34m:\u001b[0m\u001b[0;34m\u001b[0m\u001b[0;34m\u001b[0m\u001b[0m\n\u001b[0;32m-> 3423\u001b[0;31m             \u001b[0mlower\u001b[0m\u001b[0;34m,\u001b[0m \u001b[0mupper\u001b[0m \u001b[0;34m=\u001b[0m \u001b[0mextract_err\u001b[0m\u001b[0;34m(\u001b[0m\u001b[0myerr\u001b[0m\u001b[0;34m,\u001b[0m \u001b[0my\u001b[0m\u001b[0;34m)\u001b[0m\u001b[0;34m\u001b[0m\u001b[0;34m\u001b[0m\u001b[0m\n\u001b[0m\u001b[1;32m   3424\u001b[0m             \u001b[0;31m# select points without upper/lower limits in y and\u001b[0m\u001b[0;34m\u001b[0m\u001b[0;34m\u001b[0m\u001b[0;34m\u001b[0m\u001b[0m\n\u001b[1;32m   3425\u001b[0m             \u001b[0;31m# draw normal errorbars for these points\u001b[0m\u001b[0;34m\u001b[0m\u001b[0;34m\u001b[0m\u001b[0;34m\u001b[0m\u001b[0m\n",
      "\u001b[0;32m~/opt/anaconda3/lib/python3.7/site-packages/matplotlib/axes/_axes.py\u001b[0m in \u001b[0;36mextract_err\u001b[0;34m(err, data)\u001b[0m\n\u001b[1;32m   3365\u001b[0m                 \u001b[0;32mif\u001b[0m \u001b[0mlen\u001b[0m\u001b[0;34m(\u001b[0m\u001b[0mdata\u001b[0m\u001b[0;34m)\u001b[0m \u001b[0;34m!=\u001b[0m \u001b[0mlen\u001b[0m\u001b[0;34m(\u001b[0m\u001b[0me\u001b[0m\u001b[0;34m)\u001b[0m\u001b[0;34m:\u001b[0m\u001b[0;34m\u001b[0m\u001b[0;34m\u001b[0m\u001b[0m\n\u001b[1;32m   3366\u001b[0m                     raise ValueError(\n\u001b[0;32m-> 3367\u001b[0;31m                         \u001b[0;34mf\"The lengths of the data ({len(data)}) and the \"\u001b[0m\u001b[0;34m\u001b[0m\u001b[0;34m\u001b[0m\u001b[0m\n\u001b[0m\u001b[1;32m   3368\u001b[0m                         f\"error {len(e)} do not match\")\n\u001b[1;32m   3369\u001b[0m             \u001b[0mlow\u001b[0m \u001b[0;34m=\u001b[0m \u001b[0;34m[\u001b[0m\u001b[0mv\u001b[0m \u001b[0;34m-\u001b[0m \u001b[0me\u001b[0m \u001b[0;32mfor\u001b[0m \u001b[0mv\u001b[0m\u001b[0;34m,\u001b[0m \u001b[0me\u001b[0m \u001b[0;32min\u001b[0m \u001b[0mzip\u001b[0m\u001b[0;34m(\u001b[0m\u001b[0mdata\u001b[0m\u001b[0;34m,\u001b[0m \u001b[0ma\u001b[0m\u001b[0;34m)\u001b[0m\u001b[0;34m]\u001b[0m\u001b[0;34m\u001b[0m\u001b[0;34m\u001b[0m\u001b[0m\n",
      "\u001b[0;31mValueError\u001b[0m: The lengths of the data (1) and the error 4 do not match"
     ]
    },
    {
     "data": {
      "image/png": "[encoded data removed]",
      "text/plain": [
       "<Figure size 432x288 with 1 Axes>"
      ]
     },
     "metadata": {
      "needs_background": "light"
     },
     "output_type": "display_data"
    }
   ],
   "source": [
    "fig = plt.figure()\n",
    "dff_all_mean = np.mean(dff_all, axis=0)\n",
    "# dff_all_sem = np.std(dff_all, axis = 0)/(len(dff_all)-1)\n",
    "# dff_all_sem = np.zeros(9)\n",
    "# x = np.linspace(-100,40,9)\n",
    "\n",
    "dff_all_sem = np.zeros(4)\n",
    "x = np.linspace(-100,-40,4)\n",
    "\n",
    "\n",
    "plt.errorbar(x, dff_all_mean, yerr=dff_all_sem, fmt='o-', markersize='8', lw=2)\n",
    "# fig.savefig('/Users/zhengj10/Desktop/414.1.png')\n",
    "plt.show()\n"
   ]
  },
  {
   "cell_type": "code",
   "execution_count": 18,
   "metadata": {},
   "outputs": [],
   "source": [
    "# dff_all_sensor={}"
   ]
  },
  {
   "cell_type": "code",
   "execution_count": null,
   "metadata": {},
   "outputs": [],
   "source": [
    "dff_all_sensor['414.1'] = dff_all_mean"
   ]
  },
  {
   "cell_type": "code",
   "execution_count": null,
   "metadata": {},
   "outputs": [],
   "source": [
    "dff_all_sensor"
   ]
  },
  {
   "cell_type": "code",
   "execution_count": null,
   "metadata": {},
   "outputs": [],
   "source": [
    "fig = plt.figure(figsize=[8,8])\n",
    "# colormap = {'376.1':'#1f77b4', '376.13': '#ff7f0e', '414.1': '#2ca02c'}\n",
    "for sensor in['376.1','376.13','414.1']:\n",
    "    dff_all_mean = dff_all_sensor[sensor]\n",
    "    dff_all_sem = np.std(dff_all, axis = 0)/(len(dff_all)-1)\n",
    "    x = np.linspace(-100,40,9)\n",
    "    plt.errorbar(x, dff_all_mean, yerr=dff_all_sem, fmt='o-', markersize='8', lw=2, label=sensor)\n",
    "    plt.legend()\n",
    "fig.savefig('/Users/zhengj10/Desktop/SfN/PatcherBot.pdf', dpi=1200)\n",
    "plt.show()\n"
   ]
  },
  {
   "cell_type": "code",
   "execution_count": null,
   "metadata": {},
   "outputs": [],
   "source": []
  },
  {
   "cell_type": "code",
   "execution_count": null,
   "metadata": {},
   "outputs": [],
   "source": [
    "x = data['info']['0']['values']\n"
   ]
  },
  {
   "cell_type": "markdown",
   "metadata": {},
   "source": [
    "### Check meta data"
   ]
  },
  {
   "cell_type": "code",
   "execution_count": 63,
   "metadata": {},
   "outputs": [],
   "source": []
  },
  {
   "cell_type": "code",
   "execution_count": 55,
   "metadata": {},
   "outputs": [
    {
     "data": {
      "image/png": "[encoded data removed]",
      "text/plain": [
       "<Figure size 1080x216 with 1 Axes>"
      ]
     },
     "metadata": {
      "needs_background": "light"
     },
     "output_type": "display_data"
    }
   ],
   "source": [
    "fig = plt.figure(figsize=[15,3])\n",
    "# fig = plt.figure(figsize=[4,3])\n",
    "dataFile = '/Volumes/Backup Plus/PatcherBot/raw/2021.05.19_000/plate_000/patch_attempt_0006_000/I_clamp1_000/000/Clamp1.ma'\n",
    "data = h5py.File(dataFile,'r')\n",
    "meta = data['data'][()]\n",
    "trace = meta[1,:]*1000\n",
    "x = np.arange(trace.shape[0])/40000\n",
    "ax = plt.subplot(111)\n",
    "# ax.plot(trace[3000:44000])\n",
    "# ax.plot(trace[39000:80000])\n",
    "# ax.plot(trace[159000:200000])\n",
    "# ax.plot(x[319000:327000],trace[319000:327000],color='k',alpha=0.75,lw=0.5)\n",
    "ax.plot(x,trace,color='k',alpha=0.75,lw=0.5)\n",
    "ax.spines['right'].set_visible(False)\n",
    "ax.spines['top'].set_visible(False)\n",
    "ax.set_xlabel('s')\n",
    "ax.set_ylabel('mV')\n",
    "plt.tight_layout()\n",
    "fig.savefig('/Users/zhengj10/Desktop/210526/Voltron 2-ST & JF549/JF549_1uM_APs.png',dpi=1200)\n",
    "plt.show()\n"
   ]
  },
  {
   "cell_type": "code",
   "execution_count": 45,
   "metadata": {},
   "outputs": [
    {
     "name": "stderr",
     "output_type": "stream",
     "text": [
      "/Users/zhengj10/opt/anaconda3/lib/python3.7/site-packages/ipykernel_launcher.py:21: UserWarning: /Users/zhengj10/Desktop/210526/Voltron 2-ST & JF549/JF549_200nM.tif is a low contrast image\n"
     ]
    },
    {
     "name": "stdout",
     "output_type": "stream",
     "text": [
      "(14811, 508, 41)\n"
     ]
    }
   ],
   "source": [
    "# imgPath = '/Volumes/Backup Plus/PatcherBot/raw/2021.05.21_000/plate_001/'\n",
    "\n",
    "# for trial in range(28,45):\n",
    "\n",
    "#     dataFile = os.path.join(imgPath,'patch_attempt_00'+str(trial).zfill(2)+'_000','I_clamp1_000/000/Camera/frames.ma')\n",
    "#     if not os.path.exists(dataFile):\n",
    "#         continue\n",
    "#     if trial in [28,31,36]:\n",
    "#         continue\n",
    "#     imgData = h5py.File(dataFile,'r')\n",
    "#     imgData = imgData['data'][()]\n",
    "#     imsave('/Users/zhengj10/Desktop/210526/Positron 2-ST & JF549/BAPTA_JF549_1uM_15min_'+str(trial)+'.tif',imgData)\n",
    "#     print(imgData.shape)\n",
    "\n",
    "\n",
    "imgPath = '/Volumes/Backup Plus/PatcherBot/raw/2021.05.19_000/plate_000'\n",
    "dataFile = os.path.join(imgPath,'patch_attempt_0006_000','I_clamp1_000/000/Camera/frames.ma')\n",
    "\n",
    "imgData = h5py.File(dataFile,'r')\n",
    "imgData = imgData['data'][()]\n",
    "imsave('/Users/zhengj10/Desktop/210526/Voltron 2-ST & JF549/JF549_200nM.tif',imgData)\n",
    "print(imgData.shape)\n"
   ]
  },
  {
   "cell_type": "code",
   "execution_count": 46,
   "metadata": {},
   "outputs": [],
   "source": [
    "imgData_mean = np.mean(imgData,axis=0)"
   ]
  },
  {
   "cell_type": "code",
   "execution_count": 48,
   "metadata": {},
   "outputs": [
    {
     "data": {
      "image/png": "[encoded data removed]",
      "text/plain": [
       "<Figure size 576x72 with 1 Axes>"
      ]
     },
     "metadata": {
      "needs_background": "light"
     },
     "output_type": "display_data"
    }
   ],
   "source": [
    "plt.figure(figsize=[8,1])\n",
    "plt.imshow(np.transpose(imgData_mean),cmap='gray',vmax=1800)\n",
    "plt.axis('off')\n",
    "plt.tight_layout()\n",
    "plt.savefig('/Users/zhengj10/Desktop/210526/Voltron 2-ST & JF549/JF549_200nM_dFF_1kHz.png')\n",
    "plt.show()\n"
   ]
  },
  {
   "cell_type": "code",
   "execution_count": 52,
   "metadata": {},
   "outputs": [],
   "source": [
    "import pandas as pd\n",
    "df = pd.read_csv('/Users/zhengj10/Desktop/210526/Voltron 2-ST & JF549/F_JF549.csv')"
   ]
  },
  {
   "cell_type": "code",
   "execution_count": 54,
   "metadata": {},
   "outputs": [
    {
     "data": {
      "image/png": "[encoded data removed]",
      "text/plain": [
       "<Figure size 1080x144 with 1 Axes>"
      ]
     },
     "metadata": {
      "needs_background": "light"
     },
     "output_type": "display_data"
    }
   ],
   "source": [
    "fig = plt.figure(figsize=[15,2])\n",
    "# fig = plt.figure(figsize=[4,1.8])\n",
    "ax = plt.subplot(111)\n",
    "F = df.Mean.to_list()\n",
    "x = np.arange(len(F))*15/len(F)\n",
    "F0 = np.mean(F[:10])\n",
    "Fb = np.min(imgData_mean)\n",
    "dFF = 100*(np.array(df.Mean.to_list())-F0)/(F0-Fb)\n",
    "ax.plot(x,dFF,color='k',alpha=0.75,lw=0.5)\n",
    "# ax.plot(x[900:2000],dFF[900:2000],color='k',alpha=0.75,lw=0.5)\n",
    "# ax.plot(x[3900:4280],dFF[3900:4280],color='k',alpha=0.75,lw=0.5)\n",
    "# ax.plot(x[7845:8040],dFF[7845:8040],color='k',alpha=0.75,lw=0.5)\n",
    "ax.spines['right'].set_visible(False)\n",
    "ax.spines['top'].set_visible(False)\n",
    "ax.spines['bottom'].set_visible(False)\n",
    "# ax.set_xlabel('s')\n",
    "ax.set_ylabel('\\u0394F/F0 (%)')\n",
    "ax.axes.get_xaxis().set_visible(False)\n",
    "plt.tight_layout()\n",
    "fig.savefig('/Users/zhengj10/Desktop/210526/Voltron 2-ST & JF549/JF549_200nMdFF.png',dpi=1200)\n",
    "plt.show()\n"
   ]
  },
  {
   "cell_type": "code",
   "execution_count": 51,
   "metadata": {},
   "outputs": [],
   "source": [
    "dataPath = '/Volumes/Backup Plus/PatcherBot/raw/2020.09.23_000/plate_004/patch_attempt_0030_000/I_clamp1_000/'"
   ]
  },
  {
   "cell_type": "code",
   "execution_count": 61,
   "metadata": {},
   "outputs": [
    {
     "data": {
      "image/png": "[encoded data removed]",
      "text/plain": [
       "<Figure size 864x360 with 10 Axes>"
      ]
     },
     "metadata": {
      "needs_background": "light"
     },
     "output_type": "display_data"
    }
   ],
   "source": [
    "fig = plt.figure(figsize=[12,5])\n",
    "ylim_min = []\n",
    "ylim_max = []\n",
    "for trial in range(10):\n",
    "    dataFile = dataPath + str(trial).zfill(3) + '/Clamp1.ma'\n",
    "\n",
    "    data = h5py.File(dataFile,'r')\n",
    "    meta = data['data'][()]\n",
    "    trace = meta[1,:]\n",
    "    ax = plt.subplot(2,5,trial+1)\n",
    "    ax.plot(trace[7990:8100])\n",
    "    ylim_min.append(ax.get_ylim()[0])\n",
    "    ylim_max.append(ax.get_ylim()[1])\n",
    "    ax.set_ylim([-0.07480988389814429,0.040812890150413506])\n",
    "ax.set_ylim([np.min(ylim_min),np.max(ylim_max)])\n",
    "plt.show()\n"
   ]
  },
  {
   "cell_type": "code",
   "execution_count": 59,
   "metadata": {},
   "outputs": [
    {
     "data": {
      "text/plain": [
       "0.040812890150413506"
      ]
     },
     "execution_count": 59,
     "metadata": {},
     "output_type": "execute_result"
    }
   ],
   "source": [
    "def get_Rs(logFile):\n",
    "    important = []\n",
    "    keep_phrases = [\"whole cell\"]\n",
    "    with open(logFile) as f:\n",
    "        f = f.readlines()\n",
    "    for line in f:\n",
    "        for phrase in keep_phrases:\n",
    "            if phrase in line:\n",
    "                important.append(line)\n",
    "                break\n",
    "    seal_start = eval(important[0])\n",
    "    seal_end = eval(important[1])\n",
    "    seal_time = seal_end['event_time'] - seal_start['event_time'] - 5 # 5 sec sleep while pressure at -1kpa\n",
    "    return(seal_time)"
   ]
  },
  {
   "cell_type": "code",
   "execution_count": null,
   "metadata": {},
   "outputs": [],
   "source": []
  },
  {
   "cell_type": "code",
   "execution_count": null,
   "metadata": {},
   "outputs": [],
   "source": []
  },
  {
   "cell_type": "code",
   "execution_count": 22,
   "metadata": {},
   "outputs": [],
   "source": [
    "dataPath = '/Volumes/genie/Jihong_GENIE_stuff/PatcherBot/opt_stim/patch_attempt_0004_000/opto_stim_000/'"
   ]
  },
  {
   "cell_type": "code",
   "execution_count": 11,
   "metadata": {},
   "outputs": [],
   "source": [
    "# os.path.exists(dataPath)"
   ]
  },
  {
   "cell_type": "code",
   "execution_count": 32,
   "metadata": {},
   "outputs": [],
   "source": [
    "trace_all = []\n",
    "for trial in range(10):\n",
    "    dataFile = dataPath + str(trial).zfill(3) + '/Clamp1.ma'\n",
    "    data = h5py.File(dataFile,'r')\n",
    "    meta = data['data'][()]\n",
    "    trace = meta[1,:]\n",
    "    trace_all.append(trace)\n"
   ]
  },
  {
   "cell_type": "code",
   "execution_count": 33,
   "metadata": {},
   "outputs": [],
   "source": [
    "trace_mean = np.mean(trace_all, axis=0)"
   ]
  },
  {
   "cell_type": "code",
   "execution_count": 45,
   "metadata": {},
   "outputs": [
    {
     "data": {
      "text/plain": [
       "(-1.777267103567586e-11, 3.444598022660853e-11)"
      ]
     },
     "execution_count": 45,
     "metadata": {},
     "output_type": "execute_result"
    },
    {
     "data": {
      "image/png": "[encoded data removed]",
      "text/plain": [
       "<Figure size 432x288 with 1 Axes>"
      ]
     },
     "metadata": {
      "needs_background": "light"
     },
     "output_type": "display_data"
    }
   ],
   "source": [
    "ax = plt.subplot(111)\n",
    "x = np.linspace(0,2000,80000)\n",
    "\n",
    "ax.plot(x,trace_mean)\n",
    "\n",
    "ax.set_ylim([480,700])\n",
    "ax.get_ylim()"
   ]
  },
  {
   "cell_type": "code",
   "execution_count": 11,
   "metadata": {},
   "outputs": [],
   "source": []
  },
  {
   "cell_type": "code",
   "execution_count": 17,
   "metadata": {},
   "outputs": [
    {
     "data": {
      "text/plain": [
       "[<matplotlib.lines.Line2D at 0x7fe35974f590>]"
      ]
     },
     "execution_count": 17,
     "metadata": {},
     "output_type": "execute_result"
    },
    {
     "data": {
      "image/png": "[encoded data removed]",
      "text/plain": [
       "<Figure size 432x288 with 1 Axes>"
      ]
     },
     "metadata": {
      "needs_background": "light"
     },
     "output_type": "display_data"
    }
   ],
   "source": []
  },
  {
   "cell_type": "code",
   "execution_count": 13,
   "metadata": {},
   "outputs": [
    {
     "data": {
      "text/plain": [
       "(3, 80000)"
      ]
     },
     "execution_count": 13,
     "metadata": {},
     "output_type": "execute_result"
    }
   ],
   "source": [
    "meta.shape"
   ]
  },
  {
   "cell_type": "code",
   "execution_count": 42,
   "metadata": {},
   "outputs": [
    {
     "data": {
      "text/plain": [
       "{'a': 1}"
      ]
     },
     "execution_count": 42,
     "metadata": {},
     "output_type": "execute_result"
    }
   ],
   "source": [
    "a"
   ]
  },
  {
   "cell_type": "code",
   "execution_count": 29,
   "metadata": {},
   "outputs": [],
   "source": [
    "import sys\n",
    "sys.path.append('/Users/zhengj10/Python/Modules')\n",
    "from WC_ephys_Voltron import get_data, mem_test, get_rmp, get_threshold, get_AP_params, low_pass"
   ]
  },
  {
   "cell_type": "code",
   "execution_count": 39,
   "metadata": {},
   "outputs": [
    {
     "data": {
      "text/plain": [
       "(-1.6116606826553046e-10, 1.3229563649641253e-10)"
      ]
     },
     "execution_count": 39,
     "metadata": {},
     "output_type": "execute_result"
    },
    {
     "data": {
      "image/png": "[encoded data removed]",
      "text/plain": [
       "<Figure size 432x288 with 1 Axes>"
      ]
     },
     "metadata": {
      "needs_background": "light"
     },
     "output_type": "display_data"
    }
   ],
   "source": [
    "trace_mean=low_pass(trace_mean)\n",
    "\n",
    "ax = plt.subplot(111)\n",
    "x = np.linspace(0,2000,80000)\n",
    "\n",
    "ax.plot(x,trace_mean)\n",
    "\n",
    "# ax.xlim([480,700])\n",
    "ax.set_ylim([-1.6116606826553046e-10, 1.3229563649641253e-10])"
   ]
  },
  {
   "cell_type": "code",
   "execution_count": null,
   "metadata": {},
   "outputs": [],
   "source": []
  },
  {
   "cell_type": "code",
   "execution_count": 55,
   "metadata": {},
   "outputs": [],
   "source": [
    "data = h5py.File(dataFile,'r')\n",
    "meta = data['data'][()]\n",
    "\n",
    "\n"
   ]
  },
  {
   "cell_type": "code",
   "execution_count": 56,
   "metadata": {},
   "outputs": [
    {
     "data": {
      "text/plain": [
       "(3, 80000)"
      ]
     },
     "execution_count": 56,
     "metadata": {},
     "output_type": "execute_result"
    }
   ],
   "source": [
    "meta.shape\n"
   ]
  },
  {
   "cell_type": "code",
   "execution_count": 57,
   "metadata": {
    "scrolled": false
   },
   "outputs": [
    {
     "data": {
      "image/png": "[encoded data removed]",
      "text/plain": [
       "<Figure size 720x864 with 3 Axes>"
      ]
     },
     "metadata": {
      "needs_background": "light"
     },
     "output_type": "display_data"
    }
   ],
   "source": [
    "fig = plt.figure(figsize=[10,12])\n",
    "for ch in range(meta.shape[0]):\n",
    "    ax = fig.add_subplot(3,1,ch+1)\n",
    "    ax.plot(meta[ch,:])\n",
    "#     ax.set_xlim([550,700])\n",
    "\n",
    "plt.show()\n",
    "# fig.savefig('/Users/zhengj10/Desktop/Clamp2.ma.data.2.png')\n"
   ]
  },
  {
   "cell_type": "code",
   "execution_count": 27,
   "metadata": {},
   "outputs": [
    {
     "data": {
      "text/plain": [
       "KeysView(<HDF5 file \"Clamp1.ma\" (mode r+)>)"
      ]
     },
     "execution_count": 27,
     "metadata": {},
     "output_type": "execute_result"
    }
   ],
   "source": [
    "data.keys()"
   ]
  },
  {
   "cell_type": "code",
   "execution_count": null,
   "metadata": {},
   "outputs": [],
   "source": []
  },
  {
   "cell_type": "code",
   "execution_count": null,
   "metadata": {},
   "outputs": [],
   "source": []
  },
  {
   "cell_type": "code",
   "execution_count": null,
   "metadata": {},
   "outputs": [],
   "source": [
    "plt.plot(imgData[2,:])\n",
    "plt.show()\n"
   ]
  },
  {
   "cell_type": "code",
   "execution_count": 49,
   "metadata": {},
   "outputs": [],
   "source": [
    "# sin wave\n",
    "t = np.linspace(0,2,1000)\n",
    "sig = np.sin(1.2*2*np.pi*t)# Lets add some noise\n",
    "noise = 1.5*np.cos(9*2*np.pi*t) + 0.5*np.sin(12.0*2*np.pi*t)\n",
    "data = sig + noise"
   ]
  },
  {
   "cell_type": "code",
   "execution_count": null,
   "metadata": {},
   "outputs": [],
   "source": []
  },
  {
   "cell_type": "markdown",
   "metadata": {},
   "source": [
    "### Get tiff sequences for specified voltage step"
   ]
  },
  {
   "cell_type": "code",
   "execution_count": 19,
   "metadata": {},
   "outputs": [],
   "source": [
    "# dataFile = '/Users/zhengj10/Desktop/0925_376.1/patch_attempt_0000_000/camera_clamp2_000/008/Camera/frames.ma'\n",
    "dataFile = '/Volumes/Backup Plus/2020.10.14_000/plate_000/patch_attempt_0000_000/camera_clamp1_for_kinetics_000/000/Camera/frames.ma'\n",
    "# dataFile = '/Volumes/genie/Jihong_GENIE_stuff/PatcherBot/patch_attempt_0035_000/camera_clamp2_000/008/Camera/frames.ma'\n"
   ]
  },
  {
   "cell_type": "code",
   "execution_count": 20,
   "metadata": {},
   "outputs": [],
   "source": [
    "import h5py\n",
    "data = h5py.File(dataFile)\n",
    "imgData = data['data'][()]"
   ]
  },
  {
   "cell_type": "code",
   "execution_count": 21,
   "metadata": {},
   "outputs": [
    {
     "data": {
      "text/plain": [
       "array([0.        , 0.00398207, 0.0079639 , ..., 2.0079515 , 2.00827289,\n",
       "       2.00859451])"
      ]
     },
     "execution_count": 21,
     "metadata": {},
     "output_type": "execute_result"
    }
   ],
   "source": [
    "x = data['info']['0']['values'][()] # Frame time stamp\n",
    "x"
   ]
  },
  {
   "cell_type": "code",
   "execution_count": 7,
   "metadata": {},
   "outputs": [],
   "source": [
    "a = []\n",
    "for i in range(x.shape[0]-1):\n",
    "    a.append(x[i+1]-x[i])\n",
    "    "
   ]
  },
  {
   "cell_type": "code",
   "execution_count": 8,
   "metadata": {},
   "outputs": [],
   "source": [
    "import matplotlib.pyplot as plt"
   ]
  },
  {
   "cell_type": "code",
   "execution_count": 18,
   "metadata": {},
   "outputs": [
    {
     "data": {
      "text/plain": [
       "[<matplotlib.lines.Line2D at 0x7fc94d6d9510>]"
      ]
     },
     "execution_count": 18,
     "metadata": {},
     "output_type": "execute_result"
    },
    {
     "data": {
      "image/png": "[encoded data removed]",
      "text/plain": [
       "<Figure size 432x288 with 1 Axes>"
      ]
     },
     "metadata": {
      "needs_background": "light"
     },
     "output_type": "display_data"
    }
   ],
   "source": [
    "plt.plot(a[5:100])"
   ]
  },
  {
   "cell_type": "code",
   "execution_count": null,
   "metadata": {},
   "outputs": [],
   "source": [
    "dff_list = get_dff(imgData)"
   ]
  },
  {
   "cell_type": "code",
   "execution_count": null,
   "metadata": {},
   "outputs": [],
   "source": [
    "plt.plot(x,dff_list, lw=0.3)\n",
    "plt.show()\n"
   ]
  },
  {
   "cell_type": "code",
   "execution_count": null,
   "metadata": {},
   "outputs": [],
   "source": [
    "# imsave('/Users/zhengj10/Desktop/test.tif', imgData)"
   ]
  },
  {
   "cell_type": "code",
   "execution_count": null,
   "metadata": {},
   "outputs": [],
   "source": [
    "imgData.shape"
   ]
  },
  {
   "cell_type": "markdown",
   "metadata": {},
   "source": [
    "### Save as one tif file (large size)"
   ]
  },
  {
   "cell_type": "code",
   "execution_count": 21,
   "metadata": {},
   "outputs": [
    {
     "name": "stdout",
     "output_type": "stream",
     "text": [
      "(3564, 508, 41)\n",
      "(2733, 508, 41)\n",
      "(4137, 508, 41)\n",
      "(3599, 508, 41)\n"
     ]
    },
    {
     "data": {
      "text/plain": [
       "(14033, 508, 41)"
      ]
     },
     "execution_count": 21,
     "metadata": {},
     "output_type": "execute_result"
    }
   ],
   "source": [
    "entire_seq = np.zeros([2,508,41])\n",
    "# imgPath = '/Users/zhengj10/Desktop/Data anlysis collection/PatcherBot/raw/2020.02.24_000/plate_000/patch_attempt_0013_000'\n",
    "for trial in range(4):\n",
    "#     dataFile = os.path.join(imgPath,'camera_clamp1_000',str(trial).zfill(3),'Camera','frames.ma')\n",
    "    dataFile = os.path.join(imgPath,'plate_000/patch_attempt_0026_000/camera_clamp1_000',str(trial).zfill(3),'Camera','frames.ma')\n",
    "\n",
    "#     dataFile = imgPath +  '/' + plate + '/' + cell + '/camera_clamp1_000/' + str(trial).zfill(3) + '/Camera/frames.ma'\n",
    "#     dataFile = imgPath +  '/' + platePath[0] + '/' + cellPath[7] + '/camera_clamp2_000/' + str(trial).zfill(3) + '/Camera/frames.ma'\n",
    "    data = h5py.File(dataFile,'r')\n",
    "    imgData = data['data'][()]\n",
    "    print(imgData.shape)\n",
    "    entire_seq = np.concatenate((entire_seq, imgData), axis=0)\n",
    "\n",
    "entire_seq = entire_seq[2:,:,:]\n",
    "entire_seq.shape\n"
   ]
  },
  {
   "cell_type": "code",
   "execution_count": 46,
   "metadata": {},
   "outputs": [],
   "source": [
    "def roll_ave(imgFile):\n",
    "    frames = []\n",
    "    for frame in range(imgFile.shape[0]):\n",
    "\n",
    "        if frame%10 == 0:\n",
    "            ave_frame = np.mean(imgFile[frame:frame+4,:,:],axis=0)\n",
    "            frames.append(ave_frame)\n",
    "    frames = np.array(frames, dtype='float32')\n",
    "    return frames\n",
    "            \n",
    "        "
   ]
  },
  {
   "cell_type": "code",
   "execution_count": 47,
   "metadata": {},
   "outputs": [],
   "source": [
    "newImg = roll_ave(entire_seq)"
   ]
  },
  {
   "cell_type": "code",
   "execution_count": 48,
   "metadata": {},
   "outputs": [
    {
     "data": {
      "text/plain": [
       "(1795, 508, 41)"
      ]
     },
     "execution_count": 48,
     "metadata": {},
     "output_type": "execute_result"
    }
   ],
   "source": [
    "newImg.shape"
   ]
  },
  {
   "cell_type": "code",
   "execution_count": 22,
   "metadata": {},
   "outputs": [],
   "source": [
    "imsave('/Users/zhengj10/Desktop/40x_oil.tif', entire_seq.astype('float32'))"
   ]
  },
  {
   "cell_type": "code",
   "execution_count": 50,
   "metadata": {},
   "outputs": [],
   "source": [
    "imsave('/Users/zhengj10/Desktop/roll_ave_421.1.tif', newImg.astype('float32'))"
   ]
  },
  {
   "cell_type": "code",
   "execution_count": null,
   "metadata": {},
   "outputs": [],
   "source": [
    "mean_img = np.mean(entire_seq, axis=0)\n",
    "mean_img.shape\n",
    "np.max(mean_img)-np.min(mean_img)\n"
   ]
  },
  {
   "cell_type": "code",
   "execution_count": null,
   "metadata": {},
   "outputs": [],
   "source": [
    "plt.figure(figsize=[16,10])\n",
    "plt.imshow(mean_img, cmap='gray', vmax=1800)\n",
    "plt.colorbar()\n",
    "plt.show()\n"
   ]
  },
  {
   "cell_type": "code",
   "execution_count": null,
   "metadata": {},
   "outputs": [],
   "source": []
  },
  {
   "cell_type": "markdown",
   "metadata": {},
   "source": [
    "### Check meta in .index file"
   ]
  },
  {
   "cell_type": "code",
   "execution_count": null,
   "metadata": {},
   "outputs": [],
   "source": [
    "import yaml"
   ]
  },
  {
   "cell_type": "code",
   "execution_count": null,
   "metadata": {},
   "outputs": [],
   "source": [
    "a = yaml.load(open(\"/Users/zhengj10/Desktop/index\"), Loader=yaml.FullLoader)\n",
    "a\n"
   ]
  },
  {
   "cell_type": "code",
   "execution_count": null,
   "metadata": {},
   "outputs": [],
   "source": [
    "def get_data(matFile):\n",
    "    data = {}\n",
    "    f = h5py.File(matFile)\n",
    "#     d = f['params']['fit_pix_double'] # for double fit\n",
    "#     amp_on_fast = []\n",
    "#     amp_on_slow = []\n",
    "#     amp_off_fast = []\n",
    "#     amp_off_slow = []\n",
    "#     tau_on_fast = []\n",
    "#     tau_on_slow = []\n",
    "#     tau_off_fast = []\n",
    "#     tau_off_slow = []\n",
    "#     time_on_fast = []\n",
    "#     time_on_slow = []\n",
    "#     time_off_fast = []\n",
    "#     time_off_slow = []\n",
    "    \n",
    "    \n",
    "#     def isNaN(num):\n",
    "#         return num != num\n",
    "#     for vStep in range(len(d)):\n",
    "#         st = d[vStep]\n",
    "#         obj = f[st]\n",
    "#         if vStep == 0:\n",
    "#             data['dff_corrected'] = obj['bleach_bkg_norm_ave_trace'][()]\n",
    "#             if isNaN(data['dff_corrected'][0]):\n",
    "#                 print ('No responsive pixels')\n",
    "#         amp_on_fast.append(obj['bkg_norm_ave_onamp0'][()][0])\n",
    "#         amp_on_slow.append(obj['bkg_norm_ave_onamp1'][()][0])\n",
    "#         amp_off_fast.append(obj['bkg_norm_ave_offamp0'][()][0])\n",
    "#         amp_off_slow.append(obj['bkg_norm_ave_offamp1'][()][0])\n",
    "#         tau_on_fast.append(obj['bkg_norm_ave_ontime0'][()][0])\n",
    "#         tau_on_slow.append(obj['bkg_norm_ave_ontime1'][()][0])\n",
    "#         tau_off_fast.append(obj['bkg_norm_ave_offtime0'][()][0])\n",
    "#         tau_off_slow.append(obj['bkg_norm_ave_offtime1'][()][0])\n",
    "#     data['amp_on_fast'] = amp_on_fast\n",
    "#     data['amp_on_slow'] = amp_on_slow\n",
    "#     data['amp_off_fast'] = amp_off_fast\n",
    "#     data['amp_off_slow'] = amp_off_slow\n",
    "#     data['tau_on_fast'] = tau_on_fast\n",
    "#     data['tau_on_slow'] = tau_on_slow\n",
    "#     data['tau_off_fast'] = tau_off_fast\n",
    "#     data['tau_off_slow'] = tau_off_slow\n",
    "    \n",
    "    \n",
    "    d_single = f['params']['fit_pix_single']  # for single fit\n",
    "    amp_on = []\n",
    "    amp_off = []\n",
    "    tau_on = []\n",
    "    tau_off = []\n",
    "    time_on = []\n",
    "    time_off = []\n",
    "#     tau_on_sigma = []\n",
    "#     tau_off_sigma = []\n",
    "    stim_frame_num = []\n",
    "    for vStep in range(len(d_single)):\n",
    "        st = d_single[vStep]\n",
    "        obj = f[st]\n",
    "        if vStep == 0:\n",
    "            data['dff_corrected'] = obj['bleach_bkg_norm_ave_trace'][()]\n",
    "            data['bleach'] = obj['bkg_norm_ave_bleach_parameters'][()][1]\n",
    "            data['bleach_x'] = obj['bkg_norm_ave_bleach_parameters'][()][0]\n",
    "        amp_on.append(obj['bkg_norm_ave_onamp'][()][0])\n",
    "        amp_off.append(obj['bkg_norm_ave_offamp'][()][0])\n",
    "        tau_on.append(obj['bkg_norm_ave_ontau'][()][0])\n",
    "        tau_off.append(obj['bkg_norm_ave_offtau'][()][0])\n",
    "        time_on.append(obj['bkg_norm_ave_ontime'][()][0])\n",
    "        time_off.append(obj['bkg_norm_ave_offtime'][()][0])\n",
    "#         tau_on_sigma.append(obj['bkg_norm_ave_ontime_sigma'][()][0])\n",
    "#         tau_off_sigma.append(obj['bkg_norm_ave_offtime_sigma'][()][0])\n",
    "#         stim_frame_num.append(obj['stim_frame_num'][()])\n",
    "    data['amp_on'] = amp_on\n",
    "    data['amp_off'] = amp_off\n",
    "    data['tau_on'] = tau_on\n",
    "    data['tau_off'] = tau_off\n",
    "    data['time_on'] = time_on\n",
    "    data['time_off'] = time_off\n",
    "#     data['tau_on_sigma'] = tau_on_sigma\n",
    "#     data['tau_off_sigma'] = tau_off_sigma\n",
    "#     data['stim_frame_num'] = stim_frame_num\n",
    "    return data\n"
   ]
  },
  {
   "cell_type": "code",
   "execution_count": null,
   "metadata": {},
   "outputs": [],
   "source": [
    "matFile = imgPath + cellPath[0] + '/000.mat'"
   ]
  },
  {
   "cell_type": "code",
   "execution_count": null,
   "metadata": {},
   "outputs": [],
   "source": [
    "data = get_data(matFile)\n",
    "\n",
    "trace = data['dff_corrected']"
   ]
  },
  {
   "cell_type": "code",
   "execution_count": null,
   "metadata": {},
   "outputs": [],
   "source": [
    "plt.plot(trace)\n",
    "plt.show()\n"
   ]
  },
  {
   "cell_type": "code",
   "execution_count": null,
   "metadata": {},
   "outputs": [],
   "source": [
    "imgPath = '/Volumes/genie/BenArthur/patch-screen-10to90/bot/2019.10.04_000/patch_attempt_0009_000/'"
   ]
  },
  {
   "cell_type": "code",
   "execution_count": null,
   "metadata": {},
   "outputs": [],
   "source": [
    "def get_dff(trace):\n",
    "    dff_single = np.mean(trace[500:1400]) - np.mean(trace[:400])\n",
    "    return dff_single\n"
   ]
  },
  {
   "cell_type": "code",
   "execution_count": null,
   "metadata": {},
   "outputs": [],
   "source": [
    "dff = []\n",
    "for i in range(9):\n",
    "    matFile = imgPath + str(i).zfill(3) + '.mat'\n",
    "    print(matFile)\n",
    "    data = get_data(matFile)\n",
    "    trace = data['dff_corrected']\n",
    "    dff_single = get_dff(trace)\n",
    "    dff.append(dff_single)\n"
   ]
  },
  {
   "cell_type": "code",
   "execution_count": null,
   "metadata": {},
   "outputs": [],
   "source": [
    "dff"
   ]
  },
  {
   "cell_type": "code",
   "execution_count": null,
   "metadata": {},
   "outputs": [],
   "source": [
    "x = np.linspace(-100,40,9)\n",
    "plt.plot(x, dff)"
   ]
  },
  {
   "cell_type": "code",
   "execution_count": null,
   "metadata": {},
   "outputs": [],
   "source": [
    "import pandas as pd\n",
    "import numpy as np"
   ]
  },
  {
   "cell_type": "code",
   "execution_count": null,
   "metadata": {},
   "outputs": [],
   "source": [
    "df = pd.DataFrame({'a':1, 'b':'mountain', 'c': [[1,2,3],[4,5,6]]})\n",
    "# df = pd.DataFrame({'a':[1,2,3]})"
   ]
  },
  {
   "cell_type": "code",
   "execution_count": null,
   "metadata": {},
   "outputs": [],
   "source": [
    "a = np.mean(df.c.tolist(), axis=0)"
   ]
  },
  {
   "cell_type": "code",
   "execution_count": null,
   "metadata": {},
   "outputs": [],
   "source": [
    "df.c"
   ]
  },
  {
   "cell_type": "code",
   "execution_count": null,
   "metadata": {},
   "outputs": [],
   "source": [
    "df.c.tolist()"
   ]
  },
  {
   "cell_type": "code",
   "execution_count": null,
   "metadata": {},
   "outputs": [],
   "source": []
  }
 ],
 "metadata": {
  "kernelspec": {
   "display_name": "Python 3",
   "language": "python",
   "name": "python3"
  },
  "language_info": {
   "codemirror_mode": {
    "name": "ipython",
    "version": 3
   },
   "file_extension": ".py",
   "mimetype": "text/x-python",
   "name": "python",
   "nbconvert_exporter": "python",
   "pygments_lexer": "ipython3",
   "version": "3.7.6"
  }
 },
 "nbformat": 4,
 "nbformat_minor": 2
}
