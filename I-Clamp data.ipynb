{
 "cells": [
  {
   "cell_type": "code",
   "execution_count": 1,
   "metadata": {},
   "outputs": [],
   "source": [
    "import sys\n",
    "sys.path.append('/Users/zhengj10/Python/Modules')\n",
    "import h5py\n",
    "import os\n",
    "import numpy as np\n",
    "from skimage.io import imsave\n",
    "import matplotlib.pyplot as plt\n",
    "import yaml\n",
    "import pandas as pd\n",
    "import PatcherBot as pb\n",
    "from glob import glob\n",
    "import seaborn as sns\n",
    "import tifffile as tff\n",
    "import scipy.signal as ss"
   ]
  },
  {
   "cell_type": "code",
   "execution_count": 2,
   "metadata": {},
   "outputs": [
    {
     "data": {
      "text/plain": [
       "True"
      ]
     },
     "execution_count": 2,
     "metadata": {},
     "output_type": "execute_result"
    }
   ],
   "source": [
    "rawPath = '/Volumes/Backup Plus/PatcherBot/raw'\n",
    "os.path.exists(rawPath)\n"
   ]
  },
  {
   "cell_type": "code",
   "execution_count": 3,
   "metadata": {},
   "outputs": [],
   "source": [
    "datePath = ['2020.10.01_000']"
   ]
  },
  {
   "cell_type": "code",
   "execution_count": null,
   "metadata": {
    "scrolled": false
   },
   "outputs": [],
   "source": [
    "# data_all={}\n",
    "# for param in(df.columns):\n",
    "#     data_all[param] = []\n",
    "for date in datePath:\n",
    "    platePath = pb.getPathInfo(os.path.join(rawPath,date))\n",
    "    for plate in platePath:\n",
    "        if plate == 'plate_002':\n",
    "            continue\n",
    "#         print(os.path.join(rawPath, date, plate))\n",
    "        idxFile = os.path.join(rawPath, date, plate, '.index')\n",
    "        meta = yaml.load(open(idxFile), Loader=yaml.FullLoader)\n",
    "        cellPath = pb.getPathInfo(os.path.join(rawPath, date, plate))\n",
    "        for cell in(cellPath):\n",
    "            if not os.path.exists(os.path.join(rawPath, date, plate, cell, 'I_clamp1_000')):\n",
    "                continue\n",
    "            print(os.path.join(rawPath, date, plate, cell))\n",
    "            for trial in range(10):\n",
    "                dataFile = os.path.join(rawPath, date, plate, cell, 'I_clamp1_000', str(trial).zfill(3), 'Camera', 'frames.ma')\n",
    "                \n",
    "                data = h5py.File(dataFile,'r')\n",
    "                trace = data['data'][()]\n",
    "#                 print(trace.shape)\n",
    "                ref = np.mean(trace[10:60,:,:],axis=0)\n",
    "                fb = np.min(ref)\n",
    "                crop = ref[224:284,:]\n",
    "                max_val = np.max(crop)\n",
    "                act_pix = crop > (fb + (max_val-fb)*0.67)\n",
    "                f = []\n",
    "                for frame in range(trace.shape[0]):\n",
    "                    f_single_frame = np.sum(trace[frame,224:284,:]*act_pix)/np.sum(act_pix)\n",
    "                    f.append(f_single_frame)\n",
    "                f_peak = np.min(f[:400])\n",
    "                f_peak_idx = np.argmin(f_peak)\n",
    "                f_0 = np.mean(f[f_pieak_idx-40:f_pieak_idx-20])\n",
    "                \n",
    "#                 f0 = np.sum(act_pix * crop) / np.sum(act_pix)\n",
    "#                 dff = []\n",
    "\n",
    "#                 for frame in range(trace.shape[0]):\n",
    "#                     dff_single = ((np.sum(trace[frame, 234:274, :]*act_pix)/np.sum(act_pix)) - f0)/(f0-fb)\n",
    "#                     dff.append(dff_single)\n",
    "#                 dff = np.mean(dff[950:1050])\n",
    "#                 dff_list.append(dff)\n",
    "#                 ax = plt.subplot(3,3,i)\n",
    "#                 ax.imshow(act_pix * crop)\n",
    "#                 i+=1\n",
    "    \n",
    "# plt.show()\n"
   ]
  },
  {
   "cell_type": "code",
   "execution_count": null,
   "metadata": {},
   "outputs": [],
   "source": [
    "trace.shape[0]"
   ]
  },
  {
   "cell_type": "code",
   "execution_count": null,
   "metadata": {},
   "outputs": [],
   "source": [
    "plt.plot(f)\n",
    "plt.xlim([140,220])\n",
    "plt.show()"
   ]
  },
  {
   "cell_type": "code",
   "execution_count": 4,
   "metadata": {},
   "outputs": [],
   "source": [
    "dataFile = '/Volumes/Backup Plus/PatcherBot/raw/2020.10.01_000/plate_001/patch_attempt_0008_000/I_clamp1_000/000/Camera/frames.ma'"
   ]
  },
  {
   "cell_type": "code",
   "execution_count": 5,
   "metadata": {},
   "outputs": [],
   "source": [
    "data = h5py.File(dataFile,'r')"
   ]
  },
  {
   "cell_type": "code",
   "execution_count": 18,
   "metadata": {},
   "outputs": [
    {
     "name": "stdout",
     "output_type": "stream",
     "text": [
      "623\n"
     ]
    }
   ],
   "source": [
    "trace = data['data'][()]\n",
    "ref = np.mean(trace[10:60,:,:],axis=0)\n",
    "fb = np.min(ref)\n",
    "crop = ref[224:284,:]\n",
    "max_val = np.max(crop)\n",
    "act_pix = crop > (fb + (max_val-fb)*0.67)\n",
    "f = []\n",
    "for frame in range(trace.shape[0]):\n",
    "    f_single_frame = np.sum(trace[frame,224:284,:]*act_pix)/np.sum(act_pix)\n",
    "    f.append(f_single_frame)\n",
    "f_peak = np.min(f)\n",
    "f_peak_idx = np.argmin(f)\n",
    "print(f_peak_idx)\n",
    "f_0 = np.mean(f[f_peak_idx-40:f_peak_idx-20])\n"
   ]
  },
  {
   "cell_type": "code",
   "execution_count": 23,
   "metadata": {},
   "outputs": [
    {
     "data": {
      "text/plain": [
       "<matplotlib.collections.PathCollection at 0x7fdf66965f90>"
      ]
     },
     "execution_count": 23,
     "metadata": {},
     "output_type": "execute_result"
    },
    {
     "data": {
      "image/png": "[encoded data removed]",
      "text/plain": [
       "<Figure size 432x288 with 1 Axes>"
      ]
     },
     "metadata": {
      "needs_background": "light"
     },
     "output_type": "display_data"
    }
   ],
   "source": [
    "plt.plot(f)\n",
    "plt.scatter(f_peak_idx,f_peak,color='m')\n",
    "# plt.xlim([600,650])"
   ]
  },
  {
   "cell_type": "code",
   "execution_count": null,
   "metadata": {},
   "outputs": [],
   "source": []
  },
  {
   "cell_type": "code",
   "execution_count": null,
   "metadata": {},
   "outputs": [],
   "source": []
  },
  {
   "cell_type": "code",
   "execution_count": null,
   "metadata": {},
   "outputs": [],
   "source": []
  }
 ],
 "metadata": {
  "kernelspec": {
   "display_name": "Python 3 (ipykernel)",
   "language": "python",
   "name": "python3"
  },
  "language_info": {
   "codemirror_mode": {
    "name": "ipython",
    "version": 3
   },
   "file_extension": ".py",
   "mimetype": "text/x-python",
   "name": "python",
   "nbconvert_exporter": "python",
   "pygments_lexer": "ipython3",
   "version": "3.9.7"
  }
 },
 "nbformat": 4,
 "nbformat_minor": 4
}
