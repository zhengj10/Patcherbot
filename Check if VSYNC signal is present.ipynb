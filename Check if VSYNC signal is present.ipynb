{
 "cells": [
  {
   "cell_type": "code",
   "execution_count": 1,
   "metadata": {},
   "outputs": [],
   "source": [
    "import numpy as np\n",
    "import sys\n",
    "sys.path.append('/Users/zhengj10/Python/Modules')\n",
    "import PatcherBot as pb\n",
    "import pandas as pd\n",
    "from glob import glob\n",
    "import h5py\n",
    "import os\n",
    "import matplotlib.pyplot as plt\n"
   ]
  },
  {
   "cell_type": "code",
   "execution_count": 2,
   "metadata": {},
   "outputs": [],
   "source": [
    "# def get_peak_idx(trace,samples_per_ms = 40.0):\n",
    "#     peak_indices = np.where(trace==1) # All indices with value equal to 1 (high)\n",
    "#     peak_index = [k for k in range(peak_indices[0].shape[0]) if peak_indices[0][k]-peak_indices[0][k-1]!=1]\n",
    "#     # Note the first peak was counted in different way: it's counted because it's subtracting the last value\n",
    "#     # in the list and the result is not equal to 1.\n",
    "#     peak_index = peak_indices[0][peak_index]\n",
    "#     # peak_indices[0]: remove tuple format\n",
    "#     peak_index = peak_index/samples_per_ms\n",
    "#     for idx in range(peak_index.shape[0]):\n",
    "#         if peak_index[idx]>=500.0:\n",
    "#             break\n",
    "#         else:\n",
    "#             continue\n",
    "#     stim_timing = peak_index[idx]\n",
    "#     return peak_index,idx,stim_timing"
   ]
  },
  {
   "cell_type": "code",
   "execution_count": 3,
   "metadata": {},
   "outputs": [],
   "source": [
    "imgPath = '/Volumes/genie/BenArthur/patch-screen/bot'\n",
    "rawPath = '/Volumes/genie/Jihong_GENIE_stuff/PatcherBot/raw'\n",
    "# imgPath = '/Volumes/Backup Plus/patch-screen/bot'\n",
    "# rawPath = '/Volumes/Backup Plus/PatcherBot/raw'"
   ]
  },
  {
   "cell_type": "code",
   "execution_count": 4,
   "metadata": {},
   "outputs": [],
   "source": [
    "# date_path = pb.getPathInfo(imgPath)\n",
    "# datePath = []\n",
    "# for date in date_path:\n",
    "#     if len(date)!=14:\n",
    "#         continue\n",
    "#     datePath.append(date)"
   ]
  },
  {
   "cell_type": "code",
   "execution_count": 21,
   "metadata": {},
   "outputs": [],
   "source": [
    "# datePath = datePath[10:]\n",
    "datePath = ['2019.12.06_000']\n",
    "# datePath"
   ]
  },
  {
   "cell_type": "code",
   "execution_count": 22,
   "metadata": {
    "scrolled": true
   },
   "outputs": [
    {
     "name": "stdout",
     "output_type": "stream",
     "text": [
      "/Volumes/genie/Jihong_GENIE_stuff/PatcherBot/raw/2019.12.06_000/plate_000\n",
      "/Volumes/genie/Jihong_GENIE_stuff/PatcherBot/raw/2019.12.06_000/plate_000\n",
      "/Volumes/genie/Jihong_GENIE_stuff/PatcherBot/raw/2019.12.06_000/plate_000\n",
      "/Volumes/genie/Jihong_GENIE_stuff/PatcherBot/raw/2019.12.06_000/plate_000\n",
      "/Volumes/genie/Jihong_GENIE_stuff/PatcherBot/raw/2019.12.06_000/plate_000\n",
      "/Volumes/genie/Jihong_GENIE_stuff/PatcherBot/raw/2019.12.06_000/plate_000\n",
      "/Volumes/genie/Jihong_GENIE_stuff/PatcherBot/raw/2019.12.06_000/plate_000\n",
      "/Volumes/genie/Jihong_GENIE_stuff/PatcherBot/raw/2019.12.06_000/plate_000\n",
      "/Volumes/genie/Jihong_GENIE_stuff/PatcherBot/raw/2019.12.06_000/plate_001\n",
      "/Volumes/genie/Jihong_GENIE_stuff/PatcherBot/raw/2019.12.06_000/plate_001\n",
      "/Volumes/genie/Jihong_GENIE_stuff/PatcherBot/raw/2019.12.06_000/plate_001\n",
      "/Volumes/genie/Jihong_GENIE_stuff/PatcherBot/raw/2019.12.06_000/plate_001\n",
      "/Volumes/genie/Jihong_GENIE_stuff/PatcherBot/raw/2019.12.06_000/plate_001\n",
      "/Volumes/genie/Jihong_GENIE_stuff/PatcherBot/raw/2019.12.06_000/plate_001\n",
      "/Volumes/genie/Jihong_GENIE_stuff/PatcherBot/raw/2019.12.06_000/plate_001\n",
      "/Volumes/genie/Jihong_GENIE_stuff/PatcherBot/raw/2019.12.06_000/plate_001\n",
      "/Volumes/genie/Jihong_GENIE_stuff/PatcherBot/raw/2019.12.06_000/plate_001\n",
      "/Volumes/genie/Jihong_GENIE_stuff/PatcherBot/raw/2019.12.06_000/plate_001\n",
      "/Volumes/genie/Jihong_GENIE_stuff/PatcherBot/raw/2019.12.06_000/plate_001\n"
     ]
    }
   ],
   "source": [
    "# datePath = pb.getPathInfo(imgPath)\n",
    "results = {}\n",
    "traces = []\n",
    "traces_trigger = []\n",
    "for date in datePath:\n",
    "    if len(date)!=14:\n",
    "        continue\n",
    "    platePath = pb.getPathInfo(os.path.join(imgPath, date))\n",
    "    for plate in platePath:\n",
    "        cellPath = pb.getPathInfo(os.path.join(imgPath, date, plate))\n",
    "        for cell in(cellPath):\n",
    "            if not os.path.exists(os.path.join(rawPath, date, plate, cell)):\n",
    "                continue\n",
    "            print(os.path.join(rawPath, date, plate))\n",
    "            daqData = os.path.join(rawPath,date,plate,cell,'camera_clamp2_000','008','Camera','daqResult.ma')\n",
    "            \n",
    "            if not os.path.exists(daqData):\n",
    "                daqData = os.path.join(rawPath,date,plate,cell,'camera_clamp1_000','008','Camera','daqResult.ma') \n",
    "            \n",
    "            if not os.path.exists(daqData):\n",
    "                continue\n",
    "            daqData = h5py.File(daqData,'r')\n",
    "            V_SYNC = daqData['data'][()][1]\n",
    "            traces.append(V_SYNC)\n",
    "            traces_trigger.append(daqData['data'][()][0])\n",
    "            peak_indices = np.where(V_SYNC==1)\n",
    "            peak_index = [k for k in range(peak_indices[0].shape[0]) if peak_indices[0][k]-peak_indices[0][k-1]!=1]\n",
    "            peak_index = peak_indices[0][peak_index]\n",
    "            peak_index = peak_index/40.0 # change to ms\n",
    "            results[os.path.join(rawPath, date, plate, cell)]=peak_index.shape\n",
    "        print(os.path.join(rawPath, date, plate))\n"
   ]
  },
  {
   "cell_type": "code",
   "execution_count": 23,
   "metadata": {},
   "outputs": [
    {
     "data": {
      "text/plain": [
       "17"
      ]
     },
     "execution_count": 23,
     "metadata": {},
     "output_type": "execute_result"
    }
   ],
   "source": [
    "len(traces)"
   ]
  },
  {
   "cell_type": "code",
   "execution_count": 24,
   "metadata": {
    "scrolled": false
   },
   "outputs": [
    {
     "data": {
      "image/png": "[encoded data removed]",
      "text/plain": [
       "<Figure size 1080x2160 with 17 Axes>"
      ]
     },
     "metadata": {
      "needs_background": "light"
     },
     "output_type": "display_data"
    }
   ],
   "source": [
    "plt.figure(figsize=[15,30])\n",
    "\n",
    "for i in range(len(traces)):\n",
    "# for i in range(2):\n",
    "    ax = plt.subplot(41,20,i+1)\n",
    "    ax.plot(traces[i][:10000])\n",
    "#     ax.set_ylim([-0.05, 1.05])\n",
    "    ax.axis('off')\n",
    "plt.tight_layout()\n",
    "# plt.savefig('/Users/zhengj10/Desktop/Frames drop issue/cam_trigger_signal.png')\n",
    "plt.show()\n"
   ]
  },
  {
   "cell_type": "code",
   "execution_count": 13,
   "metadata": {},
   "outputs": [
    {
     "data": {
      "text/plain": [
       "(-214748364.75, 4509715659.75)"
      ]
     },
     "execution_count": 13,
     "metadata": {},
     "output_type": "execute_result"
    }
   ],
   "source": [
    "ax.get_ylim()"
   ]
  },
  {
   "cell_type": "code",
   "execution_count": 13,
   "metadata": {},
   "outputs": [
    {
     "ename": "OSError",
     "evalue": "Unable to open file (unable to open file: name = '/Volumes/Backup Plus/PatcherBot/raw/2020.10.16_000/plate_000/patch_attempt_0013_000/camera_clamp1_000/008/Camera/daqResult.ma', errno = 2, error message = 'No such file or directory', flags = 0, o_flags = 0)",
     "output_type": "error",
     "traceback": [
      "\u001b[0;31m---------------------------------------------------------------------------\u001b[0m",
      "\u001b[0;31mOSError\u001b[0m                                   Traceback (most recent call last)",
      "\u001b[0;32m<ipython-input-13-c842d0a4198b>\u001b[0m in \u001b[0;36m<module>\u001b[0;34m\u001b[0m\n\u001b[0;32m----> 1\u001b[0;31m \u001b[0ma\u001b[0m \u001b[0;34m=\u001b[0m \u001b[0mh5py\u001b[0m\u001b[0;34m.\u001b[0m\u001b[0mFile\u001b[0m\u001b[0;34m(\u001b[0m\u001b[0mdaqData\u001b[0m\u001b[0;34m,\u001b[0m\u001b[0;34m'r'\u001b[0m\u001b[0;34m)\u001b[0m\u001b[0;34m\u001b[0m\u001b[0;34m\u001b[0m\u001b[0m\n\u001b[0m",
      "\u001b[0;32m~/opt/anaconda3/lib/python3.7/site-packages/h5py/_hl/files.py\u001b[0m in \u001b[0;36m__init__\u001b[0;34m(self, name, mode, driver, libver, userblock_size, swmr, rdcc_nslots, rdcc_nbytes, rdcc_w0, track_order, **kwds)\u001b[0m\n\u001b[1;32m    406\u001b[0m                 fid = make_fid(name, mode, userblock_size,\n\u001b[1;32m    407\u001b[0m                                \u001b[0mfapl\u001b[0m\u001b[0;34m,\u001b[0m \u001b[0mfcpl\u001b[0m\u001b[0;34m=\u001b[0m\u001b[0mmake_fcpl\u001b[0m\u001b[0;34m(\u001b[0m\u001b[0mtrack_order\u001b[0m\u001b[0;34m=\u001b[0m\u001b[0mtrack_order\u001b[0m\u001b[0;34m)\u001b[0m\u001b[0;34m,\u001b[0m\u001b[0;34m\u001b[0m\u001b[0;34m\u001b[0m\u001b[0m\n\u001b[0;32m--> 408\u001b[0;31m                                swmr=swmr)\n\u001b[0m\u001b[1;32m    409\u001b[0m \u001b[0;34m\u001b[0m\u001b[0m\n\u001b[1;32m    410\u001b[0m             \u001b[0;32mif\u001b[0m \u001b[0misinstance\u001b[0m\u001b[0;34m(\u001b[0m\u001b[0mlibver\u001b[0m\u001b[0;34m,\u001b[0m \u001b[0mtuple\u001b[0m\u001b[0;34m)\u001b[0m\u001b[0;34m:\u001b[0m\u001b[0;34m\u001b[0m\u001b[0;34m\u001b[0m\u001b[0m\n",
      "\u001b[0;32m~/opt/anaconda3/lib/python3.7/site-packages/h5py/_hl/files.py\u001b[0m in \u001b[0;36mmake_fid\u001b[0;34m(name, mode, userblock_size, fapl, fcpl, swmr)\u001b[0m\n\u001b[1;32m    171\u001b[0m         \u001b[0;32mif\u001b[0m \u001b[0mswmr\u001b[0m \u001b[0;32mand\u001b[0m \u001b[0mswmr_support\u001b[0m\u001b[0;34m:\u001b[0m\u001b[0;34m\u001b[0m\u001b[0;34m\u001b[0m\u001b[0m\n\u001b[1;32m    172\u001b[0m             \u001b[0mflags\u001b[0m \u001b[0;34m|=\u001b[0m \u001b[0mh5f\u001b[0m\u001b[0;34m.\u001b[0m\u001b[0mACC_SWMR_READ\u001b[0m\u001b[0;34m\u001b[0m\u001b[0;34m\u001b[0m\u001b[0m\n\u001b[0;32m--> 173\u001b[0;31m         \u001b[0mfid\u001b[0m \u001b[0;34m=\u001b[0m \u001b[0mh5f\u001b[0m\u001b[0;34m.\u001b[0m\u001b[0mopen\u001b[0m\u001b[0;34m(\u001b[0m\u001b[0mname\u001b[0m\u001b[0;34m,\u001b[0m \u001b[0mflags\u001b[0m\u001b[0;34m,\u001b[0m \u001b[0mfapl\u001b[0m\u001b[0;34m=\u001b[0m\u001b[0mfapl\u001b[0m\u001b[0;34m)\u001b[0m\u001b[0;34m\u001b[0m\u001b[0;34m\u001b[0m\u001b[0m\n\u001b[0m\u001b[1;32m    174\u001b[0m     \u001b[0;32melif\u001b[0m \u001b[0mmode\u001b[0m \u001b[0;34m==\u001b[0m \u001b[0;34m'r+'\u001b[0m\u001b[0;34m:\u001b[0m\u001b[0;34m\u001b[0m\u001b[0;34m\u001b[0m\u001b[0m\n\u001b[1;32m    175\u001b[0m         \u001b[0mfid\u001b[0m \u001b[0;34m=\u001b[0m \u001b[0mh5f\u001b[0m\u001b[0;34m.\u001b[0m\u001b[0mopen\u001b[0m\u001b[0;34m(\u001b[0m\u001b[0mname\u001b[0m\u001b[0;34m,\u001b[0m \u001b[0mh5f\u001b[0m\u001b[0;34m.\u001b[0m\u001b[0mACC_RDWR\u001b[0m\u001b[0;34m,\u001b[0m \u001b[0mfapl\u001b[0m\u001b[0;34m=\u001b[0m\u001b[0mfapl\u001b[0m\u001b[0;34m)\u001b[0m\u001b[0;34m\u001b[0m\u001b[0;34m\u001b[0m\u001b[0m\n",
      "\u001b[0;32mh5py/_objects.pyx\u001b[0m in \u001b[0;36mh5py._objects.with_phil.wrapper\u001b[0;34m()\u001b[0m\n",
      "\u001b[0;32mh5py/_objects.pyx\u001b[0m in \u001b[0;36mh5py._objects.with_phil.wrapper\u001b[0;34m()\u001b[0m\n",
      "\u001b[0;32mh5py/h5f.pyx\u001b[0m in \u001b[0;36mh5py.h5f.open\u001b[0;34m()\u001b[0m\n",
      "\u001b[0;31mOSError\u001b[0m: Unable to open file (unable to open file: name = '/Volumes/Backup Plus/PatcherBot/raw/2020.10.16_000/plate_000/patch_attempt_0013_000/camera_clamp1_000/008/Camera/daqResult.ma', errno = 2, error message = 'No such file or directory', flags = 0, o_flags = 0)"
     ]
    }
   ],
   "source": [
    "a = h5py.File(daqData,'r')"
   ]
  },
  {
   "cell_type": "code",
   "execution_count": null,
   "metadata": {},
   "outputs": [],
   "source": [
    "len(traces)"
   ]
  },
  {
   "cell_type": "code",
   "execution_count": 20,
   "metadata": {},
   "outputs": [],
   "source": [
    "dataFile = '/Volumes/Backup Plus/PatcherBot/raw/2020.10.15_000/plate_000/patch_attempt_0000_000/camera_clamp1_000/000/Clamp1.ma'"
   ]
  },
  {
   "cell_type": "code",
   "execution_count": 21,
   "metadata": {},
   "outputs": [],
   "source": [
    "data = h5py.File(dataFile,'r')"
   ]
  },
  {
   "cell_type": "code",
   "execution_count": 22,
   "metadata": {},
   "outputs": [],
   "source": [
    "data = data['data'][()]"
   ]
  },
  {
   "cell_type": "code",
   "execution_count": 23,
   "metadata": {},
   "outputs": [
    {
     "data": {
      "text/plain": [
       "(3, 80000)"
      ]
     },
     "execution_count": 23,
     "metadata": {},
     "output_type": "execute_result"
    }
   ],
   "source": [
    "data.shape"
   ]
  },
  {
   "cell_type": "code",
   "execution_count": 24,
   "metadata": {},
   "outputs": [
    {
     "data": {
      "text/plain": [
       "[<matplotlib.lines.Line2D at 0x7ff778ec0c10>]"
      ]
     },
     "execution_count": 24,
     "metadata": {},
     "output_type": "execute_result"
    },
    {
     "data": {
      "image/png": "[encoded data removed]",
      "text/plain": [
       "<Figure size 432x288 with 1 Axes>"
      ]
     },
     "metadata": {
      "needs_background": "light"
     },
     "output_type": "display_data"
    }
   ],
   "source": [
    "plt.plot(data[0])"
   ]
  },
  {
   "cell_type": "code",
   "execution_count": null,
   "metadata": {},
   "outputs": [],
   "source": [
    "np.max(vsync)"
   ]
  },
  {
   "cell_type": "code",
   "execution_count": null,
   "metadata": {},
   "outputs": [],
   "source": [
    "vsync = data['data'][()]"
   ]
  },
  {
   "cell_type": "code",
   "execution_count": null,
   "metadata": {},
   "outputs": [],
   "source": [
    "vsync.shape"
   ]
  },
  {
   "cell_type": "code",
   "execution_count": null,
   "metadata": {},
   "outputs": [],
   "source": [
    "np.max(vsync[1])"
   ]
  },
  {
   "cell_type": "code",
   "execution_count": null,
   "metadata": {},
   "outputs": [],
   "source": [
    "peak_indices = np.where(vsync[1]==1)\n",
    "peak_index = [k for k in range(peak_indices[0].shape[0]) if peak_indices[0][k]-peak_indices[0][k-1]!=1]\n",
    "peak_index = peak_indices[0][peak_index]\n",
    "peak_index = peak_index/40.0 # change to ms\n",
    "print(peak_index.shape)"
   ]
  },
  {
   "cell_type": "code",
   "execution_count": null,
   "metadata": {},
   "outputs": [],
   "source": []
  },
  {
   "cell_type": "code",
   "execution_count": null,
   "metadata": {},
   "outputs": [],
   "source": [
    "for val in \"string\":\n",
    "    if val == \"i\":\n",
    "        print(val)\n",
    "        break\n",
    "    \n",
    "\n",
    "print(\"The end\")"
   ]
  },
  {
   "cell_type": "code",
   "execution_count": null,
   "metadata": {},
   "outputs": [],
   "source": [
    "daqData['data'][()]"
   ]
  },
  {
   "cell_type": "code",
   "execution_count": null,
   "metadata": {},
   "outputs": [],
   "source": []
  },
  {
   "cell_type": "code",
   "execution_count": null,
   "metadata": {},
   "outputs": [],
   "source": []
  },
  {
   "cell_type": "code",
   "execution_count": null,
   "metadata": {},
   "outputs": [],
   "source": []
  },
  {
   "cell_type": "code",
   "execution_count": null,
   "metadata": {},
   "outputs": [],
   "source": [
    "data_as_dict['sweep_0001']['analogScans'][0,:]"
   ]
  },
  {
   "cell_type": "code",
   "execution_count": null,
   "metadata": {},
   "outputs": [],
   "source": []
  }
 ],
 "metadata": {
  "kernelspec": {
   "display_name": "Python 3",
   "language": "python",
   "name": "python3"
  },
  "language_info": {
   "codemirror_mode": {
    "name": "ipython",
    "version": 3
   },
   "file_extension": ".py",
   "mimetype": "text/x-python",
   "name": "python",
   "nbconvert_exporter": "python",
   "pygments_lexer": "ipython3",
   "version": "3.7.6"
  }
 },
 "nbformat": 4,
 "nbformat_minor": 4
}
