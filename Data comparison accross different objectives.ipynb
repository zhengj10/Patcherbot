{
 "cells": [
  {
   "cell_type": "code",
   "execution_count": 1,
   "metadata": {},
   "outputs": [],
   "source": [
    "import sys\n",
    "sys.path.append('/Users/zhengj10/Python/Modules')\n",
    "\n",
    "import h5py\n",
    "import os\n",
    "import numpy as np\n",
    "from skimage.io import imsave\n",
    "import matplotlib.pyplot as plt\n",
    "import yaml\n",
    "import pandas as pd\n",
    "import PatcherBot as pb\n",
    "from glob import glob\n",
    "import seaborn as sns\n",
    "from read_roi import read_roi_file\n",
    "from read_roi import read_roi_zip\n",
    "import nd2reader\n",
    "import tifffile as tff\n",
    "from matplotlib.path import Path\n"
   ]
  },
  {
   "cell_type": "markdown",
   "metadata": {},
   "source": [
    "#### Function for roi extraction and dFF calculation"
   ]
  },
  {
   "cell_type": "code",
   "execution_count": 2,
   "metadata": {},
   "outputs": [],
   "source": [
    "def get_roi(roizip,ref):\n",
    "    Fiji_rois = read_roi_zip(roizip) # '/Users/zhengj10/Desktop/RoiSet_pb_cell_edge.zip'\n",
    "    \n",
    "    rois = []\n",
    "    for key in(Fiji_rois):\n",
    "        x = Fiji_rois[key]['x']\n",
    "        y = Fiji_rois[key]['y']\n",
    "        roi = [x,y]\n",
    "        rois.append(roi)\n",
    "    \n",
    "    rois_coordinates = []\n",
    "    for roi in rois:\n",
    "        roi_coordinates = np.array([roi[1],roi[0]]) # To match X,Y with image\n",
    "        roi_coordinates = roi_coordinates.transpose()\n",
    "        rois_coordinates.append(roi_coordinates)\n",
    "    \n",
    "    image_coordinates = []\n",
    "    for r in range(ref.shape[0]):\n",
    "        for c in range(ref.shape[1]):\n",
    "            image_coordinates.append([r,c])\n",
    "\n",
    "    p_roi = Path(rois_coordinates[0])\n",
    "    ROI = p_roi.contains_points(image_coordinates)\n",
    "    roi = ROI.reshape(ref.shape)\n",
    "    \n",
    "    p_fb = Path(rois_coordinates[1])\n",
    "    ROI_fb = p_fb.contains_points(image_coordinates)\n",
    "    fb = ROI_fb.reshape(ref.shape)\n",
    "    return roi, fb\n"
   ]
  },
  {
   "cell_type": "code",
   "execution_count": 3,
   "metadata": {},
   "outputs": [],
   "source": [
    "def get_dff(image,roi,fb,vstep=0):\n",
    "    \n",
    "    f0 = np.sum(np.mean(image[200:300,:,:],axis=0)*roi)/np.sum(roi)\n",
    "    fb = np.sum(np.mean(image[200:300,:,:],axis=0)*fb)/np.sum(fb)\n",
    "    dff_all = []\n",
    "    F = []\n",
    "    for frame in range(image.shape[0]):\n",
    "        f = np.sum((image[frame,:,:]*roi))/np.sum(roi)\n",
    "        F.append(f)\n",
    "        dff = (f-f0)/(f0-fb)\n",
    "        dff_all.append(dff)\n",
    "    if vstep<2:\n",
    "        dff_peak = np.mean(dff_all[600:610])\n",
    "    else:\n",
    "        dff_peak = np.mean(dff_all[480:490])\n",
    "    dff_steady = np.mean(dff_all[1000:1100])\n",
    "    \n",
    "    return F, dff_all, dff_peak, dff_steady\n"
   ]
  },
  {
   "cell_type": "markdown",
   "metadata": {},
   "source": [
    "### Individual dFF trace (PatcherBot)"
   ]
  },
  {
   "cell_type": "code",
   "execution_count": 7,
   "metadata": {},
   "outputs": [
    {
     "ename": "FileNotFoundError",
     "evalue": "[Errno 2] No such file or directory: '/Users/zhengj10/Desktop/Data anlysis collection/PB_vs_Ahmed/PB_processed/RoiSet_cell_0_cell_edge.zip'",
     "output_type": "error",
     "traceback": [
      "\u001b[0;31m---------------------------------------------------------------------------\u001b[0m",
      "\u001b[0;31mFileNotFoundError\u001b[0m                         Traceback (most recent call last)",
      "\u001b[0;32m<ipython-input-7-061501264b3a>\u001b[0m in \u001b[0;36m<module>\u001b[0;34m\u001b[0m\n\u001b[1;32m      7\u001b[0m     \u001b[0mref\u001b[0m \u001b[0;34m=\u001b[0m \u001b[0mnp\u001b[0m\u001b[0;34m.\u001b[0m\u001b[0mmean\u001b[0m\u001b[0;34m(\u001b[0m\u001b[0mimgData\u001b[0m\u001b[0;34m,\u001b[0m\u001b[0maxis\u001b[0m\u001b[0;34m=\u001b[0m\u001b[0;36m0\u001b[0m\u001b[0;34m)\u001b[0m\u001b[0;34m\u001b[0m\u001b[0;34m\u001b[0m\u001b[0m\n\u001b[1;32m      8\u001b[0m     \u001b[0mroizip_cell_edge\u001b[0m \u001b[0;34m=\u001b[0m \u001b[0;34m'/Users/zhengj10/Desktop/Data anlysis collection/PB_vs_Ahmed/PB_processed/RoiSet_cell_0_cell_edge.zip'\u001b[0m\u001b[0;34m\u001b[0m\u001b[0;34m\u001b[0m\u001b[0m\n\u001b[0;32m----> 9\u001b[0;31m     \u001b[0mroi_edge\u001b[0m\u001b[0;34m,\u001b[0m\u001b[0mfb_edge\u001b[0m \u001b[0;34m=\u001b[0m \u001b[0mget_roi\u001b[0m\u001b[0;34m(\u001b[0m\u001b[0mroizip_cell_edge\u001b[0m\u001b[0;34m,\u001b[0m\u001b[0mref\u001b[0m\u001b[0;34m)\u001b[0m\u001b[0;34m\u001b[0m\u001b[0;34m\u001b[0m\u001b[0m\n\u001b[0m\u001b[1;32m     10\u001b[0m     \u001b[0mF\u001b[0m\u001b[0;34m,\u001b[0m \u001b[0mdff_all\u001b[0m\u001b[0;34m,\u001b[0m\u001b[0mdff_peak\u001b[0m\u001b[0;34m,\u001b[0m\u001b[0mdff_steady\u001b[0m \u001b[0;34m=\u001b[0m \u001b[0mget_dff\u001b[0m\u001b[0;34m(\u001b[0m\u001b[0mimgData\u001b[0m\u001b[0;34m,\u001b[0m\u001b[0mroi_edge\u001b[0m\u001b[0;34m,\u001b[0m\u001b[0mfb_edge\u001b[0m\u001b[0;34m,\u001b[0m\u001b[0mvstep\u001b[0m\u001b[0;34m=\u001b[0m\u001b[0mi\u001b[0m\u001b[0;34m,\u001b[0m\u001b[0mrig\u001b[0m\u001b[0;34m=\u001b[0m\u001b[0;34m'bot'\u001b[0m\u001b[0;34m)\u001b[0m\u001b[0;34m\u001b[0m\u001b[0;34m\u001b[0m\u001b[0m\n\u001b[1;32m     11\u001b[0m     \u001b[0max\u001b[0m \u001b[0;34m=\u001b[0m \u001b[0mplt\u001b[0m\u001b[0;34m.\u001b[0m\u001b[0msubplot\u001b[0m\u001b[0;34m(\u001b[0m\u001b[0;36m3\u001b[0m\u001b[0;34m,\u001b[0m\u001b[0;36m3\u001b[0m\u001b[0;34m,\u001b[0m\u001b[0mi\u001b[0m\u001b[0;34m+\u001b[0m\u001b[0;36m1\u001b[0m\u001b[0;34m)\u001b[0m\u001b[0;34m\u001b[0m\u001b[0;34m\u001b[0m\u001b[0m\n",
      "\u001b[0;32m<ipython-input-2-cd5a17bd7084>\u001b[0m in \u001b[0;36mget_roi\u001b[0;34m(roizip, ref)\u001b[0m\n\u001b[1;32m      1\u001b[0m \u001b[0;32mdef\u001b[0m \u001b[0mget_roi\u001b[0m\u001b[0;34m(\u001b[0m\u001b[0mroizip\u001b[0m\u001b[0;34m,\u001b[0m\u001b[0mref\u001b[0m\u001b[0;34m)\u001b[0m\u001b[0;34m:\u001b[0m\u001b[0;34m\u001b[0m\u001b[0;34m\u001b[0m\u001b[0m\n\u001b[0;32m----> 2\u001b[0;31m     \u001b[0mFiji_rois\u001b[0m \u001b[0;34m=\u001b[0m \u001b[0mread_roi_zip\u001b[0m\u001b[0;34m(\u001b[0m\u001b[0mroizip\u001b[0m\u001b[0;34m)\u001b[0m \u001b[0;31m# '/Users/zhengj10/Desktop/RoiSet_pb_cell_edge.zip'\u001b[0m\u001b[0;34m\u001b[0m\u001b[0;34m\u001b[0m\u001b[0m\n\u001b[0m\u001b[1;32m      3\u001b[0m \u001b[0;34m\u001b[0m\u001b[0m\n\u001b[1;32m      4\u001b[0m     \u001b[0mrois\u001b[0m \u001b[0;34m=\u001b[0m \u001b[0;34m[\u001b[0m\u001b[0;34m]\u001b[0m\u001b[0;34m\u001b[0m\u001b[0;34m\u001b[0m\u001b[0m\n\u001b[1;32m      5\u001b[0m     \u001b[0;32mfor\u001b[0m \u001b[0mkey\u001b[0m \u001b[0;32min\u001b[0m\u001b[0;34m(\u001b[0m\u001b[0mFiji_rois\u001b[0m\u001b[0;34m)\u001b[0m\u001b[0;34m:\u001b[0m\u001b[0;34m\u001b[0m\u001b[0;34m\u001b[0m\u001b[0m\n",
      "\u001b[0;32m~/opt/anaconda3/lib/python3.7/site-packages/read_roi/_read_roi.py\u001b[0m in \u001b[0;36mread_roi_zip\u001b[0;34m(zip_path)\u001b[0m\n\u001b[1;32m    399\u001b[0m     \u001b[0;32mfrom\u001b[0m \u001b[0mcollections\u001b[0m \u001b[0;32mimport\u001b[0m \u001b[0mOrderedDict\u001b[0m\u001b[0;34m\u001b[0m\u001b[0;34m\u001b[0m\u001b[0m\n\u001b[1;32m    400\u001b[0m     \u001b[0mrois\u001b[0m \u001b[0;34m=\u001b[0m \u001b[0mOrderedDict\u001b[0m\u001b[0;34m(\u001b[0m\u001b[0;34m)\u001b[0m\u001b[0;34m\u001b[0m\u001b[0;34m\u001b[0m\u001b[0m\n\u001b[0;32m--> 401\u001b[0;31m     \u001b[0mzf\u001b[0m \u001b[0;34m=\u001b[0m \u001b[0mzipfile\u001b[0m\u001b[0;34m.\u001b[0m\u001b[0mZipFile\u001b[0m\u001b[0;34m(\u001b[0m\u001b[0mzip_path\u001b[0m\u001b[0;34m)\u001b[0m\u001b[0;34m\u001b[0m\u001b[0;34m\u001b[0m\u001b[0m\n\u001b[0m\u001b[1;32m    402\u001b[0m     \u001b[0;32mfor\u001b[0m \u001b[0mn\u001b[0m \u001b[0;32min\u001b[0m \u001b[0mzf\u001b[0m\u001b[0;34m.\u001b[0m\u001b[0mnamelist\u001b[0m\u001b[0;34m(\u001b[0m\u001b[0;34m)\u001b[0m\u001b[0;34m:\u001b[0m\u001b[0;34m\u001b[0m\u001b[0;34m\u001b[0m\u001b[0m\n\u001b[1;32m    403\u001b[0m         \u001b[0mrois\u001b[0m\u001b[0;34m.\u001b[0m\u001b[0mupdate\u001b[0m\u001b[0;34m(\u001b[0m\u001b[0mread_roi_file\u001b[0m\u001b[0;34m(\u001b[0m\u001b[0mzf\u001b[0m\u001b[0;34m.\u001b[0m\u001b[0mopen\u001b[0m\u001b[0;34m(\u001b[0m\u001b[0mn\u001b[0m\u001b[0;34m)\u001b[0m\u001b[0;34m)\u001b[0m\u001b[0;34m)\u001b[0m\u001b[0;34m\u001b[0m\u001b[0;34m\u001b[0m\u001b[0m\n",
      "\u001b[0;32m~/opt/anaconda3/lib/python3.7/zipfile.py\u001b[0m in \u001b[0;36m__init__\u001b[0;34m(self, file, mode, compression, allowZip64, compresslevel)\u001b[0m\n\u001b[1;32m   1238\u001b[0m             \u001b[0;32mwhile\u001b[0m \u001b[0;32mTrue\u001b[0m\u001b[0;34m:\u001b[0m\u001b[0;34m\u001b[0m\u001b[0;34m\u001b[0m\u001b[0m\n\u001b[1;32m   1239\u001b[0m                 \u001b[0;32mtry\u001b[0m\u001b[0;34m:\u001b[0m\u001b[0;34m\u001b[0m\u001b[0;34m\u001b[0m\u001b[0m\n\u001b[0;32m-> 1240\u001b[0;31m                     \u001b[0mself\u001b[0m\u001b[0;34m.\u001b[0m\u001b[0mfp\u001b[0m \u001b[0;34m=\u001b[0m \u001b[0mio\u001b[0m\u001b[0;34m.\u001b[0m\u001b[0mopen\u001b[0m\u001b[0;34m(\u001b[0m\u001b[0mfile\u001b[0m\u001b[0;34m,\u001b[0m \u001b[0mfilemode\u001b[0m\u001b[0;34m)\u001b[0m\u001b[0;34m\u001b[0m\u001b[0;34m\u001b[0m\u001b[0m\n\u001b[0m\u001b[1;32m   1241\u001b[0m                 \u001b[0;32mexcept\u001b[0m \u001b[0mOSError\u001b[0m\u001b[0;34m:\u001b[0m\u001b[0;34m\u001b[0m\u001b[0;34m\u001b[0m\u001b[0m\n\u001b[1;32m   1242\u001b[0m                     \u001b[0;32mif\u001b[0m \u001b[0mfilemode\u001b[0m \u001b[0;32min\u001b[0m \u001b[0mmodeDict\u001b[0m\u001b[0;34m:\u001b[0m\u001b[0;34m\u001b[0m\u001b[0;34m\u001b[0m\u001b[0m\n",
      "\u001b[0;31mFileNotFoundError\u001b[0m: [Errno 2] No such file or directory: '/Users/zhengj10/Desktop/Data anlysis collection/PB_vs_Ahmed/PB_processed/RoiSet_cell_0_cell_edge.zip'"
     ]
    },
    {
     "data": {
      "text/plain": [
       "<Figure size 720x720 with 0 Axes>"
      ]
     },
     "metadata": {},
     "output_type": "display_data"
    }
   ],
   "source": [
    "plt.figure(figsize=[10,10])\n",
    "lens = '40xoil'\n",
    "cell_no = 'patch_attempt_0000_002'\n",
    "imgPath='/Volumes/genie/Jihong_GENIE_stuff/PatcherBot/200716/200716/' + cell_no\n",
    "for i in range(9):\n",
    "    imgFile = os.path.join(imgPath,'camera_clamp1_000',str(i).zfill(3),'Camera','frames.ma')\n",
    "    data = h5py.File(imgFile,'r')\n",
    "    imgData = data['data'][()]\n",
    "    ref = np.mean(imgData,axis=0)\n",
    "    roizip = '/Users/zhengj10/Desktop/Data anlysis collection/PB_vs_Ahmed/PB_processed/RoiSet_cell_0_cell_edge.zip'             \n",
    "    roi,fb = get_roi(roizip,ref)\n",
    "    F, dff_all,dff_peak,dff_steady = get_dff(imgData,roi,fb,vstep=i,rig='bot')\n",
    "    ax = plt.subplot(3,3,i+1)\n",
    "    x_p = np.argmin(np.abs(dff_all-dff_peak))\n",
    "    x_s = np.argmin(np.abs(dff_all-dff_steady))\n",
    "#     ax.scatter(x_p,dff_peak,color='m',s=500)\n",
    "#     ax.scatter(x_s,dff_steady,color='y',s=500)\n",
    "#     ax.plot(F)\n",
    "    ax.plot(dff_all)\n",
    "#     ax.set_ylim([1700,1725])\n",
    "    ax.set_ylim([-0.31,0.12])\n",
    "    if i in [6,7,8]:\n",
    "        ax.set_xlabel('ms',size=12)\n",
    "    if i in [0,3,6]:\n",
    "        ax.set_ylabel('\\u0394F/F',size=12)\n",
    "#     print(ax.get_ylim())\n",
    "plt.tight_layout()\n",
    "\n",
    "# plt.savefig('/Users/zhengj10/Desktop/'+ lens + '/' + cell_no + '.png',dpi=1200)\n",
    "plt.show()\n"
   ]
  }
 ],
 "metadata": {
  "kernelspec": {
   "display_name": "Python 3",
   "language": "python",
   "name": "python3"
  },
  "language_info": {
   "codemirror_mode": {
    "name": "ipython",
    "version": 3
   },
   "file_extension": ".py",
   "mimetype": "text/x-python",
   "name": "python",
   "nbconvert_exporter": "python",
   "pygments_lexer": "ipython3",
   "version": "3.7.6"
  }
 },
 "nbformat": 4,
 "nbformat_minor": 2
}
