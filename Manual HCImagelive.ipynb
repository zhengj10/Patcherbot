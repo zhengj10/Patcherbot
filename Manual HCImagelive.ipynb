{
 "cells": [
  {
   "cell_type": "code",
   "execution_count": 1,
   "metadata": {},
   "outputs": [],
   "source": [
    "import os\n",
    "import numpy as np\n",
    "import tifffile as tff\n",
    "from glob import glob\n",
    "from skimage.io import imsave\n",
    "import exifread\n",
    "import matplotlib.pyplot as plt\n"
   ]
  },
  {
   "cell_type": "code",
   "execution_count": 3,
   "metadata": {},
   "outputs": [
    {
     "data": {
      "text/plain": [
       "True"
      ]
     },
     "execution_count": 3,
     "metadata": {},
     "output_type": "execute_result"
    }
   ],
   "source": [
    "savePath = '/Users/zhengj10/Desktop/'\n",
    "imgPath = '/Volumes/genie/Jihong_GENIE_stuff/ws/'\n",
    "# imgPath = '/Volumes/Backup Plus/ws/'\n",
    "os.path.exists(imgPath)\n"
   ]
  },
  {
   "cell_type": "markdown",
   "metadata": {},
   "source": [
    "#### Grab timing info of single tif files"
   ]
  },
  {
   "cell_type": "code",
   "execution_count": 26,
   "metadata": {},
   "outputs": [],
   "source": [
    "def get_singletif_timing(img):\n",
    "# Open image file for reading (binary mode)\n",
    "\n",
    "    with open(img, 'rb') as f:\n",
    "    # Return Exif tags\n",
    "    \n",
    "        tags = exifread.process_file(f)\n",
    "        # Print the tag/ value pairs\n",
    "        \n",
    "        for tag in tags.keys():\n",
    "        # if tag not in ('JPEGThumbnail', 'TIFFThumbnail', 'Filename', 'EXIF MakerNote'):\n",
    "#             print (\"Key: %s, value %s\" % (tag, tags[tag]))\n",
    "\n",
    "            img_des = (tags['Image ImageDescription']).values\n",
    "            time_from_start = int(img_des[622:626])\n",
    "            time_from_last = int(img_des[-6:-2])\n",
    "            frame_timing = time_from_start+time_from_last\n",
    "    return time_from_start,time_from_last,frame_timing\n"
   ]
  },
  {
   "cell_type": "markdown",
   "metadata": {},
   "source": [
    "#### Grab timing info of multipage tif files"
   ]
  },
  {
   "cell_type": "code",
   "execution_count": 4,
   "metadata": {},
   "outputs": [],
   "source": [
    "def get_multitif_timing(img):\n",
    "    with open(img, 'rb') as f:\n",
    "        a = f.readlines()\n",
    "\n",
    "        time_from_start_list = [s for s in a if b' Time_From_Start =' in s]\n",
    "    #     print(time_from_start_list)\n",
    "        time_from_last_list = [s for s in a if b' Time_From_Last =' in s]\n",
    "        time_from_start = []\n",
    "        time_from_last = []\n",
    "        frames_timing = []\n",
    "        for frame in range(len(time_from_start_list)):\n",
    "            time_from_start_single_frame = int(time_from_start_list[frame][-6:-2].decode(\"utf-8\"))\n",
    "            time_from_last_single_frame = int(time_from_last_list[frame][-6:-2].decode(\"utf-8\"))\n",
    "            time_from_start.append(time_from_start_single_frame)\n",
    "            time_from_last.append(time_from_last_single_frame)\n",
    "            frames_timing.append(time_from_start[frame]+time_from_last[frame])\n",
    "\n",
    "    return time_from_start,time_from_last,frames_timing\n"
   ]
  },
  {
   "cell_type": "markdown",
   "metadata": {},
   "source": [
    "#### Grab F and frame timing of single tif files"
   ]
  },
  {
   "cell_type": "code",
   "execution_count": 27,
   "metadata": {},
   "outputs": [
    {
     "name": "stdout",
     "output_type": "stream",
     "text": [
      "3198\n"
     ]
    }
   ],
   "source": [
    "frame_time_1 = []\n",
    "\n",
    "\n",
    "imgFiles = glob(os.path.join(imgPath,'Image7*'))\n",
    "imgFiles = sorted(imgFiles)\n",
    "print(len(imgFiles))\n",
    "\n",
    "#     print (type(img_stack))\n",
    "frames_timing = []\n",
    "for imgFile in imgFiles:\n",
    "\n",
    "    time_from_start,time_from_last,frame_timing = get_singletif_timing(imgFile)\n",
    "    frames_timing.append(frame_timing)\n",
    "    \n",
    "frames_timing = np.array(frames_timing)       \n",
    "\n",
    "frame_time_1.append(frames_timing)\n",
    "    \n"
   ]
  },
  {
   "cell_type": "code",
   "execution_count": 50,
   "metadata": {},
   "outputs": [],
   "source": [
    "frames_timing = frames_timing/10"
   ]
  },
  {
   "cell_type": "code",
   "execution_count": 51,
   "metadata": {},
   "outputs": [
    {
     "data": {
      "text/plain": [
       "[<matplotlib.lines.Line2D at 0x7fed9417f650>]"
      ]
     },
     "execution_count": 51,
     "metadata": {},
     "output_type": "execute_result"
    },
    {
     "data": {
      "image/png": "[encoded data removed]",
      "text/plain": [
       "<Figure size 432x288 with 1 Axes>"
      ]
     },
     "metadata": {
      "needs_background": "light"
     },
     "output_type": "display_data"
    }
   ],
   "source": [
    "plt.plot(frames_timing[:-3])"
   ]
  },
  {
   "cell_type": "code",
   "execution_count": 83,
   "metadata": {},
   "outputs": [
    {
     "data": {
      "text/plain": [
       "'/Volumes/genie/Jihong_GENIE_stuff/ws/Image7_00003.tif'"
      ]
     },
     "execution_count": 83,
     "metadata": {},
     "output_type": "execute_result"
    }
   ],
   "source": [
    "imgFiles[2]"
   ]
  },
  {
   "cell_type": "code",
   "execution_count": 101,
   "metadata": {},
   "outputs": [
    {
     "data": {
      "text/plain": [
       "'Created by Hamamatsu Inc.\\r\\nMon, 05 Oct 2020 16:35:10 Eastern Daylight Time\\r\\n\\r\\n[ CALIBRATION ]\\r\\ntitle = Default\\r\\nunits = Pixels\\r\\nsymbol = Px\\r\\nfactor = 1.000000\\r\\nmagnification = 4.000000\\r\\nscale_len = 100.000000\\r\\n\\r\\n[ CAPTURE DEVICE ]\\r\\n Camera Type = D_CAM\\r\\n Camera Name = C13440-20C S/N: 302296\\r\\n Camera Size = 2048x2048\\r\\n Bit Depth = 16-Bit\\r\\n Binning = 4\\r\\n Capture Region = (X0=0, Y0=248, Width=512, Height=16)\\r\\n\\r\\n[ CAPTURE SETTINGS ]\\r\\n Temperature = -10.00\\r\\n Filter1 =  Default Idle Positions\\r\\n Tint1 = None\\r\\n eOffset1 = 1600.00\\r\\n eCoeff1 = 0.46000\\r\\n Exposure1 = 0.000312 s\\r\\n\\r\\n[ CAPTURE TIME ]\\r\\n Time_From_Start = 00:00:00.0015\\r\\n Time_From_Last = 00:00:00.0003\\r\\n'"
      ]
     },
     "execution_count": 101,
     "metadata": {},
     "output_type": "execute_result"
    }
   ],
   "source": [
    "img = imgFiles[3]\n",
    "with open(img, 'rb') as f:\n",
    "    # Return Exif tags\n",
    "\n",
    "    tags = exifread.process_file(f)\n",
    "    # Print the tag/ value pairs\n",
    "\n",
    "    for tag in tags.keys():\n",
    "    # if tag not in ('JPEGThumbnail', 'TIFFThumbnail', 'Filename', 'EXIF MakerNote'):\n",
    "#             print (\"Key: %s, value %s\" % (tag, tags[tag]))\n",
    "\n",
    "        img_des = (tags['Image ImageDescription']).values\n",
    "img_des\n"
   ]
  },
  {
   "cell_type": "code",
   "execution_count": 10,
   "metadata": {},
   "outputs": [],
   "source": [
    "import h5py\n",
    "import numpy as np\n",
    "import matplotlib.pyplot as plt"
   ]
  },
  {
   "cell_type": "code",
   "execution_count": 85,
   "metadata": {},
   "outputs": [],
   "source": [
    "# daq_file = h5py.File(imgPath + '/trial_0007.h5','r')\n",
    "daq_file = h5py.File('/Volumes/genie/Jihong_GENIE_stuff/201020/cell_2/trial_0012.h5','r')"
   ]
  },
  {
   "cell_type": "code",
   "execution_count": 86,
   "metadata": {},
   "outputs": [
    {
     "name": "stdout",
     "output_type": "stream",
     "text": [
      "header\n",
      "sweep_0012\n"
     ]
    }
   ],
   "source": [
    "for k in daq_file.keys():\n",
    "    print(k)"
   ]
  },
  {
   "cell_type": "code",
   "execution_count": 88,
   "metadata": {},
   "outputs": [],
   "source": [
    "data = daq_file['sweep_0012']['digitalScans'][()]"
   ]
  },
  {
   "cell_type": "code",
   "execution_count": 89,
   "metadata": {},
   "outputs": [],
   "source": [
    "data = np.squeeze(data)"
   ]
  },
  {
   "cell_type": "code",
   "execution_count": 69,
   "metadata": {},
   "outputs": [
    {
     "data": {
      "image/png": "[encoded data removed]",
      "text/plain": [
       "<Figure size 1080x288 with 1 Axes>"
      ]
     },
     "metadata": {
      "needs_background": "light"
     },
     "output_type": "display_data"
    }
   ],
   "source": [
    "fig = plt.figure(figsize=[15,4])\n",
    "# x_start = 0\n",
    "# x = np.linspace(0,2000,80000)\n",
    "\n",
    "# plt.plot(x,data)\n",
    "\n",
    "# # x1 = frames_timing[:-3]\n",
    "# y1 = np.ones(3195)\n",
    "# # plt.scatter(x1,y1,color='m')\n",
    "# plt.xlim([x_start,x_start+10])\n",
    "plt.plot(data[:14])\n",
    "plt.show()"
   ]
  },
  {
   "cell_type": "code",
   "execution_count": 70,
   "metadata": {},
   "outputs": [
    {
     "ename": "NameError",
     "evalue": "name 'frames_timing' is not defined",
     "output_type": "error",
     "traceback": [
      "\u001b[0;31m---------------------------------------------------------------------------\u001b[0m",
      "\u001b[0;31mNameError\u001b[0m                                 Traceback (most recent call last)",
      "\u001b[0;32m<ipython-input-70-0bfd609b1692>\u001b[0m in \u001b[0;36m<module>\u001b[0;34m\u001b[0m\n\u001b[0;32m----> 1\u001b[0;31m \u001b[0mplt\u001b[0m\u001b[0;34m.\u001b[0m\u001b[0mplot\u001b[0m\u001b[0;34m(\u001b[0m\u001b[0mframes_timing\u001b[0m\u001b[0;34m[\u001b[0m\u001b[0;34m:\u001b[0m\u001b[0;36m10\u001b[0m\u001b[0;34m]\u001b[0m\u001b[0;34m)\u001b[0m\u001b[0;34m\u001b[0m\u001b[0;34m\u001b[0m\u001b[0m\n\u001b[0m\u001b[1;32m      2\u001b[0m \u001b[0;31m# plt.xlim([0,10])\u001b[0m\u001b[0;34m\u001b[0m\u001b[0;34m\u001b[0m\u001b[0;34m\u001b[0m\u001b[0m\n",
      "\u001b[0;31mNameError\u001b[0m: name 'frames_timing' is not defined"
     ]
    }
   ],
   "source": [
    "plt.plot(frames_timing[:10])\n",
    "# plt.xlim([0,10])\n"
   ]
  },
  {
   "cell_type": "code",
   "execution_count": 97,
   "metadata": {},
   "outputs": [
    {
     "data": {
      "text/plain": [
       "2.1"
      ]
     },
     "execution_count": 97,
     "metadata": {},
     "output_type": "execute_result"
    }
   ],
   "source": [
    "frames_timing[4]"
   ]
  },
  {
   "cell_type": "code",
   "execution_count": 71,
   "metadata": {},
   "outputs": [
    {
     "data": {
      "text/plain": [
       "(80000,)"
      ]
     },
     "execution_count": 71,
     "metadata": {},
     "output_type": "execute_result"
    }
   ],
   "source": [
    "data.shape"
   ]
  },
  {
   "cell_type": "code",
   "execution_count": 72,
   "metadata": {},
   "outputs": [],
   "source": [
    "peaks = np.where(data==1)"
   ]
  },
  {
   "cell_type": "code",
   "execution_count": 73,
   "metadata": {},
   "outputs": [
    {
     "data": {
      "text/plain": [
       "(25601,)"
      ]
     },
     "execution_count": 73,
     "metadata": {},
     "output_type": "execute_result"
    }
   ],
   "source": [
    "peaks[0].shape"
   ]
  },
  {
   "cell_type": "code",
   "execution_count": 74,
   "metadata": {},
   "outputs": [
    {
     "data": {
      "text/plain": [
       "array([13, 14, 15, 16, 26])"
      ]
     },
     "execution_count": 74,
     "metadata": {},
     "output_type": "execute_result"
    }
   ],
   "source": [
    "peaks[0][:5]"
   ]
  },
  {
   "cell_type": "code",
   "execution_count": 75,
   "metadata": {},
   "outputs": [
    {
     "data": {
      "text/plain": [
       "25601"
      ]
     },
     "execution_count": 75,
     "metadata": {},
     "output_type": "execute_result"
    }
   ],
   "source": [
    "len(peaks[0])"
   ]
  },
  {
   "cell_type": "code",
   "execution_count": 76,
   "metadata": {},
   "outputs": [],
   "source": [
    "peak_no = [peak for peak in range(1,peaks[0].shape[0]) if peaks[0][peak]-peaks[0][peak-1]!=1]\n",
    "# peak_no = peak_no+1 # The 1st peak is not counted above"
   ]
  },
  {
   "cell_type": "code",
   "execution_count": 77,
   "metadata": {},
   "outputs": [],
   "source": [
    "first = [0]"
   ]
  },
  {
   "cell_type": "code",
   "execution_count": 78,
   "metadata": {},
   "outputs": [],
   "source": [
    "peaks_idx = first+peak_no"
   ]
  },
  {
   "cell_type": "code",
   "execution_count": null,
   "metadata": {},
   "outputs": [],
   "source": []
  },
  {
   "cell_type": "code",
   "execution_count": 79,
   "metadata": {},
   "outputs": [],
   "source": [
    "peak_time = []\n",
    "for time_point in peaks_idx:\n",
    "    peak_time.append(peaks[0][time_point])\n",
    "    \n",
    "    "
   ]
  },
  {
   "cell_type": "code",
   "execution_count": 80,
   "metadata": {},
   "outputs": [],
   "source": [
    "peak_time = np.array(peak_time)/40.0"
   ]
  },
  {
   "cell_type": "code",
   "execution_count": 68,
   "metadata": {},
   "outputs": [
    {
     "data": {
      "text/plain": [
       "499.25"
      ]
     },
     "execution_count": 68,
     "metadata": {},
     "output_type": "execute_result"
    }
   ],
   "source": [
    "peak_time[1600]"
   ]
  },
  {
   "cell_type": "code",
   "execution_count": 81,
   "metadata": {},
   "outputs": [
    {
     "data": {
      "text/plain": [
       "499.25"
      ]
     },
     "execution_count": 81,
     "metadata": {},
     "output_type": "execute_result"
    }
   ],
   "source": [
    "peak_time[1600]"
   ]
  },
  {
   "cell_type": "code",
   "execution_count": 87,
   "metadata": {},
   "outputs": [],
   "source": [
    "a = data"
   ]
  },
  {
   "cell_type": "code",
   "execution_count": 90,
   "metadata": {},
   "outputs": [],
   "source": [
    "b = data"
   ]
  },
  {
   "cell_type": "code",
   "execution_count": 92,
   "metadata": {},
   "outputs": [
    {
     "data": {
      "text/plain": [
       "[<matplotlib.lines.Line2D at 0x7fe991a50f90>]"
      ]
     },
     "execution_count": 92,
     "metadata": {},
     "output_type": "execute_result"
    },
    {
     "data": {
      "image/png": "[encoded data removed]",
      "text/plain": [
       "<Figure size 432x288 with 1 Axes>"
      ]
     },
     "metadata": {
      "needs_background": "light"
     },
     "output_type": "display_data"
    }
   ],
   "source": [
    "plt.plot(a-b)"
   ]
  },
  {
   "cell_type": "code",
   "execution_count": null,
   "metadata": {},
   "outputs": [],
   "source": []
  },
  {
   "cell_type": "code",
   "execution_count": null,
   "metadata": {},
   "outputs": [],
   "source": []
  },
  {
   "cell_type": "code",
   "execution_count": null,
   "metadata": {},
   "outputs": [],
   "source": []
  },
  {
   "cell_type": "code",
   "execution_count": null,
   "metadata": {},
   "outputs": [],
   "source": []
  },
  {
   "cell_type": "code",
   "execution_count": null,
   "metadata": {},
   "outputs": [],
   "source": []
  },
  {
   "cell_type": "code",
   "execution_count": null,
   "metadata": {},
   "outputs": [],
   "source": []
  },
  {
   "cell_type": "code",
   "execution_count": null,
   "metadata": {},
   "outputs": [],
   "source": []
  },
  {
   "cell_type": "code",
   "execution_count": null,
   "metadata": {},
   "outputs": [],
   "source": []
  },
  {
   "cell_type": "code",
   "execution_count": null,
   "metadata": {},
   "outputs": [],
   "source": []
  },
  {
   "cell_type": "code",
   "execution_count": null,
   "metadata": {},
   "outputs": [],
   "source": []
  },
  {
   "cell_type": "code",
   "execution_count": null,
   "metadata": {},
   "outputs": [],
   "source": []
  },
  {
   "cell_type": "code",
   "execution_count": null,
   "metadata": {},
   "outputs": [],
   "source": []
  },
  {
   "cell_type": "code",
   "execution_count": null,
   "metadata": {},
   "outputs": [],
   "source": []
  },
  {
   "cell_type": "code",
   "execution_count": null,
   "metadata": {},
   "outputs": [],
   "source": []
  },
  {
   "cell_type": "code",
   "execution_count": null,
   "metadata": {},
   "outputs": [],
   "source": []
  },
  {
   "cell_type": "code",
   "execution_count": 102,
   "metadata": {},
   "outputs": [
    {
     "name": "stdout",
     "output_type": "stream",
     "text": [
      "1\n",
      "0\n",
      "(0,)\n",
      "2\n",
      "0\n",
      "(0,)\n",
      "3\n",
      "0\n",
      "(0,)\n",
      "4\n",
      "0\n",
      "(0,)\n",
      "Total trials: 4\n"
     ]
    }
   ],
   "source": [
    "f_all_1 = []\n",
    "frame_time_1 = []\n",
    "\n",
    "for trial in range(4):\n",
    "   \n",
    "    print(trial+1)\n",
    "#     imgFiles = glob(os.path.join(imgPath,'trial_'+str(trial+1) + '/*.tif'))\n",
    "    imgFiles = glob(os.path.join(imgPath,'Image7'))\n",
    "    imgFiles = sorted(imgFiles)\n",
    "    print(len(imgFiles))\n",
    "    img_stack = []\n",
    "#     print (type(img_stack))\n",
    "    frames_timing = []\n",
    "    for imgFile in imgFiles:\n",
    "\n",
    "        time_from_start,time_from_last,frame_timing = get_singletif_timing(imgFile)\n",
    "        frames_timing.append(frame_timing)\n",
    "        imgFile = tff.TiffFile(imgFile)\n",
    "        imgFile = imgFile.asarray()\n",
    "        img_stack.append(imgFile)\n",
    "    \n",
    "    frames_timing = np.array(frames_timing)       \n",
    "    img_stack = np.array(img_stack)\n",
    "                         \n",
    "    print(img_stack.shape)\n",
    "                         \n",
    "    f_single_trial = []\n",
    "    for frame in range(img_stack.shape[0]):\n",
    "        act_pixels = img_stack[frame,:,230:282]\n",
    "        f = np.mean(act_pixels)\n",
    "        f_single_trial.append(f)\n",
    "    f_single_trial = np.array(f_single_trial)\n",
    "    \n",
    "    f_all_1.append(f_single_trial)\n",
    "    frame_time_1.append(frames_timing)\n",
    "    \n",
    "print('Total trials: %d' %(len(f_all_1)))\n"
   ]
  },
  {
   "cell_type": "markdown",
   "metadata": {},
   "source": [
    "#### Grab F and frame timing of multipage tif files"
   ]
  },
  {
   "cell_type": "code",
   "execution_count": 103,
   "metadata": {},
   "outputs": [
    {
     "name": "stdout",
     "output_type": "stream",
     "text": [
      "5\n"
     ]
    },
    {
     "ename": "IndexError",
     "evalue": "list index out of range",
     "output_type": "error",
     "traceback": [
      "\u001b[0;31m---------------------------------------------------------------------------\u001b[0m",
      "\u001b[0;31mIndexError\u001b[0m                                Traceback (most recent call last)",
      "\u001b[0;32m<ipython-input-103-11e1af9b5177>\u001b[0m in \u001b[0;36m<module>\u001b[0;34m\u001b[0m\n\u001b[1;32m      6\u001b[0m     \u001b[0mprint\u001b[0m\u001b[0;34m(\u001b[0m\u001b[0mtrial\u001b[0m\u001b[0;34m+\u001b[0m\u001b[0;36m1\u001b[0m\u001b[0;34m)\u001b[0m\u001b[0;34m\u001b[0m\u001b[0;34m\u001b[0m\u001b[0m\n\u001b[1;32m      7\u001b[0m     \u001b[0mimgFile\u001b[0m \u001b[0;34m=\u001b[0m \u001b[0mglob\u001b[0m\u001b[0;34m(\u001b[0m\u001b[0mos\u001b[0m\u001b[0;34m.\u001b[0m\u001b[0mpath\u001b[0m\u001b[0;34m.\u001b[0m\u001b[0mjoin\u001b[0m\u001b[0;34m(\u001b[0m\u001b[0mimgPath\u001b[0m\u001b[0;34m,\u001b[0m\u001b[0;34m'trial_'\u001b[0m\u001b[0;34m+\u001b[0m\u001b[0mstr\u001b[0m\u001b[0;34m(\u001b[0m\u001b[0mtrial\u001b[0m\u001b[0;34m+\u001b[0m\u001b[0;36m1\u001b[0m\u001b[0;34m)\u001b[0m \u001b[0;34m+\u001b[0m \u001b[0;34m'/*.tif'\u001b[0m\u001b[0;34m)\u001b[0m\u001b[0;34m)\u001b[0m\u001b[0;34m\u001b[0m\u001b[0;34m\u001b[0m\u001b[0m\n\u001b[0;32m----> 8\u001b[0;31m     \u001b[0mimgFile\u001b[0m \u001b[0;34m=\u001b[0m \u001b[0mimgFile\u001b[0m\u001b[0;34m[\u001b[0m\u001b[0;36m0\u001b[0m\u001b[0;34m]\u001b[0m\u001b[0;34m\u001b[0m\u001b[0;34m\u001b[0m\u001b[0m\n\u001b[0m\u001b[1;32m      9\u001b[0m \u001b[0;34m\u001b[0m\u001b[0m\n\u001b[1;32m     10\u001b[0m     \u001b[0mtime_from_start\u001b[0m\u001b[0;34m,\u001b[0m\u001b[0mtime_from_last\u001b[0m\u001b[0;34m,\u001b[0m\u001b[0mframes_timing\u001b[0m \u001b[0;34m=\u001b[0m \u001b[0mget_multitif_timing\u001b[0m\u001b[0;34m(\u001b[0m\u001b[0mimgFile\u001b[0m\u001b[0;34m)\u001b[0m\u001b[0;34m\u001b[0m\u001b[0;34m\u001b[0m\u001b[0m\n",
      "\u001b[0;31mIndexError\u001b[0m: list index out of range"
     ]
    }
   ],
   "source": [
    "f_all_2 = []\n",
    "frame_time_2 = []\n",
    "\n",
    "for trial in range(4,14):\n",
    "   \n",
    "    print(trial+1)\n",
    "    imgFile = glob(os.path.join(imgPath,'trial_'+str(trial+1) + '/*.tif'))\n",
    "    imgFile = imgFile[0]\n",
    "\n",
    "    time_from_start,time_from_last,frames_timing = get_multitif_timing(imgFile)\n",
    "    imgFile = tff.TiffFile(imgFile)\n",
    "    imgFile = imgFile.asarray()\n",
    "    print(imgFile.shape)\n",
    "    \n",
    "    time_from_start = np.array(time_from_start)\n",
    "    time_from_last = np.array(time_from_last)\n",
    "    frames_timing = np.array(frames_timing)\n",
    "    \n",
    "    img_stack = np.squeeze(imgFile)\n",
    "   \n",
    "    print(img_stack.shape)\n",
    "       \n",
    "    f_single_trial = []\n",
    "    for frame in range(img_stack.shape[0]):\n",
    "        act_pixels = img_stack[frame,:,230:282]\n",
    "        f = np.mean(act_pixels)\n",
    "        f_single_trial.append(f)\n",
    "    f_single_trial = np.array(f_single_trial)\n",
    "    f_all_2.append(f_single_trial)\n",
    "    frame_time_2.append(frames_timing)\n",
    "    \n",
    "print('Total trials: %d' %(len(f_all_2)))\n"
   ]
  },
  {
   "cell_type": "code",
   "execution_count": 7,
   "metadata": {},
   "outputs": [],
   "source": [
    "f_all = f_all_1 + f_all_2\n",
    "frame_time = frame_time_1 + frame_time_2\n",
    "f_all = np.array(f_all)\n",
    "frame_time = np.array(frame_time)"
   ]
  },
  {
   "cell_type": "code",
   "execution_count": 29,
   "metadata": {},
   "outputs": [
    {
     "data": {
      "image/png": "[encoded data removed]",
      "text/plain": [
       "<Figure size 432x576 with 13 Axes>"
      ]
     },
     "metadata": {
      "needs_background": "light"
     },
     "output_type": "display_data"
    }
   ],
   "source": [
    "frame_time_x = frame_time / 10.0\n",
    "fig = plt.figure(figsize=[6,8])\n",
    "x = 500 # (with alignment)\n",
    "# x = 590 # (without alignment)\n",
    "for i in range(f_all.shape[0]):\n",
    "    if i == 7:\n",
    "        continue\n",
    "    ax = plt.subplot(5,3,i+1)\n",
    "    \n",
    "### Plot with alignment\n",
    "    ax.plot(frame_time_x[i][1000:2000],f_all[i][1000:2000],color='k',alpha=0.7)\n",
    "    ax.set_xlim([495,510])\n",
    "\n",
    "# ### Plot without alignment\n",
    "#     ax.plot(f_all[i][1000:2000],color='k',alpha=0.7)\n",
    "#     ax.set_xlim([575,620])\n",
    "    \n",
    "    \n",
    "    y_top = ax.get_ylim()[1]\n",
    "    y_bottom = ax.get_ylim()[1]-10\n",
    "    ax.plot([x,x],[y_top,y_bottom],color='r',alpha=0.5)\n",
    "plt.tight_layout()\n",
    "plt.show()\n",
    "# fig.savefig(savePath + '/476.1_F_aligned.png',dpi=1200)\n"
   ]
  },
  {
   "cell_type": "markdown",
   "metadata": {},
   "source": [
    "#### Mean F of aligned F traces"
   ]
  },
  {
   "cell_type": "code",
   "execution_count": 33,
   "metadata": {},
   "outputs": [],
   "source": [
    "f_mean_all = []\n",
    "for i in range(f_all.shape[0]):\n",
    "    if i ==7:\n",
    "        continue\n",
    "    f_mean_all.append(f_all[i][:3000])"
   ]
  },
  {
   "cell_type": "code",
   "execution_count": 34,
   "metadata": {},
   "outputs": [],
   "source": [
    "f_mean = np.mean(f_mean_all, axis=0)"
   ]
  },
  {
   "cell_type": "code",
   "execution_count": 35,
   "metadata": {},
   "outputs": [
    {
     "data": {
      "text/plain": [
       "(1550, 1660)"
      ]
     },
     "execution_count": 35,
     "metadata": {},
     "output_type": "execute_result"
    },
    {
     "data": {
      "image/png": "[encoded data removed]",
      "text/plain": [
       "<Figure size 432x288 with 1 Axes>"
      ]
     },
     "metadata": {
      "needs_background": "light"
     },
     "output_type": "display_data"
    }
   ],
   "source": [
    "plt.plot(f_mean)\n",
    "plt.xlim([1550,1660])"
   ]
  },
  {
   "cell_type": "markdown",
   "metadata": {},
   "source": [
    "#### Example image"
   ]
  },
  {
   "cell_type": "code",
   "execution_count": 36,
   "metadata": {},
   "outputs": [],
   "source": [
    "imgFiles = glob(os.path.join(imgPath,'trial_1' + '/*.tif'))\n",
    "imgFiles = sorted(imgFiles)\n",
    "#     print(len(imgFiles))\n",
    "img_stack = []\n",
    "#     print (type(img_stack))\n",
    "frames_timing = []\n",
    "for imgFile in imgFiles:\n",
    "\n",
    "    time_from_start,time_from_last,frame_timing = get_singletif_timing(imgFile)\n",
    "    frames_timing.append(frame_timing)\n",
    "    imgFile = tff.TiffFile(imgFile)\n",
    "    imgFile = imgFile.asarray()\n",
    "    img_stack.append(imgFile)"
   ]
  },
  {
   "cell_type": "code",
   "execution_count": 37,
   "metadata": {},
   "outputs": [],
   "source": [
    "meanImg = np.mean(img_stack, axis=0)"
   ]
  },
  {
   "cell_type": "code",
   "execution_count": 38,
   "metadata": {},
   "outputs": [],
   "source": [
    "from skimage.io import imsave"
   ]
  },
  {
   "cell_type": "code",
   "execution_count": 41,
   "metadata": {},
   "outputs": [],
   "source": [
    "imsave(savePath+'/mean_img.tif',meanImg,plugin='tifffile')"
   ]
  },
  {
   "cell_type": "code",
   "execution_count": null,
   "metadata": {},
   "outputs": [],
   "source": []
  },
  {
   "cell_type": "code",
   "execution_count": null,
   "metadata": {},
   "outputs": [],
   "source": []
  },
  {
   "cell_type": "code",
   "execution_count": null,
   "metadata": {},
   "outputs": [],
   "source": [
    "ax = plt.subplot(111)\n",
    "ax.plot(frame_time_2[3][1000:2000],f_all_2[3][1000:2000])\n",
    "ax.set_xlim([4950,5050])\n",
    "ax.plot([x,x],[1760,1800],color='m')\n",
    "plt.show()\n"
   ]
  },
  {
   "cell_type": "code",
   "execution_count": null,
   "metadata": {},
   "outputs": [],
   "source": [
    "a = [1,2]\n",
    "b = ['tom','john']\n",
    "a+b"
   ]
  },
  {
   "cell_type": "code",
   "execution_count": null,
   "metadata": {},
   "outputs": [],
   "source": []
  },
  {
   "cell_type": "code",
   "execution_count": null,
   "metadata": {},
   "outputs": [],
   "source": []
  },
  {
   "cell_type": "code",
   "execution_count": null,
   "metadata": {},
   "outputs": [],
   "source": [
    "import matplotlib.pyplot as plt\n",
    "\n",
    "for i in range(4):\n",
    "    ax = plt.subplot(2,2,i+1)\n",
    "    ax.plot(f_all[i])\n",
    "    ax.set_xlim([1580,1620])\n",
    "\n",
    "plt.show()"
   ]
  },
  {
   "cell_type": "code",
   "execution_count": null,
   "metadata": {},
   "outputs": [],
   "source": []
  },
  {
   "cell_type": "code",
   "execution_count": null,
   "metadata": {},
   "outputs": [],
   "source": [
    "imgFiles = glob(imgPath + '/*.tif')\n",
    "imgFiles = sorted(imgFiles)\n",
    "len(imgFiles)"
   ]
  },
  {
   "cell_type": "code",
   "execution_count": null,
   "metadata": {},
   "outputs": [],
   "source": [
    "imgFile = []\n",
    "for img in imgFiles:\n",
    "    img = tff.TiffFile(img)\n",
    "    img = img.asarray()\n",
    "    imgFile.append(img)\n",
    "len(imgFile)"
   ]
  },
  {
   "cell_type": "code",
   "execution_count": null,
   "metadata": {},
   "outputs": [],
   "source": [
    "imgFile = np.array(imgFile)\n",
    "imgFile.shape"
   ]
  },
  {
   "cell_type": "code",
   "execution_count": null,
   "metadata": {},
   "outputs": [],
   "source": [
    "imsave(savePath + 'Voltron-ST-3200Hz_trial2.tif', imgFile.astype('float32'), plugin='tifffile', photometric='minisblack')"
   ]
  },
  {
   "cell_type": "code",
   "execution_count": null,
   "metadata": {},
   "outputs": [],
   "source": [
    "imgFile_2 = tff.TiffFile(savePath + '1st.tif')\n",
    "imgFile_2 = imgFile_2.asarray()\n",
    "imgFile_2.shape\n"
   ]
  },
  {
   "cell_type": "code",
   "execution_count": null,
   "metadata": {},
   "outputs": [],
   "source": [
    "np.min(imgFile_2)"
   ]
  },
  {
   "cell_type": "code",
   "execution_count": null,
   "metadata": {},
   "outputs": [],
   "source": [
    "imgFile = np.concatenate((imgFile_2,imgFile_3),axis=0)\n",
    "imgFile.shape\n"
   ]
  },
  {
   "cell_type": "code",
   "execution_count": null,
   "metadata": {},
   "outputs": [],
   "source": [
    "ave_img_file = []\n",
    "block = []\n",
    "for i in range(imgFile.shape[0]):\n",
    "\n",
    "    block.append(imgFile[i,:,:])\n",
    "    if (i+1)%10 == 0:\n",
    "        ave_frame=np.mean(block,axis=0)\n",
    "        ave_img_file.append(ave_frame)\n",
    "        block = []\n",
    "#         continue\n"
   ]
  },
  {
   "cell_type": "code",
   "execution_count": null,
   "metadata": {},
   "outputs": [],
   "source": [
    "imgFile.shape"
   ]
  },
  {
   "cell_type": "code",
   "execution_count": null,
   "metadata": {},
   "outputs": [],
   "source": [
    "len(ave_img_file)"
   ]
  },
  {
   "cell_type": "code",
   "execution_count": null,
   "metadata": {},
   "outputs": [],
   "source": [
    "ave_img_file = np.array(ave_img_file)"
   ]
  },
  {
   "cell_type": "code",
   "execution_count": null,
   "metadata": {},
   "outputs": [],
   "source": [
    "ave_img_file.shape"
   ]
  },
  {
   "cell_type": "code",
   "execution_count": null,
   "metadata": {},
   "outputs": [],
   "source": []
  }
 ],
 "metadata": {
  "kernelspec": {
   "display_name": "Python 3",
   "language": "python",
   "name": "python3"
  },
  "language_info": {
   "codemirror_mode": {
    "name": "ipython",
    "version": 3
   },
   "file_extension": ".py",
   "mimetype": "text/x-python",
   "name": "python",
   "nbconvert_exporter": "python",
   "pygments_lexer": "ipython3",
   "version": "3.7.6"
  }
 },
 "nbformat": 4,
 "nbformat_minor": 2
}
