{
 "cells": [
  {
   "cell_type": "code",
   "execution_count": 1,
   "metadata": {},
   "outputs": [],
   "source": [
    "import sys\n",
    "sys.path.append('/Users/zhengj10/Python/Modules')\n",
    "\n",
    "import h5py\n",
    "import os\n",
    "import numpy as np\n",
    "from skimage.io import imsave\n",
    "import matplotlib.pyplot as plt\n",
    "import yaml\n",
    "import pandas as pd\n",
    "import PatcherBot as pb\n",
    "from glob import glob\n",
    "import seaborn as sns\n",
    "from read_roi import read_roi_file\n",
    "from read_roi import read_roi_zip\n",
    "import nd2reader\n",
    "import tifffile as tff\n",
    "from matplotlib.path import Path\n"
   ]
  },
  {
   "cell_type": "markdown",
   "metadata": {},
   "source": [
    "### Individual dFF trace (PatcherBot)"
   ]
  },
  {
   "cell_type": "code",
   "execution_count": null,
   "metadata": {},
   "outputs": [],
   "source": [
    "plt.figure(figsize=[10,10])\n",
    "imgPath='/Users/zhengj10/Desktop/PB_vs_Ahmed/PB_raw/2020.02.24_000/plate_000/patch_attempt_0013_000/'\n",
    "imgFile = os.path.join(imgPath,'camera_clamp1_000','008','Camera','frames.ma')\n",
    "data = h5py.File(imgFile,'r')\n",
    "imgData = data['data'][()]\n",
    "imsave('/Users/zhengj10/Desktop/cell6_ref.tif',imgData.astype('float32'))\n"
   ]
  }
 ],
 "metadata": {
  "kernelspec": {
   "display_name": "Python 3",
   "language": "python",
   "name": "python3"
  },
  "language_info": {
   "codemirror_mode": {
    "name": "ipython",
    "version": 3
   },
   "file_extension": ".py",
   "mimetype": "text/x-python",
   "name": "python",
   "nbconvert_exporter": "python",
   "pygments_lexer": "ipython3",
   "version": "3.7.6"
  }
 },
 "nbformat": 4,
 "nbformat_minor": 2
}
