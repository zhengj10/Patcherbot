{
 "cells": [
  {
   "cell_type": "code",
   "execution_count": 1,
   "metadata": {},
   "outputs": [],
   "source": [
    "import h5py\n",
    "import sys\n",
    "sys.path.append('/Users/zhengj10/Python/Modules')\n",
    "import os\n",
    "import numpy as np\n",
    "from skimage.io import imsave\n",
    "import matplotlib.pyplot as plt\n",
    "import yaml\n",
    "import pandas as pd\n",
    "import PatcherBot as pb\n",
    "from glob import glob\n",
    "import seaborn as sns\n"
   ]
  },
  {
   "cell_type": "code",
   "execution_count": 3,
   "metadata": {},
   "outputs": [
    {
     "data": {
      "text/plain": [
       "True"
      ]
     },
     "execution_count": 3,
     "metadata": {},
     "output_type": "execute_result"
    }
   ],
   "source": [
    "# sumPath = '/Volumes/genie/Jihong_GENIE_stuff/PatcherBot/summary/Voltron2_paper'\n",
    "# imgPath = '/Volumes/genie/BenArthur/patch-screen/bot'\n",
    "# rawPath = '/Volumes/genie/Jihong_GENIE_stuff/PatcherBot/raw'\n",
    "\n",
    "sumPath = '/Users/zhengj10/Desktop/GENIE/Data/PatcherBot/summary'\n",
    "imgPath = '/Volumes/genie/BenArthur/patch-screen/HCImage'\n",
    "rawPath = '/Volumes/genie/Jihong_GENIE_stuff/Voltron_Kinetics_manual_patch_with_HCImage'\n",
    "\n",
    "os.path.exists(rawPath)\n"
   ]
  },
  {
   "cell_type": "code",
   "execution_count": 5,
   "metadata": {},
   "outputs": [
    {
     "data": {
      "text/html": [
       "<div>\n",
       "<style scoped>\n",
       "    .dataframe tbody tr th:only-of-type {\n",
       "        vertical-align: middle;\n",
       "    }\n",
       "\n",
       "    .dataframe tbody tr th {\n",
       "        vertical-align: top;\n",
       "    }\n",
       "\n",
       "    .dataframe thead th {\n",
       "        text-align: right;\n",
       "    }\n",
       "</style>\n",
       "<table border=\"1\" class=\"dataframe\">\n",
       "  <thead>\n",
       "    <tr style=\"text-align: right;\">\n",
       "      <th></th>\n",
       "      <th>Date</th>\n",
       "      <th>Cell</th>\n",
       "      <th>Sensor</th>\n",
       "      <th>tau_f_act</th>\n",
       "      <th>tau_s_act</th>\n",
       "      <th>tau_f_act_percent</th>\n",
       "      <th>tau_f_deact</th>\n",
       "      <th>tau_s_deact</th>\n",
       "      <th>tau_f_deact_percent</th>\n",
       "    </tr>\n",
       "  </thead>\n",
       "  <tbody>\n",
       "    <tr>\n",
       "      <th>0</th>\n",
       "      <td>201027</td>\n",
       "      <td>Cell_1</td>\n",
       "      <td>Voltron</td>\n",
       "      <td>0.955512</td>\n",
       "      <td>4.032292</td>\n",
       "      <td>0.581620</td>\n",
       "      <td>1.161170</td>\n",
       "      <td>11.063581</td>\n",
       "      <td>0.587017</td>\n",
       "    </tr>\n",
       "    <tr>\n",
       "      <th>1</th>\n",
       "      <td>201027</td>\n",
       "      <td>Cell_2</td>\n",
       "      <td>Voltron</td>\n",
       "      <td>0.767470</td>\n",
       "      <td>2.468679</td>\n",
       "      <td>0.554365</td>\n",
       "      <td>1.261434</td>\n",
       "      <td>4.724830</td>\n",
       "      <td>0.605563</td>\n",
       "    </tr>\n",
       "    <tr>\n",
       "      <th>2</th>\n",
       "      <td>201027</td>\n",
       "      <td>Cell_3</td>\n",
       "      <td>Voltron</td>\n",
       "      <td>0.987813</td>\n",
       "      <td>4.335913</td>\n",
       "      <td>0.640978</td>\n",
       "      <td>1.242117</td>\n",
       "      <td>5.448495</td>\n",
       "      <td>0.730667</td>\n",
       "    </tr>\n",
       "    <tr>\n",
       "      <th>3</th>\n",
       "      <td>201027</td>\n",
       "      <td>Cell_4</td>\n",
       "      <td>Voltron</td>\n",
       "      <td>0.690084</td>\n",
       "      <td>2.192778</td>\n",
       "      <td>0.351493</td>\n",
       "      <td>0.845082</td>\n",
       "      <td>3.847028</td>\n",
       "      <td>0.544379</td>\n",
       "    </tr>\n",
       "    <tr>\n",
       "      <th>4</th>\n",
       "      <td>201028</td>\n",
       "      <td>Cell_1</td>\n",
       "      <td>Voltron 2</td>\n",
       "      <td>0.750454</td>\n",
       "      <td>7.880892</td>\n",
       "      <td>0.804088</td>\n",
       "      <td>0.700855</td>\n",
       "      <td>5.588473</td>\n",
       "      <td>0.437181</td>\n",
       "    </tr>\n",
       "    <tr>\n",
       "      <th>5</th>\n",
       "      <td>201028</td>\n",
       "      <td>Cell_2</td>\n",
       "      <td>Voltron 2</td>\n",
       "      <td>0.681750</td>\n",
       "      <td>4.253009</td>\n",
       "      <td>0.814735</td>\n",
       "      <td>0.859425</td>\n",
       "      <td>3.929486</td>\n",
       "      <td>0.422558</td>\n",
       "    </tr>\n",
       "    <tr>\n",
       "      <th>6</th>\n",
       "      <td>201028</td>\n",
       "      <td>Cell_3</td>\n",
       "      <td>Voltron 2</td>\n",
       "      <td>0.639632</td>\n",
       "      <td>3.414511</td>\n",
       "      <td>0.750422</td>\n",
       "      <td>0.833970</td>\n",
       "      <td>4.341270</td>\n",
       "      <td>0.397631</td>\n",
       "    </tr>\n",
       "    <tr>\n",
       "      <th>7</th>\n",
       "      <td>201028</td>\n",
       "      <td>Cell_4</td>\n",
       "      <td>Voltron 2</td>\n",
       "      <td>0.615448</td>\n",
       "      <td>3.482160</td>\n",
       "      <td>0.771902</td>\n",
       "      <td>1.168270</td>\n",
       "      <td>5.100433</td>\n",
       "      <td>0.527317</td>\n",
       "    </tr>\n",
       "  </tbody>\n",
       "</table>\n",
       "</div>"
      ],
      "text/plain": [
       "     Date    Cell     Sensor  tau_f_act  tau_s_act  tau_f_act_percent  \\\n",
       "0  201027  Cell_1    Voltron   0.955512   4.032292           0.581620   \n",
       "1  201027  Cell_2    Voltron   0.767470   2.468679           0.554365   \n",
       "2  201027  Cell_3    Voltron   0.987813   4.335913           0.640978   \n",
       "3  201027  Cell_4    Voltron   0.690084   2.192778           0.351493   \n",
       "4  201028  Cell_1  Voltron 2   0.750454   7.880892           0.804088   \n",
       "5  201028  Cell_2  Voltron 2   0.681750   4.253009           0.814735   \n",
       "6  201028  Cell_3  Voltron 2   0.639632   3.414511           0.750422   \n",
       "7  201028  Cell_4  Voltron 2   0.615448   3.482160           0.771902   \n",
       "\n",
       "   tau_f_deact  tau_s_deact  tau_f_deact_percent  \n",
       "0     1.161170    11.063581             0.587017  \n",
       "1     1.261434     4.724830             0.605563  \n",
       "2     1.242117     5.448495             0.730667  \n",
       "3     0.845082     3.847028             0.544379  \n",
       "4     0.700855     5.588473             0.437181  \n",
       "5     0.859425     3.929486             0.422558  \n",
       "6     0.833970     4.341270             0.397631  \n",
       "7     1.168270     5.100433             0.527317  "
      ]
     },
     "execution_count": 5,
     "metadata": {},
     "output_type": "execute_result"
    }
   ],
   "source": [
    "df = pd.read_pickle('/Users/zhengj10/Desktop/GENIE/Manuscript/Voltron 2 paper/Voltron 2 paper_v7/kinetics.pkl')\n",
    "df"
   ]
  },
  {
   "cell_type": "code",
   "execution_count": 6,
   "metadata": {},
   "outputs": [],
   "source": [
    "df['Cell'] = ['Cell_1','Cell_2','Cell_3','Cell_4','Cell_1','Cell_2','Cell_3','Cell_4']"
   ]
  },
  {
   "cell_type": "code",
   "execution_count": 7,
   "metadata": {},
   "outputs": [],
   "source": [
    "# df"
   ]
  },
  {
   "cell_type": "markdown",
   "metadata": {},
   "source": [
    "### Load params from .mat file"
   ]
  },
  {
   "cell_type": "code",
   "execution_count": 8,
   "metadata": {},
   "outputs": [
    {
     "data": {
      "text/html": [
       "<div>\n",
       "<style scoped>\n",
       "    .dataframe tbody tr th:only-of-type {\n",
       "        vertical-align: middle;\n",
       "    }\n",
       "\n",
       "    .dataframe tbody tr th {\n",
       "        vertical-align: top;\n",
       "    }\n",
       "\n",
       "    .dataframe thead th {\n",
       "        text-align: right;\n",
       "    }\n",
       "</style>\n",
       "<table border=\"1\" class=\"dataframe\">\n",
       "  <thead>\n",
       "    <tr style=\"text-align: right;\">\n",
       "      <th></th>\n",
       "      <th>Date</th>\n",
       "      <th>Cell</th>\n",
       "      <th>Sensor</th>\n",
       "      <th>tau_f_act</th>\n",
       "      <th>tau_s_act</th>\n",
       "      <th>tau_f_act_percent</th>\n",
       "      <th>tau_f_deact</th>\n",
       "      <th>tau_s_deact</th>\n",
       "      <th>tau_f_deact_percent</th>\n",
       "    </tr>\n",
       "  </thead>\n",
       "  <tbody>\n",
       "    <tr>\n",
       "      <th>0</th>\n",
       "      <td>201027</td>\n",
       "      <td>Cell_1</td>\n",
       "      <td>Voltron</td>\n",
       "      <td>0.955512</td>\n",
       "      <td>4.032292</td>\n",
       "      <td>0.581620</td>\n",
       "      <td>1.161170</td>\n",
       "      <td>11.063581</td>\n",
       "      <td>0.587017</td>\n",
       "    </tr>\n",
       "    <tr>\n",
       "      <th>1</th>\n",
       "      <td>201027</td>\n",
       "      <td>Cell_2</td>\n",
       "      <td>Voltron</td>\n",
       "      <td>0.767470</td>\n",
       "      <td>2.468679</td>\n",
       "      <td>0.554365</td>\n",
       "      <td>1.261434</td>\n",
       "      <td>4.724830</td>\n",
       "      <td>0.605563</td>\n",
       "    </tr>\n",
       "    <tr>\n",
       "      <th>2</th>\n",
       "      <td>201027</td>\n",
       "      <td>Cell_3</td>\n",
       "      <td>Voltron</td>\n",
       "      <td>0.987813</td>\n",
       "      <td>4.335913</td>\n",
       "      <td>0.640978</td>\n",
       "      <td>1.242117</td>\n",
       "      <td>5.448495</td>\n",
       "      <td>0.730667</td>\n",
       "    </tr>\n",
       "    <tr>\n",
       "      <th>3</th>\n",
       "      <td>201027</td>\n",
       "      <td>Cell_4</td>\n",
       "      <td>Voltron</td>\n",
       "      <td>0.690084</td>\n",
       "      <td>2.192778</td>\n",
       "      <td>0.351493</td>\n",
       "      <td>0.845082</td>\n",
       "      <td>3.847028</td>\n",
       "      <td>0.544379</td>\n",
       "    </tr>\n",
       "    <tr>\n",
       "      <th>4</th>\n",
       "      <td>201028</td>\n",
       "      <td>Cell_1</td>\n",
       "      <td>Voltron 2</td>\n",
       "      <td>0.750454</td>\n",
       "      <td>7.880892</td>\n",
       "      <td>0.804088</td>\n",
       "      <td>0.700855</td>\n",
       "      <td>5.588473</td>\n",
       "      <td>0.437181</td>\n",
       "    </tr>\n",
       "    <tr>\n",
       "      <th>5</th>\n",
       "      <td>201028</td>\n",
       "      <td>Cell_2</td>\n",
       "      <td>Voltron 2</td>\n",
       "      <td>0.681750</td>\n",
       "      <td>4.253009</td>\n",
       "      <td>0.814735</td>\n",
       "      <td>0.859425</td>\n",
       "      <td>3.929486</td>\n",
       "      <td>0.422558</td>\n",
       "    </tr>\n",
       "    <tr>\n",
       "      <th>6</th>\n",
       "      <td>201028</td>\n",
       "      <td>Cell_3</td>\n",
       "      <td>Voltron 2</td>\n",
       "      <td>0.639632</td>\n",
       "      <td>3.414511</td>\n",
       "      <td>0.750422</td>\n",
       "      <td>0.833970</td>\n",
       "      <td>4.341270</td>\n",
       "      <td>0.397631</td>\n",
       "    </tr>\n",
       "    <tr>\n",
       "      <th>7</th>\n",
       "      <td>201028</td>\n",
       "      <td>Cell_4</td>\n",
       "      <td>Voltron 2</td>\n",
       "      <td>0.615448</td>\n",
       "      <td>3.482160</td>\n",
       "      <td>0.771902</td>\n",
       "      <td>1.168270</td>\n",
       "      <td>5.100433</td>\n",
       "      <td>0.527317</td>\n",
       "    </tr>\n",
       "  </tbody>\n",
       "</table>\n",
       "</div>"
      ],
      "text/plain": [
       "     Date    Cell     Sensor  tau_f_act  tau_s_act  tau_f_act_percent  \\\n",
       "0  201027  Cell_1    Voltron   0.955512   4.032292           0.581620   \n",
       "1  201027  Cell_2    Voltron   0.767470   2.468679           0.554365   \n",
       "2  201027  Cell_3    Voltron   0.987813   4.335913           0.640978   \n",
       "3  201027  Cell_4    Voltron   0.690084   2.192778           0.351493   \n",
       "4  201028  Cell_1  Voltron 2   0.750454   7.880892           0.804088   \n",
       "5  201028  Cell_2  Voltron 2   0.681750   4.253009           0.814735   \n",
       "6  201028  Cell_3  Voltron 2   0.639632   3.414511           0.750422   \n",
       "7  201028  Cell_4  Voltron 2   0.615448   3.482160           0.771902   \n",
       "\n",
       "   tau_f_deact  tau_s_deact  tau_f_deact_percent  \n",
       "0     1.161170    11.063581             0.587017  \n",
       "1     1.261434     4.724830             0.605563  \n",
       "2     1.242117     5.448495             0.730667  \n",
       "3     0.845082     3.847028             0.544379  \n",
       "4     0.700855     5.588473             0.437181  \n",
       "5     0.859425     3.929486             0.422558  \n",
       "6     0.833970     4.341270             0.397631  \n",
       "7     1.168270     5.100433             0.527317  "
      ]
     },
     "execution_count": 8,
     "metadata": {},
     "output_type": "execute_result"
    }
   ],
   "source": [
    "pd.set_option(\"display.max_rows\",50)\n",
    "df"
   ]
  },
  {
   "cell_type": "code",
   "execution_count": 9,
   "metadata": {},
   "outputs": [
    {
     "data": {
      "text/plain": [
       "['201020', '201021', '201022']"
      ]
     },
     "execution_count": 9,
     "metadata": {},
     "output_type": "execute_result"
    }
   ],
   "source": [
    "datePath = pb.getPathInfo(imgPath)\n",
    "# datePath = ['2020.03.02_000']\n",
    "# datePath = datePath[9:]\n",
    "# datePath = ['2020.10.28_001','2020.10.28_001-varnam']\n",
    "datePath = ['201020', '201021', '201022']\n",
    "datePath\n"
   ]
  },
  {
   "cell_type": "code",
   "execution_count": 10,
   "metadata": {},
   "outputs": [],
   "source": [
    "sensors = {\n",
    "    '201020':'Voltron-ST',\n",
    "    '201021':'Voltron 2-ST',\n",
    "    '201020':'Voltron-ST',\n",
    "    \n",
    "}"
   ]
  },
  {
   "cell_type": "code",
   "execution_count": 11,
   "metadata": {
    "scrolled": false
   },
   "outputs": [
    {
     "name": "stdout",
     "output_type": "stream",
     "text": [
      "['/Volumes/genie/BenArthur/patch-screen/HCImage/201020/cell_1/trial_0002.mat', '/Volumes/genie/BenArthur/patch-screen/HCImage/201020/cell_1/trial_0003.mat', '/Volumes/genie/BenArthur/patch-screen/HCImage/201020/cell_1/trial_0004.mat', '/Volumes/genie/BenArthur/patch-screen/HCImage/201020/cell_1/trial_0005.mat']\n"
     ]
    },
    {
     "ename": "KeyError",
     "evalue": "'bkg_norm_ave_onfastpercent'",
     "output_type": "error",
     "traceback": [
      "\u001b[0;31m---------------------------------------------------------------------------\u001b[0m",
      "\u001b[0;31mKeyError\u001b[0m                                  Traceback (most recent call last)",
      "\u001b[0;32m<ipython-input-11-34e1968bc025>\u001b[0m in \u001b[0;36m<module>\u001b[0;34m\u001b[0m\n\u001b[1;32m     28\u001b[0m             \u001b[0mtau_off_fast_single\u001b[0m \u001b[0;34m=\u001b[0m \u001b[0mdata\u001b[0m\u001b[0;34m[\u001b[0m\u001b[0;34m'tau_off_fast'\u001b[0m\u001b[0;34m]\u001b[0m\u001b[0;34m[\u001b[0m\u001b[0;36m0\u001b[0m\u001b[0;34m]\u001b[0m\u001b[0;34m\u001b[0m\u001b[0;34m\u001b[0m\u001b[0m\n\u001b[1;32m     29\u001b[0m             \u001b[0mtau_off_slow_single\u001b[0m \u001b[0;34m=\u001b[0m \u001b[0mdata\u001b[0m\u001b[0;34m[\u001b[0m\u001b[0;34m'tau_off_slow'\u001b[0m\u001b[0;34m]\u001b[0m\u001b[0;34m[\u001b[0m\u001b[0;36m0\u001b[0m\u001b[0;34m]\u001b[0m\u001b[0;34m\u001b[0m\u001b[0;34m\u001b[0m\u001b[0m\n\u001b[0;32m---> 30\u001b[0;31m             \u001b[0mtau_on_fast_percent_single\u001b[0m \u001b[0;34m=\u001b[0m \u001b[0mdata\u001b[0m\u001b[0;34m[\u001b[0m\u001b[0;34m'bkg_norm_ave_onfastpercent'\u001b[0m\u001b[0;34m]\u001b[0m\u001b[0;34m[\u001b[0m\u001b[0;36m0\u001b[0m\u001b[0;34m]\u001b[0m\u001b[0;34m\u001b[0m\u001b[0;34m\u001b[0m\u001b[0m\n\u001b[0m\u001b[1;32m     31\u001b[0m \u001b[0;34m\u001b[0m\u001b[0m\n\u001b[1;32m     32\u001b[0m             \u001b[0mtau_on_fast\u001b[0m\u001b[0;34m.\u001b[0m\u001b[0mappend\u001b[0m\u001b[0;34m(\u001b[0m\u001b[0mtau_on_fast_single\u001b[0m\u001b[0;34m)\u001b[0m\u001b[0;34m\u001b[0m\u001b[0;34m\u001b[0m\u001b[0m\n",
      "\u001b[0;31mKeyError\u001b[0m: 'bkg_norm_ave_onfastpercent'"
     ]
    }
   ],
   "source": [
    "data_all={}\n",
    "for param in(df.columns):\n",
    "    data_all[param] = []\n",
    "for date in datePath:\n",
    "    cellPath = pb.getPathInfo(os.path.join(imgPath, date))\n",
    "    for cell in(cellPath):\n",
    "#         print(os.path.join(rawPath, date, plate, cell))\n",
    "        matFiles = glob(os.path.join(imgPath, date, cell) + '/*.mat')\n",
    "        if len(matFiles) < 1:\n",
    "            print('bad trial: ' + '/' + date + '/' + cell)\n",
    "            continue\n",
    "        matFiles = sorted(matFiles)\n",
    "        print(matFiles)\n",
    "        data_all['Date'].append(date)\n",
    "        data_all['Cell'].append(cell)\n",
    "        tau_on_fast = []\n",
    "        tau_on_slow = []\n",
    "        tau_off_fast = []\n",
    "        tau_off_slow = []\n",
    "        tau_on_fast_percent = []\n",
    "\n",
    "        for matFile in (matFiles):\n",
    "\n",
    "            data = pb.get_data(matFile)\n",
    "\n",
    "            tau_on_fast_single = data['tau_on_fast'][0]\n",
    "            tau_on_slow_single = data['tau_on_slow'][0]\n",
    "            tau_off_fast_single = data['tau_off_fast'][0]\n",
    "            tau_off_slow_single = data['tau_off_slow'][0]\n",
    "            tau_on_fast_percent_single = data['bkg_norm_ave_onfastpercent'][0]\n",
    "\n",
    "            tau_on_fast.append(tau_on_fast_single)\n",
    "            tau_on_slow.append(tau_on_slow_single)\n",
    "            tau_off_fast.append(tau_off_fast_single)\n",
    "            tau_off_slow.append(tau_off_slow_single)\n",
    "\n",
    "        tau_on_fast = np.mean(tau_on_fast)\n",
    "        tau_on_slow = np.mean(tau_on_slow)\n",
    "        tau_off_fast = np.mean(tau_off_fast)\n",
    "        tau_off_slow = np.mean(tau_off_slow)\n",
    "        data_all['tau_f_act'].append(tau_on_fast)\n",
    "        data_all['tau_s_act'].append(tau_on_slow)\n",
    "        data_all['tau_f_deact'].append(tau_off_fast)\n",
    "        data_all['tau_s_deact'].append(tau_off_slow)\n",
    "                \n",
    "print('Done!')\n"
   ]
  },
  {
   "cell_type": "code",
   "execution_count": 19,
   "metadata": {},
   "outputs": [
    {
     "name": "stdout",
     "output_type": "stream",
     "text": [
      "Date 8\n",
      "Cell 8\n",
      "Sensor 0\n",
      "tau_f_act 8\n",
      "tau_s_act 8\n",
      "tau_f_act_percent 0\n",
      "tau_f_deact 0\n",
      "tau_s_deact 16\n",
      "tau_f_deact_percent 0\n"
     ]
    }
   ],
   "source": [
    "for k,v in data_all.items():\n",
    "    print(k,len(v))"
   ]
  },
  {
   "cell_type": "code",
   "execution_count": 17,
   "metadata": {},
   "outputs": [
    {
     "ename": "ValueError",
     "evalue": "arrays must all be same length",
     "output_type": "error",
     "traceback": [
      "\u001b[0;31m---------------------------------------------------------------------------\u001b[0m",
      "\u001b[0;31mValueError\u001b[0m                                Traceback (most recent call last)",
      "\u001b[0;32m<ipython-input-17-b92796277622>\u001b[0m in \u001b[0;36m<module>\u001b[0;34m\u001b[0m\n\u001b[0;32m----> 1\u001b[0;31m \u001b[0mdf_new\u001b[0m \u001b[0;34m=\u001b[0m \u001b[0mpd\u001b[0m\u001b[0;34m.\u001b[0m\u001b[0mDataFrame\u001b[0m\u001b[0;34m(\u001b[0m\u001b[0mdata_all\u001b[0m\u001b[0;34m,\u001b[0m \u001b[0mcolumns\u001b[0m \u001b[0;34m=\u001b[0m \u001b[0mlist\u001b[0m\u001b[0;34m(\u001b[0m\u001b[0mdf\u001b[0m\u001b[0;34m)\u001b[0m\u001b[0;34m)\u001b[0m \u001b[0;31m# columns specification keeps the order of columns; index specification makes sure dict keys are the columns\u001b[0m\u001b[0;34m\u001b[0m\u001b[0;34m\u001b[0m\u001b[0m\n\u001b[0m\u001b[1;32m      2\u001b[0m \u001b[0mdf_new\u001b[0m\u001b[0;34m.\u001b[0m\u001b[0mshape\u001b[0m\u001b[0;34m\u001b[0m\u001b[0;34m\u001b[0m\u001b[0m\n",
      "\u001b[0;32m~/opt/anaconda3/lib/python3.7/site-packages/pandas/core/frame.py\u001b[0m in \u001b[0;36m__init__\u001b[0;34m(self, data, index, columns, dtype, copy)\u001b[0m\n\u001b[1;32m    433\u001b[0m             )\n\u001b[1;32m    434\u001b[0m         \u001b[0;32melif\u001b[0m \u001b[0misinstance\u001b[0m\u001b[0;34m(\u001b[0m\u001b[0mdata\u001b[0m\u001b[0;34m,\u001b[0m \u001b[0mdict\u001b[0m\u001b[0;34m)\u001b[0m\u001b[0;34m:\u001b[0m\u001b[0;34m\u001b[0m\u001b[0;34m\u001b[0m\u001b[0m\n\u001b[0;32m--> 435\u001b[0;31m             \u001b[0mmgr\u001b[0m \u001b[0;34m=\u001b[0m \u001b[0minit_dict\u001b[0m\u001b[0;34m(\u001b[0m\u001b[0mdata\u001b[0m\u001b[0;34m,\u001b[0m \u001b[0mindex\u001b[0m\u001b[0;34m,\u001b[0m \u001b[0mcolumns\u001b[0m\u001b[0;34m,\u001b[0m \u001b[0mdtype\u001b[0m\u001b[0;34m=\u001b[0m\u001b[0mdtype\u001b[0m\u001b[0;34m)\u001b[0m\u001b[0;34m\u001b[0m\u001b[0;34m\u001b[0m\u001b[0m\n\u001b[0m\u001b[1;32m    436\u001b[0m         \u001b[0;32melif\u001b[0m \u001b[0misinstance\u001b[0m\u001b[0;34m(\u001b[0m\u001b[0mdata\u001b[0m\u001b[0;34m,\u001b[0m \u001b[0mma\u001b[0m\u001b[0;34m.\u001b[0m\u001b[0mMaskedArray\u001b[0m\u001b[0;34m)\u001b[0m\u001b[0;34m:\u001b[0m\u001b[0;34m\u001b[0m\u001b[0;34m\u001b[0m\u001b[0m\n\u001b[1;32m    437\u001b[0m             \u001b[0;32mimport\u001b[0m \u001b[0mnumpy\u001b[0m\u001b[0;34m.\u001b[0m\u001b[0mma\u001b[0m\u001b[0;34m.\u001b[0m\u001b[0mmrecords\u001b[0m \u001b[0;32mas\u001b[0m \u001b[0mmrecords\u001b[0m\u001b[0;34m\u001b[0m\u001b[0;34m\u001b[0m\u001b[0m\n",
      "\u001b[0;32m~/opt/anaconda3/lib/python3.7/site-packages/pandas/core/internals/construction.py\u001b[0m in \u001b[0;36minit_dict\u001b[0;34m(data, index, columns, dtype)\u001b[0m\n\u001b[1;32m    226\u001b[0m             \u001b[0;31m# GH10856\u001b[0m\u001b[0;34m\u001b[0m\u001b[0;34m\u001b[0m\u001b[0;34m\u001b[0m\u001b[0m\n\u001b[1;32m    227\u001b[0m             \u001b[0;31m# raise ValueError if only scalars in dict\u001b[0m\u001b[0;34m\u001b[0m\u001b[0;34m\u001b[0m\u001b[0;34m\u001b[0m\u001b[0m\n\u001b[0;32m--> 228\u001b[0;31m             \u001b[0mindex\u001b[0m \u001b[0;34m=\u001b[0m \u001b[0mextract_index\u001b[0m\u001b[0;34m(\u001b[0m\u001b[0marrays\u001b[0m\u001b[0;34m[\u001b[0m\u001b[0;34m~\u001b[0m\u001b[0mmissing\u001b[0m\u001b[0;34m]\u001b[0m\u001b[0;34m)\u001b[0m\u001b[0;34m\u001b[0m\u001b[0;34m\u001b[0m\u001b[0m\n\u001b[0m\u001b[1;32m    229\u001b[0m         \u001b[0;32melse\u001b[0m\u001b[0;34m:\u001b[0m\u001b[0;34m\u001b[0m\u001b[0;34m\u001b[0m\u001b[0m\n\u001b[1;32m    230\u001b[0m             \u001b[0mindex\u001b[0m \u001b[0;34m=\u001b[0m \u001b[0mensure_index\u001b[0m\u001b[0;34m(\u001b[0m\u001b[0mindex\u001b[0m\u001b[0;34m)\u001b[0m\u001b[0;34m\u001b[0m\u001b[0;34m\u001b[0m\u001b[0m\n",
      "\u001b[0;32m~/opt/anaconda3/lib/python3.7/site-packages/pandas/core/internals/construction.py\u001b[0m in \u001b[0;36mextract_index\u001b[0;34m(data)\u001b[0m\n\u001b[1;32m    363\u001b[0m             \u001b[0mlengths\u001b[0m \u001b[0;34m=\u001b[0m \u001b[0mlist\u001b[0m\u001b[0;34m(\u001b[0m\u001b[0mset\u001b[0m\u001b[0;34m(\u001b[0m\u001b[0mraw_lengths\u001b[0m\u001b[0;34m)\u001b[0m\u001b[0;34m)\u001b[0m\u001b[0;34m\u001b[0m\u001b[0;34m\u001b[0m\u001b[0m\n\u001b[1;32m    364\u001b[0m             \u001b[0;32mif\u001b[0m \u001b[0mlen\u001b[0m\u001b[0;34m(\u001b[0m\u001b[0mlengths\u001b[0m\u001b[0;34m)\u001b[0m \u001b[0;34m>\u001b[0m \u001b[0;36m1\u001b[0m\u001b[0;34m:\u001b[0m\u001b[0;34m\u001b[0m\u001b[0;34m\u001b[0m\u001b[0m\n\u001b[0;32m--> 365\u001b[0;31m                 \u001b[0;32mraise\u001b[0m \u001b[0mValueError\u001b[0m\u001b[0;34m(\u001b[0m\u001b[0;34m\"arrays must all be same length\"\u001b[0m\u001b[0;34m)\u001b[0m\u001b[0;34m\u001b[0m\u001b[0;34m\u001b[0m\u001b[0m\n\u001b[0m\u001b[1;32m    366\u001b[0m \u001b[0;34m\u001b[0m\u001b[0m\n\u001b[1;32m    367\u001b[0m             \u001b[0;32mif\u001b[0m \u001b[0mhave_dicts\u001b[0m\u001b[0;34m:\u001b[0m\u001b[0;34m\u001b[0m\u001b[0;34m\u001b[0m\u001b[0m\n",
      "\u001b[0;31mValueError\u001b[0m: arrays must all be same length"
     ]
    }
   ],
   "source": [
    "df_new = pd.DataFrame(data_all, columns = list(df)) # columns specification keeps the order of columns; index specification makes sure dict keys are the columns \n",
    "df_new.shape"
   ]
  },
  {
   "cell_type": "code",
   "execution_count": null,
   "metadata": {
    "scrolled": false
   },
   "outputs": [],
   "source": [
    "df = df.append(df_new, ignore_index = True)\n",
    "df.index = np.arange(len(df))\n",
    "df.shape\n"
   ]
  },
  {
   "cell_type": "code",
   "execution_count": null,
   "metadata": {},
   "outputs": [],
   "source": [
    "df.to_pickle(sumPath+'/Summary_VC_all.pkl')\n",
    "# df.to_excel(sumPath + '/summary.xlsx')"
   ]
  },
  {
   "cell_type": "code",
   "execution_count": null,
   "metadata": {},
   "outputs": [],
   "source": [
    "# df = df.drop(df.index[len(df)-1]) # Drop the last row\n",
    "# df\n"
   ]
  },
  {
   "cell_type": "code",
   "execution_count": null,
   "metadata": {},
   "outputs": [],
   "source": [
    "# Check the size for each column is the same\n",
    "# i = 0\n",
    "# for k, v in data_all.items():\n",
    "#     print(k, len(v))\n",
    "#     i+=1\n"
   ]
  },
  {
   "cell_type": "code",
   "execution_count": null,
   "metadata": {},
   "outputs": [],
   "source": []
  }
 ],
 "metadata": {
  "kernelspec": {
   "display_name": "Python 3",
   "language": "python",
   "name": "python3"
  },
  "language_info": {
   "codemirror_mode": {
    "name": "ipython",
    "version": 3
   },
   "file_extension": ".py",
   "mimetype": "text/x-python",
   "name": "python",
   "nbconvert_exporter": "python",
   "pygments_lexer": "ipython3",
   "version": "3.7.6"
  }
 },
 "nbformat": 4,
 "nbformat_minor": 2
}
