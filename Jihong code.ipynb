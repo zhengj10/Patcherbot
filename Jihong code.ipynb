{
 "cells": [
  {
   "cell_type": "code",
   "execution_count": null,
   "metadata": {},
   "outputs": [],
   "source": [
    "import sys\n",
    "sys.path.append('/Users/zhengj10/Python/Modules')\n",
    "\n",
    "import h5py\n",
    "import os\n",
    "import numpy as np\n",
    "from skimage.io import imsave\n",
    "import matplotlib.pyplot as plt\n",
    "import yaml\n",
    "import pandas as pd\n",
    "import PatcherBot as pb\n",
    "from glob import glob\n",
    "import seaborn as sns\n"
   ]
  },
  {
   "cell_type": "markdown",
   "metadata": {},
   "source": [
    "### Load data"
   ]
  },
  {
   "cell_type": "code",
   "execution_count": null,
   "metadata": {},
   "outputs": [],
   "source": [
    "# imgPath = '/Users/zhengj10/Desktop/Temp/Ben/'\n",
    "sumPath = '/Volumes/genie/Jihong_GENIE_stuff/PatcherBot/summary'\n",
    "# imgPath = '/Volumes/genie/BenArthur/patch-screen/bot'\n",
    "# rawPath = '/Users/zhengj10/Desktop/'\n",
    "# rawPath = '/Volumes/genie/Jihong_GENIE_stuff/PatcherBot/raw_dead_sensor'\n",
    "rawPath = '/Volumes/genie/Jihong_GENIE_stuff/PatcherBot/raw'\n",
    "os.path.exists(rawPath)\n"
   ]
  },
  {
   "cell_type": "code",
   "execution_count": null,
   "metadata": {},
   "outputs": [],
   "source": [
    "# datePath = pb.getPathInfo(rawPath)\n",
    "datePath = ['2020.07.22_000','2020.07.23_000']\n",
    "datePath\n"
   ]
  },
  {
   "cell_type": "code",
   "execution_count": null,
   "metadata": {
    "scrolled": false
   },
   "outputs": [],
   "source": [
    "df = pd.read_pickle(sumPath + '/summary_sel.pkl')\n",
    "print(len(df))\n",
    "df\n"
   ]
  },
  {
   "cell_type": "code",
   "execution_count": null,
   "metadata": {},
   "outputs": [],
   "source": [
    "def get_dff(trace):\n",
    "    dff = []\n",
    "    ref = np.mean(trace[50:120,:,:],axis=0)\n",
    "    fb = np.min(ref)\n",
    "    crop = ref[234:274,:]\n",
    "    max_val = np.max(crop)\n",
    "    act_pix = crop > (fb + (max_val-fb)*0.67)\n",
    "    f0 = np.sum(act_pix * crop) / np.sum(act_pix)\n",
    "    for frame in range(trace.shape[0]):\n",
    "        dff_single = ((np.sum(trace[frame, 234:274, :]*act_pix)/np.sum(act_pix)) - f0)/(f0-fb)\n",
    "        dff.append(dff_single)\n",
    "    dff = np.mean(dff[950:1050])\n",
    "    return dff, f0\n"
   ]
  },
  {
   "cell_type": "code",
   "execution_count": null,
   "metadata": {},
   "outputs": [],
   "source": [
    "columns = ['Date','Plate','Well','Cell','Mutation','Transfected_date','Leak','Ra','dFF','F0','Leak_min','Ra_max']\n",
    "df = pd.DataFrame(columns = columns)\n",
    "df\n"
   ]
  },
  {
   "cell_type": "code",
   "execution_count": null,
   "metadata": {
    "scrolled": false
   },
   "outputs": [],
   "source": [
    "data_all={}\n",
    "for param in(df.columns):\n",
    "    data_all[param] = []\n",
    "for date in datePath:\n",
    "    platePath = pb.getPathInfo(os.path.join(rawPath, date))\n",
    "    for plate in platePath:\n",
    "        idxFile = os.path.join(rawPath, date, plate, '.index')\n",
    "        a = yaml.load(open(idxFile), Loader=yaml.FullLoader)\n",
    "        mutation = a['.']['mutation_1']\n",
    "#         if date == '2020.02.03_000':\n",
    "#             mutation = '421.1(em:545/20)'\n",
    "#         else:\n",
    "#             mutation = '421.1(em:545/40)'\n",
    "        note = a['.']['notes'][0:6]\n",
    "        cellPath = pb.getPathInfo(os.path.join(rawPath, date, plate))\n",
    "        for cell in(cellPath):\n",
    "            if not os.path.exists(os.path.join(rawPath, date, plate, cell, 'camera_clamp1_000')):\n",
    "                continue\n",
    "            print(os.path.join(rawPath, date, plate, cell))\n",
    "            data_all['Date'].append(date)\n",
    "            data_all['Plate'].append(plate)\n",
    "            data_all['Well'].append('well_1')\n",
    "            data_all['Cell'].append(cell)\n",
    "            data_all['Mutation'].append(mutation)\n",
    "            data_all['Transfected_date'].append(note[:6])\n",
    "            leaks = []\n",
    "            Ra_s = [] # List of Ra\n",
    "            F0 = []\n",
    "            dff_list = []\n",
    "\n",
    "            for trial in range(9):\n",
    "                dataFile = os.path.join(rawPath,date,plate,cell,'camera_clamp1_000',str(trial).zfill(3),'Camera','frames.ma')\n",
    "\n",
    "                data = h5py.File(dataFile)\n",
    "                imgData = data['data'][()]\n",
    "                dff_single, f0_single = get_dff(imgData)\n",
    "                ivFile = os.path.join(rawPath,date,plate,cell,'camera_clamp1_000',str(trial).zfill(3),'Clamp1.ma')\n",
    "                leak = pb.get_leak(ivFile)\n",
    "                Ra = pb.get_Ra(ivFile,trial)\n",
    "                leaks.append(leak)\n",
    "                Ra_s.append(Ra)\n",
    "                F0.append(f0_single)\n",
    "                dff_list.append(dff_single)\n",
    "\n",
    "\n",
    "            data_all['F0'].append(F0)\n",
    "            data_all['Leak'].append(leaks)\n",
    "            data_all['Ra'].append(Ra_s)\n",
    "            data_all['Leak_min'].append(np.min(leaks))\n",
    "            data_all['Ra_max'].append(np.max(Ra_s))\n",
    "\n",
    "\n",
    "            data_all['dFF'].append(dff_list)\n",
    "print('Done!')\n"
   ]
  },
  {
   "cell_type": "code",
   "execution_count": null,
   "metadata": {},
   "outputs": [],
   "source": []
  },
  {
   "cell_type": "code",
   "execution_count": null,
   "metadata": {
    "scrolled": false
   },
   "outputs": [],
   "source": [
    "df = pd.DataFrame(data_all, columns = list(df)) # columns specification keeps the order of columns; index specification makes sure dict keys are the columns \n",
    "df"
   ]
  },
  {
   "cell_type": "markdown",
   "metadata": {},
   "source": [
    "### Plot"
   ]
  },
  {
   "cell_type": "markdown",
   "metadata": {},
   "source": [
    "- Filter data"
   ]
  },
  {
   "cell_type": "code",
   "execution_count": null,
   "metadata": {},
   "outputs": [],
   "source": [
    "threshold = {\n",
    "            'leak':-100,\n",
    "            'Ra':30\n",
    "        }\n"
   ]
  },
  {
   "cell_type": "code",
   "execution_count": null,
   "metadata": {},
   "outputs": [],
   "source": [
    "df = df[(df.Leak_min>threshold['leak'])&(df.Ra_max<threshold['Ra'])]\n",
    "# pd.set_option('display.max_columns', 50)\n",
    "# pd.set_option('display.max_colwidth', 80)\n",
    "print(len(df))\n",
    "# df\n"
   ]
  },
  {
   "cell_type": "markdown",
   "metadata": {},
   "source": [
    "- Plot dFF etc for each voltage step"
   ]
  },
  {
   "cell_type": "code",
   "execution_count": null,
   "metadata": {},
   "outputs": [],
   "source": [
    "sensors = df.Mutation.unique()\n",
    "# sensors = ['376.20950','485.20950']\n",
    "sensors\n"
   ]
  },
  {
   "cell_type": "code",
   "execution_count": null,
   "metadata": {},
   "outputs": [],
   "source": [
    "# %matplotlib tk # plot in a new window\n",
    "import unicodedata\n",
    "import seaborn as sns\n",
    "sns.set()\n",
    "sns.set_style(style='whitegrid')\n",
    "\n",
    "fig = plt.figure(figsize=[5.3,5])\n",
    "params = ['dFF']\n",
    "x_label = 'mV'\n",
    "y_label = [unicodedata.lookup(\"GREEK CAPITAL LETTER delta\") + 'F/F']\n",
    "\n",
    "for i in range(len(params)):\n",
    "    ax = plt.subplot(1,1,i+1)\n",
    "    for sensor in sensors: # Manually pick up sensors to plot\n",
    "\n",
    "    \n",
    "        df_sensor = df[df.Mutation == sensor]\n",
    "        param_mean = np.nanmean(df_sensor[params[i]].tolist(), axis=0)\n",
    "        param_sem = np.nanstd(df_sensor[params[i]].tolist(), axis=0)/(len(df_sensor)-1)\n",
    "        x = np.linspace(-100,60,9)\n",
    "        ax.errorbar(x, param_mean, yerr = param_sem, fmt = 'o-', label = sensor + ' (%d)' %len(df_sensor))\n",
    "    ax.legend()\n",
    "    ax.set_xlabel(x_label)\n",
    "#     ax.set_ylim([-0.3,0.3])\n",
    "    ax.set_ylabel(y_label[i])\n",
    "#     ax.set_title(params[i])\n",
    "\n",
    "\n",
    "\n",
    "plt.setp(ax, xticks=x)\n",
    "plt.tight_layout()\n",
    "\n",
    "handles, labels = ax.get_legend_handles_labels() # Following 3 lines remove the errorbars from legend\n",
    "handles = [h[0] for h in handles]\n",
    "ax.legend(handles, labels)\n",
    "ax.set_ylim([-0.1,0.05])\n",
    "# fig.savefig('/Users/zhengj10/Desktop/dead_voltron_positron.png',dpi=1200)\n",
    "plt.show()\n"
   ]
  },
  {
   "cell_type": "code",
   "execution_count": null,
   "metadata": {},
   "outputs": [],
   "source": [
    "df_sel = df[df['Plate'] == 'plate_001']\n",
    "df_sel.index = np.arange(len(df_sel))\n",
    "df_sel"
   ]
  },
  {
   "cell_type": "code",
   "execution_count": null,
   "metadata": {},
   "outputs": [],
   "source": [
    "fig = plt.figure(figsize=[6,6])\n",
    "for i,r in df_sel.iterrows():\n",
    "    imgFile = os.path.join(rawPath, r['Date'], r['Plate'], r['Cell'], 'fluor_image_000.tif')\n",
    "    imgFile = tff.TiffFile(imgFile)\n",
    "    imgFile = imgFile.asarray()[193:321,193:321]\n",
    "    ax = plt.subplot(3,3,i+1)\n",
    "    ax.imshow(imgFile, cmap = 'gray')\n",
    "    if i==0:\n",
    "        ax.plot([95,115],[115,115],color='w')\n",
    "    ax.set_xticks([]) \n",
    "    ax.set_yticks([])\n",
    "# fig.suptitle(r['Mutation'])\n",
    "plt.tight_layout()\n",
    "# fig.savefig('/Users/zhengj10/Desktop/421.4494.png',dpi=1200)\n",
    "plt.show()\n"
   ]
  },
  {
   "cell_type": "code",
   "execution_count": null,
   "metadata": {},
   "outputs": [],
   "source": [
    "df['Date'][0][:10]"
   ]
  },
  {
   "cell_type": "code",
   "execution_count": null,
   "metadata": {},
   "outputs": [],
   "source": [
    "import tifffile as tff\n",
    "fig = plt.figure(figsize = [12,9.5])\n",
    "\n",
    "for date in datePath:\n",
    "    platePath = pb.getPathInfo(os.path.join(rawPath, date))\n",
    "    i = 1\n",
    "    for plate in platePath:\n",
    "        if plate == 'plate_000':\n",
    "            print(plate)\n",
    "            idxFile = os.path.join(rawPath, date, plate, '.index')\n",
    "            a = yaml.load(open(idxFile), Loader=yaml.FullLoader)\n",
    "            mutation = a['.']['mutation_1']\n",
    "\n",
    "            cellPath = pb.getPathInfo(os.path.join(rawPath, date, plate))\n",
    "\n",
    "\n",
    "\n",
    "            for cell in cellPath:\n",
    "\n",
    "                imgFile = os.path.join(rawPath, date, plate, cell, 'fluor_image_000.tif')\n",
    "                if not os.path.exists(imgFile):\n",
    "                    continue\n",
    "                imgFile = tff.TiffFile(imgFile)\n",
    "                imgFile = imgFile.asarray()[193:321,193:321]\n",
    "                ax = plt.subplot(3,4,i)\n",
    "                ax.imshow(imgFile, cmap = 'gray')\n",
    "    #                 ax.set_title(mutation)\n",
    "                i += 1\n",
    "\n",
    "\n",
    "\n",
    "\n",
    "\n",
    "\n",
    "                ax.set_xticks([]) \n",
    "                ax.set_yticks([]) \n",
    "\n",
    "plt.tight_layout()\n",
    "# plt.savefig('/Users/zhengj10/Desktop/focus_plane_128x128.png')\n",
    "plt.show()\n",
    "\n"
   ]
  },
  {
   "cell_type": "code",
   "execution_count": null,
   "metadata": {},
   "outputs": [],
   "source": [
    "df"
   ]
  },
  {
   "cell_type": "code",
   "execution_count": null,
   "metadata": {},
   "outputs": [],
   "source": [
    "sns.set_style(style='whitegrid')\n",
    "\n",
    "fig = plt.figure(figsize=[2,2.5])\n",
    "params = ['F0']\n",
    "f0_mean = []\n",
    "f0_sem = []\n",
    "for i in range(len(params)):\n",
    "    ax = plt.subplot(1,1,i+1)\n",
    "    for sensor in sensors: # Manually pick up sensors to plot\n",
    "\n",
    "    \n",
    "        df_sensor = df[df.Mutation == sensor]\n",
    "        param_mean = np.nanmean(df_sensor[params[i]].tolist(), axis=0)[0]\n",
    "        param_sem = np.nanstd(df_sensor[params[i]].tolist(), axis=0)[0]/(len(df_sensor)-1)\n",
    "        f0_mean.append(param_mean)\n",
    "        f0_sem.append(param_sem)\n",
    "        \n",
    "x = np.arange(1,len(sensors)+1)\n",
    "        \n",
    "ax.bar(x, f0_mean, yerr = f0_sem)\n",
    "ax.set_ylabel('F0')\n",
    "plt.xticks(x, sensors, rotation=30, ha = 'right')\n",
    "# plt.setp(ax, xticks=x)\n",
    "plt.tight_layout()\n",
    "\n",
    "# fig.savefig('/Users/zhengj10/Desktop/Dead_Voltron_positron_f0.png',dpi=1200)\n",
    "plt.show()\n"
   ]
  },
  {
   "cell_type": "code",
   "execution_count": null,
   "metadata": {},
   "outputs": [],
   "source": []
  },
  {
   "cell_type": "code",
   "execution_count": null,
   "metadata": {},
   "outputs": [],
   "source": []
  }
 ],
 "metadata": {
  "kernelspec": {
   "display_name": "Python 3",
   "language": "python",
   "name": "python3"
  },
  "language_info": {
   "codemirror_mode": {
    "name": "ipython",
    "version": 3
   },
   "file_extension": ".py",
   "mimetype": "text/x-python",
   "name": "python",
   "nbconvert_exporter": "python",
   "pygments_lexer": "ipython3",
   "version": "3.7.6"
  }
 },
 "nbformat": 4,
 "nbformat_minor": 2
}
