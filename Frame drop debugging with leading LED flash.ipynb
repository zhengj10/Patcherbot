{
 "cells": [
  {
   "cell_type": "code",
   "execution_count": 1,
   "metadata": {},
   "outputs": [],
   "source": [
    "import numpy as np\n",
    "import sys\n",
    "sys.path.append('/Users/zhengj10/Python/Modules')\n",
    "import PatcherBot as pb\n",
    "import pandas as pd\n",
    "from glob import glob\n",
    "import h5py\n",
    "import os\n",
    "import matplotlib.pyplot as plt\n"
   ]
  },
  {
   "cell_type": "code",
   "execution_count": 2,
   "metadata": {},
   "outputs": [],
   "source": [
    "sumPath = '/Users/zhengj10/Desktop/Recent data/Frame_drop/'\n",
    "imgPath = '/Volumes/Backup Plus/PatcherBot/raw/'"
   ]
  },
  {
   "cell_type": "code",
   "execution_count": 3,
   "metadata": {},
   "outputs": [
    {
     "data": {
      "text/html": [
       "<div>\n",
       "<style scoped>\n",
       "    .dataframe tbody tr th:only-of-type {\n",
       "        vertical-align: middle;\n",
       "    }\n",
       "\n",
       "    .dataframe tbody tr th {\n",
       "        vertical-align: top;\n",
       "    }\n",
       "\n",
       "    .dataframe thead th {\n",
       "        text-align: right;\n",
       "    }\n",
       "</style>\n",
       "<table border=\"1\" class=\"dataframe\">\n",
       "  <thead>\n",
       "    <tr style=\"text-align: right;\">\n",
       "      <th></th>\n",
       "      <th>Date</th>\n",
       "      <th>Plate</th>\n",
       "      <th>Sensor</th>\n",
       "      <th>Cell#</th>\n",
       "      <th>Cam trig delay (ms)</th>\n",
       "      <th>LED TTL type</th>\n",
       "      <th>LED TTL period (ms)</th>\n",
       "      <th>LED TTL delay</th>\n",
       "      <th>LED TTL duration (ms)</th>\n",
       "      <th>V-step order</th>\n",
       "      <th>V-step delay (ms)</th>\n",
       "      <th>Power (%)</th>\n",
       "    </tr>\n",
       "  </thead>\n",
       "  <tbody>\n",
       "    <tr>\n",
       "      <th>0</th>\n",
       "      <td>2021.02.11_000</td>\n",
       "      <td>plate_000</td>\n",
       "      <td>376.20948</td>\n",
       "      <td>patch_attempt_0002_000</td>\n",
       "      <td>10</td>\n",
       "      <td>pulse train</td>\n",
       "      <td>1.01</td>\n",
       "      <td>0</td>\n",
       "      <td>20</td>\n",
       "      <td>neg to pos</td>\n",
       "      <td>500</td>\n",
       "      <td>40</td>\n",
       "    </tr>\n",
       "    <tr>\n",
       "      <th>1</th>\n",
       "      <td>2021.02.11_000</td>\n",
       "      <td>plate_000</td>\n",
       "      <td>376.20948</td>\n",
       "      <td>patch_attempt_0005_000</td>\n",
       "      <td>10</td>\n",
       "      <td>pulse train</td>\n",
       "      <td>1.01</td>\n",
       "      <td>0</td>\n",
       "      <td>20</td>\n",
       "      <td>pos to neg</td>\n",
       "      <td>500</td>\n",
       "      <td>40</td>\n",
       "    </tr>\n",
       "    <tr>\n",
       "      <th>2</th>\n",
       "      <td>2021.02.11_000</td>\n",
       "      <td>plate_000</td>\n",
       "      <td>376.20948</td>\n",
       "      <td>patch_attempt_0006_000</td>\n",
       "      <td>10</td>\n",
       "      <td>pulse train</td>\n",
       "      <td>1.01</td>\n",
       "      <td>0</td>\n",
       "      <td>20</td>\n",
       "      <td>pos to neg</td>\n",
       "      <td>300</td>\n",
       "      <td>40</td>\n",
       "    </tr>\n",
       "    <tr>\n",
       "      <th>3</th>\n",
       "      <td>2021.02.11_000</td>\n",
       "      <td>plate_000</td>\n",
       "      <td>376.20948</td>\n",
       "      <td>patch_attempt_0007_000</td>\n",
       "      <td>10</td>\n",
       "      <td>pulse train</td>\n",
       "      <td>1.01</td>\n",
       "      <td>0</td>\n",
       "      <td>20</td>\n",
       "      <td>pos to neg</td>\n",
       "      <td>300</td>\n",
       "      <td>40</td>\n",
       "    </tr>\n",
       "    <tr>\n",
       "      <th>4</th>\n",
       "      <td>2021.02.11_000</td>\n",
       "      <td>plate_000</td>\n",
       "      <td>376.20948</td>\n",
       "      <td>patch_attempt_0008_000</td>\n",
       "      <td>10</td>\n",
       "      <td>pulse train</td>\n",
       "      <td>1.01</td>\n",
       "      <td>0</td>\n",
       "      <td>20</td>\n",
       "      <td>pos to neg</td>\n",
       "      <td>300</td>\n",
       "      <td>40</td>\n",
       "    </tr>\n",
       "    <tr>\n",
       "      <th>5</th>\n",
       "      <td>2021.02.11_000</td>\n",
       "      <td>plate_000</td>\n",
       "      <td>376.20948</td>\n",
       "      <td>patch_attempt_0009_000</td>\n",
       "      <td>10</td>\n",
       "      <td>pulse train</td>\n",
       "      <td>1.01</td>\n",
       "      <td>0</td>\n",
       "      <td>20</td>\n",
       "      <td>pos to neg</td>\n",
       "      <td>500</td>\n",
       "      <td>40</td>\n",
       "    </tr>\n",
       "    <tr>\n",
       "      <th>6</th>\n",
       "      <td>2021.02.11_000</td>\n",
       "      <td>plate_000</td>\n",
       "      <td>376.20948</td>\n",
       "      <td>patch_attempt_0010_000</td>\n",
       "      <td>10</td>\n",
       "      <td>pulse train</td>\n",
       "      <td>1.01</td>\n",
       "      <td>0</td>\n",
       "      <td>20</td>\n",
       "      <td>pos to neg</td>\n",
       "      <td>500</td>\n",
       "      <td>40</td>\n",
       "    </tr>\n",
       "    <tr>\n",
       "      <th>7</th>\n",
       "      <td>2021.02.12_000</td>\n",
       "      <td>plate_000</td>\n",
       "      <td>376.20950</td>\n",
       "      <td>patch_attempt_0003_000</td>\n",
       "      <td>10</td>\n",
       "      <td>single pulse</td>\n",
       "      <td>NaN</td>\n",
       "      <td>0</td>\n",
       "      <td>30</td>\n",
       "      <td>pos to neg</td>\n",
       "      <td>500</td>\n",
       "      <td>50</td>\n",
       "    </tr>\n",
       "    <tr>\n",
       "      <th>8</th>\n",
       "      <td>2021.02.12_000</td>\n",
       "      <td>plate_000</td>\n",
       "      <td>376.20950</td>\n",
       "      <td>patch_attempt_0004_000</td>\n",
       "      <td>0</td>\n",
       "      <td>single pulse</td>\n",
       "      <td>NaN</td>\n",
       "      <td>0</td>\n",
       "      <td>30</td>\n",
       "      <td>pos to neg</td>\n",
       "      <td>500</td>\n",
       "      <td>50</td>\n",
       "    </tr>\n",
       "    <tr>\n",
       "      <th>9</th>\n",
       "      <td>2021.02.12_000</td>\n",
       "      <td>plate_000</td>\n",
       "      <td>376.20950</td>\n",
       "      <td>patch_attempt_0006_000</td>\n",
       "      <td>0</td>\n",
       "      <td>single pulse</td>\n",
       "      <td>NaN</td>\n",
       "      <td>0</td>\n",
       "      <td>30</td>\n",
       "      <td>pos to neg</td>\n",
       "      <td>500</td>\n",
       "      <td>50</td>\n",
       "    </tr>\n",
       "    <tr>\n",
       "      <th>10</th>\n",
       "      <td>2021.02.12_000</td>\n",
       "      <td>plate_000</td>\n",
       "      <td>376.20950</td>\n",
       "      <td>patch_attempt_0007_000</td>\n",
       "      <td>0</td>\n",
       "      <td>single pulse</td>\n",
       "      <td>NaN</td>\n",
       "      <td>0</td>\n",
       "      <td>30</td>\n",
       "      <td>pos to neg</td>\n",
       "      <td>500</td>\n",
       "      <td>50</td>\n",
       "    </tr>\n",
       "    <tr>\n",
       "      <th>11</th>\n",
       "      <td>2021.02.12_000</td>\n",
       "      <td>plate_000</td>\n",
       "      <td>376.20950</td>\n",
       "      <td>patch_attempt_0008_000</td>\n",
       "      <td>0</td>\n",
       "      <td>single pulse</td>\n",
       "      <td>NaN</td>\n",
       "      <td>0</td>\n",
       "      <td>30</td>\n",
       "      <td>pos to neg</td>\n",
       "      <td>500</td>\n",
       "      <td>50</td>\n",
       "    </tr>\n",
       "    <tr>\n",
       "      <th>12</th>\n",
       "      <td>2021.02.12_000</td>\n",
       "      <td>plate_000</td>\n",
       "      <td>376.20950</td>\n",
       "      <td>patch_attempt_0011_000</td>\n",
       "      <td>0</td>\n",
       "      <td>single pulse</td>\n",
       "      <td>NaN</td>\n",
       "      <td>0</td>\n",
       "      <td>30</td>\n",
       "      <td>pos to neg</td>\n",
       "      <td>500</td>\n",
       "      <td>50</td>\n",
       "    </tr>\n",
       "    <tr>\n",
       "      <th>13</th>\n",
       "      <td>2021.02.12_000</td>\n",
       "      <td>plate_000</td>\n",
       "      <td>376.20950</td>\n",
       "      <td>patch_attempt_0012_000</td>\n",
       "      <td>0</td>\n",
       "      <td>single pulse</td>\n",
       "      <td>NaN</td>\n",
       "      <td>0</td>\n",
       "      <td>30</td>\n",
       "      <td>pos to neg</td>\n",
       "      <td>500</td>\n",
       "      <td>50</td>\n",
       "    </tr>\n",
       "    <tr>\n",
       "      <th>14</th>\n",
       "      <td>2021.02.12_000</td>\n",
       "      <td>plate_000</td>\n",
       "      <td>376.20950</td>\n",
       "      <td>patch_attempt_0000_000</td>\n",
       "      <td>0</td>\n",
       "      <td>single pulse</td>\n",
       "      <td>NaN</td>\n",
       "      <td>0</td>\n",
       "      <td>30</td>\n",
       "      <td>pos to neg</td>\n",
       "      <td>300</td>\n",
       "      <td>50</td>\n",
       "    </tr>\n",
       "    <tr>\n",
       "      <th>15</th>\n",
       "      <td>2021.02.12_000</td>\n",
       "      <td>plate_000</td>\n",
       "      <td>376.20950</td>\n",
       "      <td>patch_attempt_0001_000</td>\n",
       "      <td>0</td>\n",
       "      <td>single pulse</td>\n",
       "      <td>NaN</td>\n",
       "      <td>0</td>\n",
       "      <td>30</td>\n",
       "      <td>pos to neg</td>\n",
       "      <td>300</td>\n",
       "      <td>50</td>\n",
       "    </tr>\n",
       "    <tr>\n",
       "      <th>16</th>\n",
       "      <td>2021.02.12_000</td>\n",
       "      <td>plate_000</td>\n",
       "      <td>376.20950</td>\n",
       "      <td>patch_attempt_0002_001</td>\n",
       "      <td>0</td>\n",
       "      <td>single pulse</td>\n",
       "      <td>NaN</td>\n",
       "      <td>0</td>\n",
       "      <td>30</td>\n",
       "      <td>pos to neg</td>\n",
       "      <td>300</td>\n",
       "      <td>50</td>\n",
       "    </tr>\n",
       "    <tr>\n",
       "      <th>17</th>\n",
       "      <td>2021.02.12_000</td>\n",
       "      <td>plate_000</td>\n",
       "      <td>376.20950</td>\n",
       "      <td>patch_attempt_0004_001</td>\n",
       "      <td>0</td>\n",
       "      <td>single pulse</td>\n",
       "      <td>NaN</td>\n",
       "      <td>0</td>\n",
       "      <td>30</td>\n",
       "      <td>pos to neg</td>\n",
       "      <td>300</td>\n",
       "      <td>50</td>\n",
       "    </tr>\n",
       "    <tr>\n",
       "      <th>18</th>\n",
       "      <td>2021.02.12_000</td>\n",
       "      <td>plate_000</td>\n",
       "      <td>376.20950</td>\n",
       "      <td>patch_attempt_0005_001</td>\n",
       "      <td>0</td>\n",
       "      <td>single pulse</td>\n",
       "      <td>NaN</td>\n",
       "      <td>0</td>\n",
       "      <td>30</td>\n",
       "      <td>pos to neg</td>\n",
       "      <td>300</td>\n",
       "      <td>50</td>\n",
       "    </tr>\n",
       "    <tr>\n",
       "      <th>19</th>\n",
       "      <td>2021.02.12_000</td>\n",
       "      <td>plate_000</td>\n",
       "      <td>376.20950</td>\n",
       "      <td>patch_attempt_0006_001</td>\n",
       "      <td>0</td>\n",
       "      <td>single pulse</td>\n",
       "      <td>NaN</td>\n",
       "      <td>0</td>\n",
       "      <td>30</td>\n",
       "      <td>pos to neg</td>\n",
       "      <td>300</td>\n",
       "      <td>50</td>\n",
       "    </tr>\n",
       "  </tbody>\n",
       "</table>\n",
       "</div>"
      ],
      "text/plain": [
       "              Date      Plate     Sensor                   Cell#  \\\n",
       "0   2021.02.11_000  plate_000  376.20948  patch_attempt_0002_000   \n",
       "1   2021.02.11_000  plate_000  376.20948  patch_attempt_0005_000   \n",
       "2   2021.02.11_000  plate_000  376.20948  patch_attempt_0006_000   \n",
       "3   2021.02.11_000  plate_000  376.20948  patch_attempt_0007_000   \n",
       "4   2021.02.11_000  plate_000  376.20948  patch_attempt_0008_000   \n",
       "5   2021.02.11_000  plate_000  376.20948  patch_attempt_0009_000   \n",
       "6   2021.02.11_000  plate_000  376.20948  patch_attempt_0010_000   \n",
       "7   2021.02.12_000  plate_000  376.20950  patch_attempt_0003_000   \n",
       "8   2021.02.12_000  plate_000  376.20950  patch_attempt_0004_000   \n",
       "9   2021.02.12_000  plate_000  376.20950  patch_attempt_0006_000   \n",
       "10  2021.02.12_000  plate_000  376.20950  patch_attempt_0007_000   \n",
       "11  2021.02.12_000  plate_000  376.20950  patch_attempt_0008_000   \n",
       "12  2021.02.12_000  plate_000  376.20950  patch_attempt_0011_000   \n",
       "13  2021.02.12_000  plate_000  376.20950  patch_attempt_0012_000   \n",
       "14  2021.02.12_000  plate_000  376.20950  patch_attempt_0000_000   \n",
       "15  2021.02.12_000  plate_000  376.20950  patch_attempt_0001_000   \n",
       "16  2021.02.12_000  plate_000  376.20950  patch_attempt_0002_001   \n",
       "17  2021.02.12_000  plate_000  376.20950  patch_attempt_0004_001   \n",
       "18  2021.02.12_000  plate_000  376.20950  patch_attempt_0005_001   \n",
       "19  2021.02.12_000  plate_000  376.20950  patch_attempt_0006_001   \n",
       "\n",
       "    Cam trig delay (ms)  LED TTL type  LED TTL period (ms)  LED TTL delay  \\\n",
       "0                    10   pulse train                 1.01              0   \n",
       "1                    10   pulse train                 1.01              0   \n",
       "2                    10   pulse train                 1.01              0   \n",
       "3                    10   pulse train                 1.01              0   \n",
       "4                    10   pulse train                 1.01              0   \n",
       "5                    10   pulse train                 1.01              0   \n",
       "6                    10   pulse train                 1.01              0   \n",
       "7                    10  single pulse                  NaN              0   \n",
       "8                     0  single pulse                  NaN              0   \n",
       "9                     0  single pulse                  NaN              0   \n",
       "10                    0  single pulse                  NaN              0   \n",
       "11                    0  single pulse                  NaN              0   \n",
       "12                    0  single pulse                  NaN              0   \n",
       "13                    0  single pulse                  NaN              0   \n",
       "14                    0  single pulse                  NaN              0   \n",
       "15                    0  single pulse                  NaN              0   \n",
       "16                    0  single pulse                  NaN              0   \n",
       "17                    0  single pulse                  NaN              0   \n",
       "18                    0  single pulse                  NaN              0   \n",
       "19                    0  single pulse                  NaN              0   \n",
       "\n",
       "    LED TTL duration (ms) V-step order  V-step delay (ms)  Power (%)  \n",
       "0                      20   neg to pos                500         40  \n",
       "1                      20   pos to neg                500         40  \n",
       "2                      20   pos to neg                300         40  \n",
       "3                      20   pos to neg                300         40  \n",
       "4                      20   pos to neg                300         40  \n",
       "5                      20   pos to neg                500         40  \n",
       "6                      20   pos to neg                500         40  \n",
       "7                      30   pos to neg                500         50  \n",
       "8                      30   pos to neg                500         50  \n",
       "9                      30   pos to neg                500         50  \n",
       "10                     30   pos to neg                500         50  \n",
       "11                     30   pos to neg                500         50  \n",
       "12                     30   pos to neg                500         50  \n",
       "13                     30   pos to neg                500         50  \n",
       "14                     30   pos to neg                300         50  \n",
       "15                     30   pos to neg                300         50  \n",
       "16                     30   pos to neg                300         50  \n",
       "17                     30   pos to neg                300         50  \n",
       "18                     30   pos to neg                300         50  \n",
       "19                     30   pos to neg                300         50  "
      ]
     },
     "execution_count": 3,
     "metadata": {},
     "output_type": "execute_result"
    }
   ],
   "source": [
    "df = pd.read_excel(sumPath+'params.xlsx')\n",
    "df"
   ]
  },
  {
   "cell_type": "code",
   "execution_count": 4,
   "metadata": {},
   "outputs": [
    {
     "data": {
      "text/html": [
       "<div>\n",
       "<style scoped>\n",
       "    .dataframe tbody tr th:only-of-type {\n",
       "        vertical-align: middle;\n",
       "    }\n",
       "\n",
       "    .dataframe tbody tr th {\n",
       "        vertical-align: top;\n",
       "    }\n",
       "\n",
       "    .dataframe thead th {\n",
       "        text-align: right;\n",
       "    }\n",
       "</style>\n",
       "<table border=\"1\" class=\"dataframe\">\n",
       "  <thead>\n",
       "    <tr style=\"text-align: right;\">\n",
       "      <th></th>\n",
       "      <th>Date</th>\n",
       "      <th>Plate</th>\n",
       "      <th>Sensor</th>\n",
       "      <th>Cell#</th>\n",
       "      <th>Cam trig delay (ms)</th>\n",
       "      <th>LED TTL type</th>\n",
       "      <th>LED TTL period (ms)</th>\n",
       "      <th>LED TTL delay</th>\n",
       "      <th>LED TTL duration (ms)</th>\n",
       "      <th>V-step order</th>\n",
       "      <th>V-step delay (ms)</th>\n",
       "      <th>Power (%)</th>\n",
       "    </tr>\n",
       "  </thead>\n",
       "  <tbody>\n",
       "    <tr>\n",
       "      <th>14</th>\n",
       "      <td>2021.02.12_000</td>\n",
       "      <td>plate_000</td>\n",
       "      <td>376.2095</td>\n",
       "      <td>patch_attempt_0000_000</td>\n",
       "      <td>0</td>\n",
       "      <td>single pulse</td>\n",
       "      <td>NaN</td>\n",
       "      <td>0</td>\n",
       "      <td>30</td>\n",
       "      <td>pos to neg</td>\n",
       "      <td>300</td>\n",
       "      <td>50</td>\n",
       "    </tr>\n",
       "    <tr>\n",
       "      <th>15</th>\n",
       "      <td>2021.02.12_000</td>\n",
       "      <td>plate_000</td>\n",
       "      <td>376.2095</td>\n",
       "      <td>patch_attempt_0001_000</td>\n",
       "      <td>0</td>\n",
       "      <td>single pulse</td>\n",
       "      <td>NaN</td>\n",
       "      <td>0</td>\n",
       "      <td>30</td>\n",
       "      <td>pos to neg</td>\n",
       "      <td>300</td>\n",
       "      <td>50</td>\n",
       "    </tr>\n",
       "    <tr>\n",
       "      <th>16</th>\n",
       "      <td>2021.02.12_000</td>\n",
       "      <td>plate_000</td>\n",
       "      <td>376.2095</td>\n",
       "      <td>patch_attempt_0002_001</td>\n",
       "      <td>0</td>\n",
       "      <td>single pulse</td>\n",
       "      <td>NaN</td>\n",
       "      <td>0</td>\n",
       "      <td>30</td>\n",
       "      <td>pos to neg</td>\n",
       "      <td>300</td>\n",
       "      <td>50</td>\n",
       "    </tr>\n",
       "    <tr>\n",
       "      <th>17</th>\n",
       "      <td>2021.02.12_000</td>\n",
       "      <td>plate_000</td>\n",
       "      <td>376.2095</td>\n",
       "      <td>patch_attempt_0004_001</td>\n",
       "      <td>0</td>\n",
       "      <td>single pulse</td>\n",
       "      <td>NaN</td>\n",
       "      <td>0</td>\n",
       "      <td>30</td>\n",
       "      <td>pos to neg</td>\n",
       "      <td>300</td>\n",
       "      <td>50</td>\n",
       "    </tr>\n",
       "    <tr>\n",
       "      <th>18</th>\n",
       "      <td>2021.02.12_000</td>\n",
       "      <td>plate_000</td>\n",
       "      <td>376.2095</td>\n",
       "      <td>patch_attempt_0005_001</td>\n",
       "      <td>0</td>\n",
       "      <td>single pulse</td>\n",
       "      <td>NaN</td>\n",
       "      <td>0</td>\n",
       "      <td>30</td>\n",
       "      <td>pos to neg</td>\n",
       "      <td>300</td>\n",
       "      <td>50</td>\n",
       "    </tr>\n",
       "    <tr>\n",
       "      <th>19</th>\n",
       "      <td>2021.02.12_000</td>\n",
       "      <td>plate_000</td>\n",
       "      <td>376.2095</td>\n",
       "      <td>patch_attempt_0006_001</td>\n",
       "      <td>0</td>\n",
       "      <td>single pulse</td>\n",
       "      <td>NaN</td>\n",
       "      <td>0</td>\n",
       "      <td>30</td>\n",
       "      <td>pos to neg</td>\n",
       "      <td>300</td>\n",
       "      <td>50</td>\n",
       "    </tr>\n",
       "  </tbody>\n",
       "</table>\n",
       "</div>"
      ],
      "text/plain": [
       "              Date      Plate    Sensor                   Cell#  \\\n",
       "14  2021.02.12_000  plate_000  376.2095  patch_attempt_0000_000   \n",
       "15  2021.02.12_000  plate_000  376.2095  patch_attempt_0001_000   \n",
       "16  2021.02.12_000  plate_000  376.2095  patch_attempt_0002_001   \n",
       "17  2021.02.12_000  plate_000  376.2095  patch_attempt_0004_001   \n",
       "18  2021.02.12_000  plate_000  376.2095  patch_attempt_0005_001   \n",
       "19  2021.02.12_000  plate_000  376.2095  patch_attempt_0006_001   \n",
       "\n",
       "    Cam trig delay (ms)  LED TTL type  LED TTL period (ms)  LED TTL delay  \\\n",
       "14                    0  single pulse                  NaN              0   \n",
       "15                    0  single pulse                  NaN              0   \n",
       "16                    0  single pulse                  NaN              0   \n",
       "17                    0  single pulse                  NaN              0   \n",
       "18                    0  single pulse                  NaN              0   \n",
       "19                    0  single pulse                  NaN              0   \n",
       "\n",
       "    LED TTL duration (ms) V-step order  V-step delay (ms)  Power (%)  \n",
       "14                     30   pos to neg                300         50  \n",
       "15                     30   pos to neg                300         50  \n",
       "16                     30   pos to neg                300         50  \n",
       "17                     30   pos to neg                300         50  \n",
       "18                     30   pos to neg                300         50  \n",
       "19                     30   pos to neg                300         50  "
      ]
     },
     "execution_count": 4,
     "metadata": {},
     "output_type": "execute_result"
    }
   ],
   "source": [
    "df_plot = df[(df['LED TTL type']=='single pulse')&(df['V-step delay (ms)']==300)]\n",
    "df_plot"
   ]
  },
  {
   "cell_type": "code",
   "execution_count": null,
   "metadata": {},
   "outputs": [],
   "source": [
    "imgData = os.path.join(imgPath,'2021.02.12_000','plate_000','patch_attempt_0003_000','camera_clamp1_000','000','Camera','frames.ma')"
   ]
  },
  {
   "cell_type": "code",
   "execution_count": null,
   "metadata": {},
   "outputs": [],
   "source": [
    "imgFile = h5py.File(imgData,'r')\n",
    "imgData = imgFile['data'][()]"
   ]
  },
  {
   "cell_type": "code",
   "execution_count": null,
   "metadata": {},
   "outputs": [],
   "source": [
    "from skimage.io import imsave\n",
    "imsave(sumPath+'/005.tif',imgData)"
   ]
  },
  {
   "cell_type": "code",
   "execution_count": null,
   "metadata": {},
   "outputs": [],
   "source": [
    "sumPath"
   ]
  },
  {
   "cell_type": "code",
   "execution_count": 13,
   "metadata": {},
   "outputs": [
    {
     "name": "stdout",
     "output_type": "stream",
     "text": [
      "patch_attempt_0000_000\n",
      "patch_attempt_0001_000\n",
      "patch_attempt_0002_001\n",
      "patch_attempt_0004_001\n",
      "patch_attempt_0005_001\n",
      "patch_attempt_0006_001\n"
     ]
    },
    {
     "data": {
      "image/png": "[encoded data removed]",
      "text/plain": [
       "<Figure size 576x360 with 2 Axes>"
      ]
     },
     "metadata": {
      "needs_background": "light"
     },
     "output_type": "display_data"
    }
   ],
   "source": [
    "fig = plt.figure(figsize=[8,5])\n",
    "ax1 = plt.subplot(121)\n",
    "ax2 = plt.subplot(122)\n",
    "\n",
    "z = 0\n",
    "\n",
    "peak_index_all = []\n",
    "for i,r in df_plot.iterrows():\n",
    "    idx_all_trials = []\n",
    "    timing_all_trials = []\n",
    "    frame_offset_all_trials = []\n",
    "    \n",
    "    if r['V-step order'] == 'neg to pos':\n",
    "        daqData = os.path.join(imgPath,r['Date'],r['Plate'],r['Cell#'],'camera_clamp1_000','008','Camera','daqResult.ma')\n",
    "        imgData = os.path.join(imgPath,r['Date'],r['Plate'],r['Cell#'],'camera_clamp1_000','008','Camera','frames.ma')\n",
    "    \n",
    "    else:\n",
    "        daqData = os.path.join(imgPath,r['Date'],r['Plate'],r['Cell#'],'camera_clamp1_000','000','Camera','daqResult.ma')\n",
    "        imgData = os.path.join(imgPath,r['Date'],r['Plate'],r['Cell#'],'camera_clamp1_000','000','Camera','frames.ma')\n",
    "\n",
    "    daqData = h5py.File(daqData,'r')\n",
    "    V_SYNC = daqData['data'][()][1]\n",
    "    \n",
    "    peak_indices = np.where(V_SYNC==1)\n",
    "    peak_index = [k for k in range(peak_indices[0].shape[0]) if peak_indices[0][k]-peak_indices[0][k-1]!=1]\n",
    "    peak_index = peak_indices[0][peak_index]\n",
    "    peak_index_ms = peak_index/40.0 # change to ms\n",
    "    #             print(peak_index.shape)\n",
    "    for i in range(peak_index.shape[0]):\n",
    "        if peak_index_ms[i]>=500.0:\n",
    "    #                     print(i,peak_index[i])\n",
    "            idx = i\n",
    "            break\n",
    "\n",
    "    stim_timing = peak_index[idx]\n",
    "    idx_all_trials.append(idx)\n",
    "    timing_all_trials.append(stim_timing)\n",
    "\n",
    "    imgFile = h5py.File(imgData,'r')\n",
    "    imgData = imgFile['data'][()]\n",
    "    \n",
    "#     imgTime = h5py.File(imgFile,'r')\n",
    "    imgTime = imgFile['info']['0']['values'][()]\n",
    "#     print(imgTime[275:285])\n",
    "\n",
    "    F_all = []\n",
    "    for frame in range(imgData.shape[0]):\n",
    "#         F = np.mean(imgData[frame,240:272,22:28]) - np.mean(imgData[frame, 40:72, 22:28])\n",
    "        F = np.mean(imgData[frame,240:272,:])\n",
    "        F_all.append(F)\n",
    "\n",
    "        \n",
    "    offset = 15\n",
    "    \n",
    "\n",
    "    peak_index_all.append(peak_index_ms[:1700])\n",
    "    \n",
    "    # # Frame drop deduction at light on\n",
    "    ax1.plot(peak_index_ms[:1700],F_all[:1700])\n",
    "    ax1.set_xlim([r['Cam trig delay (ms)'],r['Cam trig delay (ms)']+25])\n",
    "\n",
    "#     ax1.set_xlim([r['Cam trig delay (ms)'],r['Cam trig delay (ms)']+50])\n",
    "#     ax1.set_xlim([r['Cam trig delay (ms)']+1,r['Cam trig delay (ms)']+8])\n",
    "#     ax1.set_ylim([1615,2100])\n",
    "#     ax1.set_ylim([0,600])\n",
    "#     ax1.plot([16.425,16.425],[1600,2110],color='k',lw=0.3)\n",
    "#     ax1.plot([16.425,16.425],[1600,2110],color='gray')\n",
    "    \n",
    "    \n",
    "    ## Frame drop deduction at F change\n",
    "#     ax2.plot(peak_index_ms[:1700],F_all[:1700])\n",
    "    ax2.plot(peak_index_ms[:1700],np.array(F_all[:1700])/F_all[r['V-step delay (ms)']-50]-1-z*5)\n",
    "#     ax2.set_xlim([r['V-step delay (ms)']-30,r['V-step delay (ms)']])\n",
    "    ax2.set_xlim([r['V-step delay (ms)']-16,r['V-step delay (ms)']-9])\n",
    "    ax2.set_ylim([-0.11,0.005])\n",
    "#     ax2.plot([486.625,486.625],[-0.4,0.003],color='k')\n",
    "#     ax2.plot([287,287],[-0.4,0.003],color='gray')\n",
    "#     print(peak_index_ms[275:285])\n",
    "\n",
    "    ax1.set_xlabel('VSYNC time (ms)',size=14)\n",
    "    ax2.set_xlabel('VSYNC time (ms)',size=14)\n",
    "    ax1.set_ylabel('F',size=14)\n",
    "    ax2.set_ylabel('\\u0394F/F0',size=14)\n",
    "    print(r['Cell#'])\n",
    "    z+=0.004\n",
    "plt.tight_layout()\n",
    "# fig.savefig(sumPath+'single_pulse_0_cam_delay_300ms_VC_delay.png')\n",
    "plt.show()\n"
   ]
  },
  {
   "cell_type": "code",
   "execution_count": null,
   "metadata": {},
   "outputs": [],
   "source": [
    "a = np.std(peak_index_all,axis=0)"
   ]
  },
  {
   "cell_type": "code",
   "execution_count": null,
   "metadata": {},
   "outputs": [],
   "source": [
    "np.sum(a!=0)"
   ]
  },
  {
   "cell_type": "code",
   "execution_count": null,
   "metadata": {},
   "outputs": [],
   "source": [
    "plt.plot(peak_index_ms[:1700],np.array(F_all[:1700])/F_all[r['V-step delay (ms)']-50]-1)\n",
    "# plt.xlim([r['V-step delay (ms)']-16,r['V-step delay (ms)']-9])"
   ]
  },
  {
   "cell_type": "code",
   "execution_count": null,
   "metadata": {},
   "outputs": [],
   "source": [
    "peak_index_ms[281]"
   ]
  },
  {
   "cell_type": "code",
   "execution_count": null,
   "metadata": {
    "scrolled": false
   },
   "outputs": [],
   "source": [
    "peak_index_ms[14]"
   ]
  },
  {
   "cell_type": "code",
   "execution_count": null,
   "metadata": {},
   "outputs": [],
   "source": [
    "281-3"
   ]
  },
  {
   "cell_type": "code",
   "execution_count": null,
   "metadata": {},
   "outputs": [],
   "source": [
    "plt.scatter(peak_index_ms[:2*offset],F_all[:2*offset])\n",
    "plt.xlabel('VSYNC time (ms)',size=14)\n",
    "plt.ylabel('F',size=14)\n",
    "\n",
    "plt.tight_layout()\n",
    "plt.savefig(sumPath+'Single_pulse_0_ms_cam_trig_delay_leading_flash_seg_500_ms_VC_delay.png')\n",
    "plt.show()\n"
   ]
  },
  {
   "cell_type": "code",
   "execution_count": null,
   "metadata": {},
   "outputs": [],
   "source": [
    "fig = plt.figure(figsize=[15,3])\n",
    "plt.plot(V_SYNC)\n",
    "plt.scatter(peak_index,np.ones(peak_index.shape),color='m')\n",
    "# i=0\n",
    "plt.xlim([i,i+2000])\n",
    "# plt.xlim([0,2000])\n",
    "i=i+2000\n",
    "# print(i)"
   ]
  },
  {
   "cell_type": "code",
   "execution_count": null,
   "metadata": {},
   "outputs": [],
   "source": [
    "print(len(peak_index_ms),len(F_all))\n",
    "# peak_index_ms[-1]"
   ]
  },
  {
   "cell_type": "code",
   "execution_count": null,
   "metadata": {},
   "outputs": [],
   "source": [
    "plt.figure(figsize=[15,2])\n",
    "x_repeat = np.array([0,0.5,0.5,1.01,1.01])\n",
    "y_repeat = [1,1,0,0,1]\n",
    "ax1 = plt.subplot(3,1,1)\n",
    "for i in range(20):\n",
    "    if i!=19:\n",
    "        ax1.plot(x_repeat,y_repeat,color='k')\n",
    "    else:\n",
    "        ax1.plot(x_repeat[:4],y_repeat[:4],color='k')\n",
    "    x_repeat+=1.01\n",
    "ax1.set_xlim([0,600])\n",
    "ax2 = plt.subplot(3,1,2)\n",
    "ax2.plot([0,500,500,600],[0,0,1,1])\n",
    "ax2.set_xlim([0,600])\n",
    "\n",
    "ax3 = plt.subplot(3,1,3)\n",
    "ax3.plot([0,300,300,600],[0,0,1,1])\n",
    "ax3.set_xlim([0,600])\n",
    "\n",
    "ax3 = plt.subplot(3,1,3)\n",
    "ax3.plot([0,300,300,600],[0,0,1,1])\n",
    "ax3.set_xlim([0,600])\n"
   ]
  },
  {
   "cell_type": "code",
   "execution_count": null,
   "metadata": {},
   "outputs": [],
   "source": []
  },
  {
   "cell_type": "code",
   "execution_count": null,
   "metadata": {},
   "outputs": [],
   "source": []
  },
  {
   "cell_type": "code",
   "execution_count": null,
   "metadata": {},
   "outputs": [],
   "source": []
  },
  {
   "cell_type": "code",
   "execution_count": null,
   "metadata": {},
   "outputs": [],
   "source": [
    "fig = plt.figure(figsize=[15,3])\n",
    "plt.plot(F_all)\n",
    "i = 20\n",
    "# plt.xlim([475,525])\n",
    "# for q in range(122):\n",
    "#     plt.plot(F_all[i:i+10])\n",
    "#     i = i+10\n",
    "# plt.savefig('/Users/zhengj10/Desktop/005.png')\n"
   ]
  },
  {
   "cell_type": "code",
   "execution_count": null,
   "metadata": {},
   "outputs": [],
   "source": [
    "# fig = plt.figure(figsize=[10,80])\n",
    "# # plt.plot(F_all)\n",
    "# i = 20\n",
    "# x = 1\n",
    "# for q in range(50):\n",
    "#     ax = plt.subplot(50,1,x)\n",
    "#     ax.plot(F_all[i:i+20])\n",
    "#     i = i+20\n",
    "#     ax.set_ylabel(x)\n",
    "#     x+=1\n",
    "# plt.savefig('/Users/zhengj10/Desktop/008.png')\n"
   ]
  },
  {
   "cell_type": "code",
   "execution_count": null,
   "metadata": {},
   "outputs": [],
   "source": [
    "F = np.array(F_all)"
   ]
  },
  {
   "cell_type": "code",
   "execution_count": null,
   "metadata": {},
   "outputs": [],
   "source": [
    "len(peak_index)"
   ]
  },
  {
   "cell_type": "code",
   "execution_count": null,
   "metadata": {},
   "outputs": [],
   "source": [
    "F_big = F>1670"
   ]
  },
  {
   "cell_type": "code",
   "execution_count": null,
   "metadata": {},
   "outputs": [],
   "source": [
    "np.sum(F_big)"
   ]
  },
  {
   "cell_type": "code",
   "execution_count": null,
   "metadata": {},
   "outputs": [],
   "source": [
    "F_big.shape"
   ]
  },
  {
   "cell_type": "code",
   "execution_count": null,
   "metadata": {},
   "outputs": [],
   "source": [
    "# frame_offset_all_cells\n",
    "# len(idx_all_cells)\n",
    "# len(timing_all_cells)"
   ]
  },
  {
   "cell_type": "code",
   "execution_count": null,
   "metadata": {},
   "outputs": [],
   "source": [
    "frame_offset = []\n",
    "for i in range(len(frame_offset_all_cells)):\n",
    "    frame_offset.append(frame_offset_all_cells[i][0])\n"
   ]
  },
  {
   "cell_type": "code",
   "execution_count": null,
   "metadata": {},
   "outputs": [],
   "source": [
    "stim_idx = []\n",
    "for i in range(len(idx_all_cells)):\n",
    "    stim_idx.append(idx_all_cells[i][0])\n",
    "    "
   ]
  },
  {
   "cell_type": "code",
   "execution_count": null,
   "metadata": {},
   "outputs": [],
   "source": [
    "stim_timing = []\n",
    "for i in range(len(timing_all_cells)):\n",
    "    stim_timing.append(timing_all_cells[i][0])\n",
    "    "
   ]
  },
  {
   "cell_type": "code",
   "execution_count": null,
   "metadata": {},
   "outputs": [],
   "source": [
    "x = np.arange(no_cells)\n",
    "plt.scatter(x,frame_offset)\n",
    "# plt.ylim([479,485])\n",
    "# plt.xlim([500,600])\n",
    "# plt.savefig('/Users/zhengj10/Desktop/frames_offset_individual.png')\n",
    "plt.show()"
   ]
  },
  {
   "cell_type": "code",
   "execution_count": null,
   "metadata": {},
   "outputs": [],
   "source": [
    "np.median(frame_offset)"
   ]
  },
  {
   "cell_type": "code",
   "execution_count": null,
   "metadata": {},
   "outputs": [],
   "source": [
    "plt.plot(F_all[idx-20:idx+20])\n",
    "# plt.ylim([479,485])\n",
    "# plt.xlim([2,10])\n"
   ]
  },
  {
   "cell_type": "code",
   "execution_count": null,
   "metadata": {},
   "outputs": [],
   "source": [
    "plt.plot(stim_idx)\n",
    "plt.ylim([470,494])\n",
    "plt.tight_layout()\n",
    "# plt.savefig('/Users/zhengj10/Desktop/stim_idx.png')\n",
    "plt.show()"
   ]
  },
  {
   "cell_type": "code",
   "execution_count": null,
   "metadata": {},
   "outputs": [],
   "source": [
    "plt.plot(stim_timing)\n",
    "# plt.ylim([500.5,500.9])\n",
    "plt.tight_layout()\n",
    "# plt.savefig('/Users/zhengj10/Desktop/frames_offset.png')\n",
    "plt.show()"
   ]
  },
  {
   "cell_type": "code",
   "execution_count": null,
   "metadata": {},
   "outputs": [],
   "source": [
    "fig = plt.figure()\n",
    "traces = df.traces.to_list()\n",
    "x = np.linspace(-20,19,40)\n",
    "for trace in traces:\n",
    "    trace = np.array(trace)\n",
    "    plt.plot(x,trace-trace[0])\n",
    "plt.xlabel('frame#')\n",
    "plt.ylabel('deltaF')\n",
    "plt.tight_layout()\n",
    "# fig.savefig('/Users/zhengj10/Desktop/Frames drop issue/traces.png',dpi=1200)\n"
   ]
  },
  {
   "cell_type": "code",
   "execution_count": null,
   "metadata": {},
   "outputs": [],
   "source": [
    "df = pd.DataFrame({'cell_id':cell_id,'frame_offset':frame_offset,'stim_idx':stim_idx,'stim_timing':stim_idx,'traces':traces})"
   ]
  },
  {
   "cell_type": "code",
   "execution_count": null,
   "metadata": {},
   "outputs": [],
   "source": [
    "df"
   ]
  },
  {
   "cell_type": "code",
   "execution_count": null,
   "metadata": {},
   "outputs": [],
   "source": [
    "# df.to_pickle('/Users/zhengj10/Desktop/frames_drops.pkl')\n",
    "# df.to_excel('/Users/zhengj10/Desktop/frames_drops.xlsx')"
   ]
  },
  {
   "cell_type": "code",
   "execution_count": null,
   "metadata": {},
   "outputs": [],
   "source": [
    "ax = df.frame_offset.plot(kind='hist')\n",
    "ax.set_xlabel('No. of frames offset')\n",
    "ax.set_ylabel('Frequency')\n",
    "plt.show()"
   ]
  },
  {
   "cell_type": "code",
   "execution_count": null,
   "metadata": {},
   "outputs": [],
   "source": [
    "ax = df.frame_offset.plot()\n",
    "ax.set_xlabel('Cell #')\n",
    "ax.set_ylabel('No. of frames offset')\n",
    "plt.show()"
   ]
  },
  {
   "cell_type": "code",
   "execution_count": null,
   "metadata": {},
   "outputs": [],
   "source": [
    "dataPath = '/Volumes/Backup Plus/PatcherBot/raw/2020.10.15_000/plate_000/patch_attempt_0000_000/camera_clamp1_000/008'"
   ]
  },
  {
   "cell_type": "code",
   "execution_count": null,
   "metadata": {},
   "outputs": [],
   "source": [
    "# dataFile = dataPath+'/Clamp1.ma'\n",
    "# dataFile = dataPath+'Camera/daqResult.ma'\n",
    "dataFile = dataPath+'/Camera/frames.ma'"
   ]
  },
  {
   "cell_type": "code",
   "execution_count": null,
   "metadata": {},
   "outputs": [],
   "source": [
    "data = h5py.File(dataFile,'r')"
   ]
  },
  {
   "cell_type": "code",
   "execution_count": null,
   "metadata": {},
   "outputs": [],
   "source": [
    "# data = data['data'][()]\n",
    "data = data['info']['0']['values'][()]"
   ]
  },
  {
   "cell_type": "code",
   "execution_count": null,
   "metadata": {},
   "outputs": [],
   "source": [
    "data.shape"
   ]
  },
  {
   "cell_type": "code",
   "execution_count": null,
   "metadata": {},
   "outputs": [],
   "source": [
    "plt.plot(data[0])\n",
    "plt.xlim([19990,20010])"
   ]
  },
  {
   "cell_type": "code",
   "execution_count": null,
   "metadata": {},
   "outputs": [],
   "source": [
    "F_all = []\n",
    "for frame in range(data.shape[0]):\n",
    "    F = np.mean(data[frame,234:274,:])\n",
    "    F_all.append(F)"
   ]
  },
  {
   "cell_type": "code",
   "execution_count": null,
   "metadata": {},
   "outputs": [],
   "source": [
    "plt.plot(F_all)\n",
    "plt.xlim([460,500])"
   ]
  },
  {
   "cell_type": "code",
   "execution_count": null,
   "metadata": {},
   "outputs": [],
   "source": [
    "timing_info = []\n",
    "for timing in range(data.shape[0]-1):\n",
    "    timing_info.append(data[timing+1]-data[timing])\n",
    "\n",
    "plt.plot(timing_info)"
   ]
  },
  {
   "cell_type": "code",
   "execution_count": null,
   "metadata": {},
   "outputs": [],
   "source": [
    "class student:\n",
    "    def __init__(self,name,age):\n",
    "        self.name = name\n",
    "        self.age = age\n",
    "    def double_it(self,x):\n",
    "        return x*2\n",
    "    def get_mean(self,x):\n",
    "        return np.mean(x)\n",
    "\n",
    "        "
   ]
  },
  {
   "cell_type": "code",
   "execution_count": null,
   "metadata": {},
   "outputs": [],
   "source": [
    "jihong = student('jihong',22)"
   ]
  },
  {
   "cell_type": "code",
   "execution_count": null,
   "metadata": {},
   "outputs": [],
   "source": [
    "jihong.age"
   ]
  },
  {
   "cell_type": "code",
   "execution_count": null,
   "metadata": {},
   "outputs": [],
   "source": [
    "jihong.double_it(10)"
   ]
  },
  {
   "cell_type": "code",
   "execution_count": null,
   "metadata": {},
   "outputs": [],
   "source": [
    "jihong.get_mean([2,3])"
   ]
  },
  {
   "cell_type": "code",
   "execution_count": null,
   "metadata": {},
   "outputs": [],
   "source": []
  }
 ],
 "metadata": {
  "kernelspec": {
   "display_name": "Python 3",
   "language": "python",
   "name": "python3"
  },
  "language_info": {
   "codemirror_mode": {
    "name": "ipython",
    "version": 3
   },
   "file_extension": ".py",
   "mimetype": "text/x-python",
   "name": "python",
   "nbconvert_exporter": "python",
   "pygments_lexer": "ipython3",
   "version": "3.7.6"
  }
 },
 "nbformat": 4,
 "nbformat_minor": 4
}
