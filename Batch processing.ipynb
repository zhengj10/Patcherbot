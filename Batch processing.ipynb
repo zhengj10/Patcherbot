{
 "cells": [
  {
   "cell_type": "code",
   "execution_count": 1,
   "metadata": {},
   "outputs": [],
   "source": [
    "import sys\n",
    "sys.path.append('/Users/zhengj10/Python/Modules')\n",
    "import h5py\n",
    "import os\n",
    "import numpy as np\n",
    "from skimage.io import imsave\n",
    "import matplotlib.pyplot as plt\n",
    "import yaml\n",
    "import pandas as pd\n",
    "import PatcherBot as pb\n",
    "from glob import glob\n",
    "import seaborn as sns\n",
    "import tifffile as tff\n"
   ]
  },
  {
   "cell_type": "code",
   "execution_count": 2,
   "metadata": {},
   "outputs": [
    {
     "data": {
      "text/html": [
       "<div>\n",
       "<style scoped>\n",
       "    .dataframe tbody tr th:only-of-type {\n",
       "        vertical-align: middle;\n",
       "    }\n",
       "\n",
       "    .dataframe tbody tr th {\n",
       "        vertical-align: top;\n",
       "    }\n",
       "\n",
       "    .dataframe thead th {\n",
       "        text-align: right;\n",
       "    }\n",
       "</style>\n",
       "<table border=\"1\" class=\"dataframe\">\n",
       "  <thead>\n",
       "    <tr style=\"text-align: right;\">\n",
       "      <th></th>\n",
       "      <th>Date</th>\n",
       "      <th>Plate</th>\n",
       "      <th>Well</th>\n",
       "      <th>Cell</th>\n",
       "      <th>Mutation</th>\n",
       "      <th>Transfected_date</th>\n",
       "      <th>Leak</th>\n",
       "      <th>Ra</th>\n",
       "      <th>dFF_p</th>\n",
       "      <th>dFF_s</th>\n",
       "      <th>...</th>\n",
       "      <th>amp_off_s_double</th>\n",
       "      <th>tau_on_f_double</th>\n",
       "      <th>tau_off_f_double</th>\n",
       "      <th>tau_on_s_double</th>\n",
       "      <th>tau_off_s_double</th>\n",
       "      <th>time_on_10-90</th>\n",
       "      <th>time_off_10-90</th>\n",
       "      <th>Leak_min</th>\n",
       "      <th>Ra_max</th>\n",
       "      <th>Objective</th>\n",
       "    </tr>\n",
       "  </thead>\n",
       "  <tbody>\n",
       "  </tbody>\n",
       "</table>\n",
       "<p>0 rows × 30 columns</p>\n",
       "</div>"
      ],
      "text/plain": [
       "Empty DataFrame\n",
       "Columns: [Date, Plate, Well, Cell, Mutation, Transfected_date, Leak, Ra, dFF_p, dFF_s, F0, amp_on_single, amp_off_single, tau_on_single, tau_off_single, bleach_x, bleach, amp_on_f_double, amp_on_s_double, amp_off_f_double, amp_off_s_double, tau_on_f_double, tau_off_f_double, tau_on_s_double, tau_off_s_double, time_on_10-90, time_off_10-90, Leak_min, Ra_max, Objective]\n",
       "Index: []\n",
       "\n",
       "[0 rows x 30 columns]"
      ]
     },
     "execution_count": 2,
     "metadata": {},
     "output_type": "execute_result"
    }
   ],
   "source": [
    "columns = ['Date','Plate','Well','Cell','Mutation','Transfected_date','Leak','Ra','dFF_p','dFF_s','F0',\n",
    "           'amp_on_single',\n",
    "           'amp_off_single','tau_on_single','tau_off_single','bleach_x','bleach','amp_on_f_double',\n",
    "           'amp_on_s_double','amp_off_f_double','amp_off_s_double','tau_on_f_double','tau_off_f_double',\n",
    "           'tau_on_s_double','tau_off_s_double','time_on_10-90','time_off_10-90','Leak_min','Ra_max','Objective']\n",
    "df = pd.DataFrame(columns = columns)\n",
    "df\n"
   ]
  },
  {
   "cell_type": "markdown",
   "metadata": {},
   "source": [
    "### Load params from .mat file"
   ]
  },
  {
   "cell_type": "code",
   "execution_count": null,
   "metadata": {},
   "outputs": [],
   "source": [
    "# sumPath = '/Volumes/genie/Jihong_GENIE_stuff/PatcherBot/summary'\n",
    "# imgPath = '/Volumes/genie/BenArthur/patch-screen/bot'\n",
    "# rawPath = '/Volumes/genie/Jihong_GENIE_stuff/PatcherBot/raw'\n",
    "sumPath = '/Users/zhengj10/Desktop/Voltron2/iclamp'\n",
    "imgPath = '/Volumes/Backup Plus/patch-screen/bot'\n",
    "rawPath = '/Volumes/Backup Plus/PatcherBot/raw'\n",
    "os.path.exists(imgPath)\n"
   ]
  },
  {
   "cell_type": "code",
   "execution_count": null,
   "metadata": {},
   "outputs": [],
   "source": [
    "# datePath = pb.getPathInfo(imgPath)\n",
    "datePath = ['2020.07.29_000','2020.07.30_000',\n",
    "            '2020.08.11_000','2020.08.12_000','2020.08.13_000']\n",
    "# datePath = datePath[9:]\n",
    "datePath\n"
   ]
  },
  {
   "cell_type": "code",
   "execution_count": null,
   "metadata": {
    "scrolled": false
   },
   "outputs": [],
   "source": [
    "# df = pd.read_pickle(sumPath + '/summary_sel.pkl')\n",
    "# # df.index = np.arange(1,len(df)+1)\n",
    "# print(len(df))\n",
    "# # df = df.drop(df.index[69:161])\n",
    "# # print(len(df))\n",
    "# df"
   ]
  },
  {
   "cell_type": "code",
   "execution_count": null,
   "metadata": {},
   "outputs": [],
   "source": [
    "# idx_del = df[(df['Mutation'] == '421.1')].index\n",
    "# idx_del\n",
    "# df.drop(idx_del[:6], inplace=True)\n",
    "# df.replace('421.1','421.1_steady',inplace=True)\n",
    "# df[df.Mutation == '421.1_steady']"
   ]
  },
  {
   "cell_type": "code",
   "execution_count": null,
   "metadata": {},
   "outputs": [],
   "source": [
    "df_sel = [df['Mutation'],df['dFF']]\n",
    "df_sel = pd.DataFrame(df_sel)\n",
    "df_sel = df_sel.transpose()\n",
    "df_sel\n",
    "# col = ['Mutation','dFF']\n"
   ]
  },
  {
   "cell_type": "code",
   "execution_count": null,
   "metadata": {},
   "outputs": [],
   "source": [
    "df_sel = df"
   ]
  },
  {
   "cell_type": "code",
   "execution_count": null,
   "metadata": {},
   "outputs": [],
   "source": [
    "data_all={}\n",
    "for param in(df_sel.columns):\n",
    "    data_all[param] = []\n",
    "for date in datePath:\n",
    "    platePath = pb.getPathInfo(os.path.join(imgPath,date))\n",
    "    for plate in platePath:\n",
    "        cellPath = pb.getPathInfo(os.path.join(imgPath, date, plate))\n",
    "        for cell in(cellPath):\n",
    "            print(cell)\n",
    "            matFiles = glob(os.path.join(imgPath, date, plate, cell) + '/*.mat')\n",
    "            if len(matFiles) < 9:\n",
    "                print('bad trial: ' + '/' + date + '/' + plate + '/' + cell)\n",
    "                continue\n",
    "            dFF_p = []\n",
    "            for trial in range(9):\n",
    "                matFile = os.path.join(imgPath,date,plate,cell) + '/' + str(trial).zfill(3) + '.mat'\n",
    "                f = h5py.File(matFile,'r')\n",
    "                d = f['params']['fit_pix_alpha_single']\n",
    "                st = d[0]\n",
    "                obj = f[st]\n",
    "                dff_p = obj['bkg_norm_ave_dFoF0_transient'][()][0]\n",
    "                dFF_p.append(dff_p)\n",
    "            data_all['Mutation'].append('421.1_peak')\n",
    "            data_all['dFF'].append(dFF_p)"
   ]
  },
  {
   "cell_type": "code",
   "execution_count": null,
   "metadata": {},
   "outputs": [],
   "source": [
    "df_new = pd.DataFrame(data_all, columns = list(df_sel))\n",
    "df_new"
   ]
  },
  {
   "cell_type": "code",
   "execution_count": null,
   "metadata": {},
   "outputs": [],
   "source": [
    "df_sel = df_sel.append(df_new, ignore_index = True)\n",
    "df_sel.index = np.arange(1, len(df_sel)+1)\n",
    "df_sel"
   ]
  },
  {
   "cell_type": "code",
   "execution_count": null,
   "metadata": {},
   "outputs": [],
   "source": [
    "import unicodedata\n",
    "import seaborn as sns\n",
    "sns.set()\n",
    "sns.set_style(style='whitegrid')\n",
    "\n",
    "fig = plt.figure(figsize=[6,5])\n",
    "params = ['dFF']\n",
    "x_label = 'mV'\n",
    "y_label = [unicodedata.lookup(\"GREEK CAPITAL LETTER delta\") + 'F/F']\n",
    "\n",
    "\n",
    "\n",
    "labels = {\n",
    "            '421.1_peak':'Voltron_peak',\n",
    "            '421.1_steady':'Voltron_steady',\n",
    "            '421.2096':'Voltron A122D',\n",
    "            '421.4909':'Voltron N69E R78H A122D V196P',\n",
    "            '421.4919':'Voltron R78H A122D V196P',\n",
    "            '421.4876':'Voltron N69E A122D',\n",
    "            '421.4892':'Voltron N69E V196P'\n",
    "    \n",
    "         }\n",
    "\n",
    "\n",
    "\n",
    "for i in range(len(params)):\n",
    "\n",
    "    ax = plt.subplot(1,1,i+1)\n",
    "\n",
    "    for sensor in ['421.1_peak','421.1_steady','421.2096','421.4909','421.4919','421.4876','421.4892']: \n",
    "\n",
    "        df_sensor = df_sel[df_sel.Mutation == sensor]\n",
    "        param_mean = np.nanmean(df_sensor[params[i]].tolist(), axis=0)\n",
    "        param_sem = np.nanstd(df_sensor[params[i]].tolist(), axis=0)/(len(df_sensor)-1)\n",
    "        x = np.linspace(-100,60,9)\n",
    "        ax.errorbar(x, param_mean, yerr = param_sem, fmt = 'o-',\n",
    "                        label = labels[sensor]+' (%d)' %len(df_sensor))\n",
    "    ax.legend()\n",
    "    ax.set_xlabel(x_label)\n",
    "#     ax.set_ylim([-0.3,0.3])\n",
    "    ax.set_ylabel(y_label[i])\n",
    "#     ax.set_title(params[i])\n",
    "\n",
    "\n",
    "handles, labels = ax.get_legend_handles_labels() # Following 3 lines remove the errorbars from legend\n",
    "handles = [h[0] for h in handles]\n",
    "ax.legend(handles, labels, loc='lower left', bbox_to_anchor=(0.5, 0.6))\n",
    "\n",
    "plt.setp(ax, xticks=x)\n",
    "plt.tight_layout()\n",
    "# plt.legend()\n",
    "# fig.savefig('/Users/zhengj10/Desktop/Voltron_variants_dFF.png',dpi=1200)\n",
    "plt.show()\n"
   ]
  },
  {
   "cell_type": "code",
   "execution_count": null,
   "metadata": {},
   "outputs": [],
   "source": []
  },
  {
   "cell_type": "code",
   "execution_count": null,
   "metadata": {},
   "outputs": [],
   "source": []
  },
  {
   "cell_type": "code",
   "execution_count": null,
   "metadata": {
    "scrolled": false
   },
   "outputs": [],
   "source": [
    "# ## Update well info\n",
    "# for i,r in df.iterrows():\n",
    "#     if os.path.exists(os.path.join(rawPath,r['Date'],r['Plate'],r['Cell'],'camera_clamp1_000')):\n",
    "#         df.loc[i,'Well'] = 'well_1'\n",
    "#     elif os.path.exists(os.path.join(rawPath,r['Date'],r['Plate'],r['Cell'],'camera_clamp2_000')):\n",
    "#         df.loc[i,'Well'] = 'well_2'\n",
    "#     elif os.path.exists(os.path.join(rawPath,r['Date'],r['Plate'],r['Cell'],'camera_clamp3_000')):\n",
    "#         df.loc[i,'Well'] = 'well_3'\n",
    "#     elif os.path.exists(os.path.join(rawPath,r['Date'],r['Plate'],r['Cell'],'camera_clamp4_000')):\n",
    "#         df.loc[i,'Well'] = 'well_4'\n"
   ]
  },
  {
   "cell_type": "code",
   "execution_count": null,
   "metadata": {
    "scrolled": false
   },
   "outputs": [],
   "source": [
    "# data_all={}\n",
    "# for param in(df.columns):\n",
    "#     data_all[param] = []\n",
    "# for date in datePath:\n",
    "#     platePath = pb.getPathInfo(os.path.join(rawPath, date))\n",
    "#     for plate in platePath:\n",
    "#         idxFile = os.path.join(rawPath, date, plate, '.index')\n",
    "#         meta = yaml.load(open(idxFile), Loader=yaml.FullLoader)\n",
    "        \n",
    "#         cellPath = pb.getPathInfo(os.path.join(imgPath, date, plate))\n",
    "#         for cell in(cellPath):\n",
    "#             matFiles = glob(os.path.join(imgPath, date, plate, cell) + '/*.mat')\n",
    "#             if len(matFiles) < 9:\n",
    "#                 print('bad trial: ' + '/' + date + '/' + plate + '/' + cell)\n",
    "#                 continue\n",
    "#             if os.path.exists(os.path.join(rawPath,date,plate,cell,'camera_clamp1_000')):\n",
    "#                 dataPath = os.path.join(rawPath,date,plate,cell,'camera_clamp1_000')\n",
    "#                 data_all['Well'].append('well_1')\n",
    "#                 mutation = meta['.']['mutation_1']\n",
    "#                 note = meta['.']['notes'][0:6]\n",
    "#             elif os.path.exists(os.path.join(rawPath,date,plate,cell,'camera_clamp2_000')):\n",
    "#                 dataPath = os.path.join(rawPath,date,plate,cell,'camera_clamp2_000')\n",
    "#                 data_all['Well'].append('well_2')\n",
    "#                 mutation = meta['.']['mutation_2']\n",
    "#                 note = meta['.']['notes'][0:6]\n",
    "#             elif os.path.exists(os.path.join(rawPath,date,plate,cell,'camera_clamp3_000')):\n",
    "#                 dataPath = os.path.join(rawPath,date,plate,cell,'camera_clamp3_000/')\n",
    "#                 data_all['Well'].append('well_3')\n",
    "#                 mutation = meta['.']['mutation_3']\n",
    "#                 note = meta['.']['notes'][0:6]\n",
    "#             elif os.path.exists(os.path.join(rawPath,date,plate,cell,'camera_clamp4_000/')):\n",
    "#                 dataPath = os.path.join(rawPath,date,plate,cell,'camera_clamp4_000')\n",
    "#                 data_all['Well'].append('well_4')\n",
    "#                 mutation = meta['.']['mutation_4']\n",
    "#                 note = meta['.']['notes'][0:6]\n",
    "            \n",
    "#             data_all['Date'].append(date)\n",
    "#             data_all['Plate'].append(plate)\n",
    "#             data_all['Cell'].append(cell)\n",
    "#             data_all['Mutation'].append(mutation)\n",
    "#             data_all['Transfected_date'].append(note[:6])\n",
    "#             leaks = []\n",
    "#             Ra_s = [] # List of Ra\n",
    "#             F0 = []\n",
    "\n",
    "#             dff=[]\n",
    "#             amp_on = []\n",
    "#             amp_off = []\n",
    "#             tau_on = []\n",
    "#             tau_off = []\n",
    "\n",
    "#             amp_on_fast = []\n",
    "#             amp_on_slow = []\n",
    "#             amp_off_fast = []\n",
    "#             amp_off_slow = []\n",
    "#             tau_on_fast = []\n",
    "#             tau_on_slow = []\n",
    "#             tau_off_fast = []\n",
    "#             tau_off_slow = []\n",
    "#             time_on = []\n",
    "#             time_off = []\n",
    "#             bleach_x = []\n",
    "#             bleach = []\n",
    "            \n",
    "#             for trial in range(9):\n",
    "#                 ivFile = os.path.join(dataPath,str(trial).zfill(3),'Camera','frames.ma')\n",
    "#                 leak = pb.get_leak(ivFile)\n",
    "#                 Ra = pb.get_Ra(ivFile,trial)\n",
    "#                 matFile = os.path.join(imgPath,date,plate,cell) + '/' + str(trial).zfill(3) + '.mat'\n",
    "#                 data = pb.get_data(matFile)\n",
    "#                 f0_single = data['f0']\n",
    "                                \n",
    "#                 leaks.append(leak)\n",
    "#                 Ra_s.append(Ra)\n",
    "#                 F0.append(f0_single)\n",
    "\n",
    "#                 trace_single = data['dff_corrected_single']               # for single fit\n",
    "#                 dff_single = pb.get_dff(trace_single)\n",
    "#                 amp_on_single = data['amp_on'][0]\n",
    "#                 amp_off_single = data['amp_off'][0]\n",
    "#                 tau_on_single = data['tau_on'][0]\n",
    "#                 tau_off_single = data['tau_off'][0]\n",
    "#                 bleach_x1 = data['bleach_x'][0]\n",
    "#                 bleach_x2 = data['bleach_x'][1]\n",
    "#                 bleach_single_1 = data['bleach'][0]\n",
    "#                 bleach_single_2 = data['bleach'][1]\n",
    "\n",
    "#                 dff.append(dff_single)\n",
    "#                 amp_on.append(amp_on_single)\n",
    "#                 amp_off.append(amp_off_single)\n",
    "#                 tau_on.append(tau_on_single)\n",
    "#                 tau_off.append(tau_off_single)\n",
    "#                 bleach_x.append(bleach_x1)\n",
    "#                 bleach_x.append(bleach_x2)\n",
    "#                 bleach.append(bleach_single_1)\n",
    "#                 bleach.append(bleach_single_2)\n",
    "\n",
    "#                 trace_double = data['dff_corrected_double']                # for double fit\n",
    "#                 amp_on_fast_single = data['amp_on_fast'][0]                \n",
    "#                 amp_on_slow_single = data['amp_on_slow'][0]\n",
    "#                 amp_off_fast_single = data['amp_off_fast'][0]\n",
    "#                 amp_off_slow_single = data['amp_off_slow'][0]\n",
    "#                 tau_on_fast_single = data['tau_on_fast'][0]\n",
    "#                 tau_on_slow_single = data['tau_on_slow'][0]\n",
    "#                 tau_off_fast_single = data['tau_off_fast'][0]\n",
    "#                 tau_off_slow_single = data['tau_off_slow'][0]\n",
    "#                 time_on_double = data['time_on'][0]\n",
    "#                 if time_on_double == 0:\n",
    "#                     print('time_on: ' + date + '/' + plate + '/' + cell + '/' + str(i).zfill(3) + '.mat')\n",
    "#                 time_off_double = data['time_off'][0]\n",
    "#                 if time_off_double == 0:\n",
    "#                     print('time_off: ' + date + '/' + plate + '/' + cell + '/' + str(i).zfill(3) + '.mat')\n",
    "\n",
    "#                 amp_on_fast.append(amp_on_fast_single)\n",
    "#                 amp_on_slow.append(amp_on_slow_single)\n",
    "#                 amp_off_fast.append(amp_off_fast_single)\n",
    "#                 amp_off_slow.append(amp_off_slow_single)\n",
    "#                 tau_on_fast.append(tau_on_fast_single)\n",
    "#                 tau_on_slow.append(tau_on_slow_single)\n",
    "#                 tau_off_fast.append(tau_off_fast_single)\n",
    "#                 tau_off_slow.append(tau_off_slow_single)\n",
    "#                 time_on.append(time_on_double)\n",
    "#                 time_off.append(time_off_double)\n",
    "\n",
    "#             data_all['F0'].append(F0)\n",
    "#             data_all['Leak'].append(leaks)\n",
    "#             data_all['Ra'].append(Ra_s)\n",
    "#             data_all['Leak_min'].append(np.min(leaks))\n",
    "#             data_all['Ra_max'].append(np.max(Ra_s))\n",
    "\n",
    "#             data_all['dFF'].append(dff)\n",
    "#             data_all['amp_on_single'].append(amp_on)\n",
    "#             data_all['amp_off_single'].append(amp_off)\n",
    "#             data_all['tau_on_single'].append(tau_on)\n",
    "#             data_all['tau_off_single'].append(tau_off)\n",
    "#             data_all['time_on_10-90'].append(time_on)\n",
    "#             data_all['time_off_10-90'].append(time_off)\n",
    "#             data_all['bleach_x'].append(bleach_x)\n",
    "#             data_all['bleach'].append(bleach)\n",
    "\n",
    "#             data_all['amp_on_f_double'].append(amp_on_fast)\n",
    "#             data_all['amp_on_s_double'].append(amp_on_slow)\n",
    "#             data_all['amp_off_f_double'].append(amp_off_fast)\n",
    "#             data_all['amp_off_s_double'].append(amp_off_slow)\n",
    "#             data_all['tau_on_f_double'].append(tau_on_fast)\n",
    "#             data_all['tau_on_s_double'].append(tau_on_slow)\n",
    "#             data_all['tau_off_f_double'].append(tau_off_fast)\n",
    "#             data_all['tau_off_s_double'].append(tau_off_slow)\n",
    "# print('Done!')\n"
   ]
  },
  {
   "cell_type": "code",
   "execution_count": null,
   "metadata": {},
   "outputs": [],
   "source": [
    "columns = ['Date','Plate','Cell','dFF_p','dFF_s']\n",
    "df = pd.DataFrame(columns = columns)\n",
    "df"
   ]
  },
  {
   "cell_type": "code",
   "execution_count": null,
   "metadata": {},
   "outputs": [],
   "source": [
    "# dF/F0 data is in params / fit_pix_alpha_single / bkg_norm_ave_dFoF0_transient\n",
    "# dF/F0 data is in params / fit_pix_alpha_single / bkg_norm_ave_on_dFoF0_plateau\n",
    "\n",
    "\n",
    "data_all={}\n",
    "for param in(df.columns):\n",
    "    data_all[param] = []\n",
    "for date in datePath:\n",
    "    platePath = pb.getPathInfo(os.path.join(rawPath, date))\n",
    "    for plate in platePath:\n",
    "        cellPath = pb.getPathInfo(os.path.join(imgPath, date, plate))\n",
    "        for cell in(cellPath):\n",
    "            print(cell)\n",
    "            matFiles = glob(os.path.join(imgPath, date, plate, cell) + '/*.mat')\n",
    "            if len(matFiles) < 9:\n",
    "                print('bad trial: ' + '/' + date + '/' + plate + '/' + cell)\n",
    "                continue\n",
    "            dFF_p = []\n",
    "            dFF_s = []\n",
    "            for trial in range(9):\n",
    "                matFile = os.path.join(imgPath,date,plate,cell) + '/' + str(trial).zfill(3) + '.mat'\n",
    "                f = h5py.File(matFile,'r')\n",
    "                d = f['params']['fit_pix_alpha_single']\n",
    "                st = d[0]\n",
    "                obj = f[st]\n",
    "                dff_p = obj['bkg_norm_ave_dFoF0_transient'][()][0]\n",
    "                dff_s = obj['bkg_norm_ave_on_dFoF0_plateau'][()][0]\n",
    "                dFF_p.append(dff_p)\n",
    "                dFF_s.append(dff_s)\n",
    "            data_all['Date'].append(date)\n",
    "            data_all['Plate'].append('plate_000')\n",
    "            data_all['Cell'].append(cell)\n",
    "            data_all['dFF_p'].append(dFF_p)\n",
    "            data_all['dFF_s'].append(dFF_s)\n",
    "            \n",
    "               \n",
    "print('Done!')\n"
   ]
  },
  {
   "cell_type": "code",
   "execution_count": null,
   "metadata": {},
   "outputs": [],
   "source": [
    "data_all['dFF_p']"
   ]
  },
  {
   "cell_type": "code",
   "execution_count": null,
   "metadata": {},
   "outputs": [],
   "source": []
  },
  {
   "cell_type": "code",
   "execution_count": null,
   "metadata": {},
   "outputs": [],
   "source": []
  },
  {
   "cell_type": "code",
   "execution_count": null,
   "metadata": {},
   "outputs": [],
   "source": [
    "df_new = pd.DataFrame(data_all, columns = list(df))\n",
    "df_new"
   ]
  },
  {
   "cell_type": "code",
   "execution_count": null,
   "metadata": {
    "scrolled": false
   },
   "outputs": [],
   "source": [
    "# df_new_1 = pd.DataFrame(data_all, columns = list(df)) # columns specification keeps the order of columns; index specification makes sure dict keys are the columns \n",
    "df = df.append(df_new, ignore_index = True)\n",
    "df.index = np.arange(1, len(df)+1)\n",
    "df\n"
   ]
  },
  {
   "cell_type": "code",
   "execution_count": null,
   "metadata": {},
   "outputs": [],
   "source": [
    "# df = df.drop(df.index[len(df)-1]) # Drop the last row\n",
    "# df"
   ]
  },
  {
   "cell_type": "code",
   "execution_count": null,
   "metadata": {},
   "outputs": [],
   "source": [
    "df"
   ]
  },
  {
   "cell_type": "code",
   "execution_count": null,
   "metadata": {},
   "outputs": [],
   "source": [
    "# df.to_pickle(sumPath + '/summary_sel.pkl')\n",
    "# df.to_excel(sumPath + '/summary_sel.xlsx')\n",
    "\n",
    "# df.to_pickle(rawPath + '/summary_3b_variants.pkl')\n",
    "# df.to_excel(rawPath + '/summary_3b_variants.xlsx')\n",
    "\n",
    "# df.to_pickle(rawPath + '/summary_Voltron_variants.pkl')\n",
    "# df.to_excel(rawPath + '/summary_Voltron_variants.xlsx')\n"
   ]
  },
  {
   "cell_type": "code",
   "execution_count": null,
   "metadata": {},
   "outputs": [],
   "source": [
    "## Check the size for each column is the same\n",
    "# i = 0\n",
    "# for k, v in data_all.items():\n",
    "#     print(k, len(v))\n",
    "#     i+=1\n"
   ]
  },
  {
   "cell_type": "markdown",
   "metadata": {},
   "source": [
    "### Plot"
   ]
  },
  {
   "cell_type": "markdown",
   "metadata": {},
   "source": [
    "- Filter data"
   ]
  },
  {
   "cell_type": "code",
   "execution_count": null,
   "metadata": {},
   "outputs": [],
   "source": [
    "# df = pd.read_pickle(rawPath + '/summary_3b_variants.pkl')"
   ]
  },
  {
   "cell_type": "code",
   "execution_count": null,
   "metadata": {},
   "outputs": [],
   "source": [
    "threshold = {\n",
    "            'leak':-200,\n",
    "            'Ra':30,\n",
    "\n",
    "        }\n",
    "\n"
   ]
  },
  {
   "cell_type": "code",
   "execution_count": null,
   "metadata": {},
   "outputs": [],
   "source": [
    "df = df_amy[(df.Leak_min>threshold['leak'])&(df.Ra_max<threshold['Ra'])]\n",
    "# pd.set_option('display.max_columns', 50)\n",
    "# pd.set_option('display.max_colwidth', 80)\n",
    "print(len(df))\n",
    "# df\n"
   ]
  },
  {
   "cell_type": "markdown",
   "metadata": {},
   "source": [
    "- Plot dFF etc for each voltage step"
   ]
  },
  {
   "cell_type": "code",
   "execution_count": null,
   "metadata": {},
   "outputs": [],
   "source": [
    "sensors = df.Mutation.unique()\n",
    "# sensors = [ '376.20950','485.20950','376.13','376.20948','485.6',\n",
    "#            '376.20949','485.20949', '376.17995']\n",
    "sensors = ['ASAP3b.T392V.J','ASAP3b.T392V.E','ASAP3b.T392V.A', 'ASAP3b.T392V.B', 'ASAP3b.T392V.C',\n",
    "       'ASAP3b.T392V.D',  'ASAP3b.T392V.F',\n",
    "       'ASAP3b.T392V.G', 'ASAP3b.T392V.I', 'ASAP3b.T392V.H'\n",
    "       ]\n",
    "sensors"
   ]
  },
  {
   "cell_type": "code",
   "execution_count": null,
   "metadata": {},
   "outputs": [],
   "source": [
    "# %matplotlib tk # plot in a new window\n",
    "import unicodedata\n",
    "import seaborn as sns\n",
    "sns.set()\n",
    "sns.set_style(style='whitegrid')\n",
    "\n",
    "# fig = plt.figure(figsize=[12,13])\n",
    "# params = ['dFF','amp_on_single','tau_on_single','tau_off_single','time_on_10-90','time_off_10-90']\n",
    "\n",
    "# x_label = 'mV'\n",
    "# y_label = ['dF/F','dF/F_amp_on','ms','ms','ms','ms']\n",
    "\n",
    "fig = plt.figure(figsize=[6,5])\n",
    "# params = ['amp_on_single']\n",
    "params = ['dFF']\n",
    "x_label = 'mV'\n",
    "y_label = [unicodedata.lookup(\"GREEK CAPITAL LETTER delta\") + 'F/F']\n",
    "# labels = {\n",
    "#           '376.1':'ASAP1',\n",
    "#           '376.20948':'ASAP3b',\n",
    "#           '376.20950':'ASAP3b T392V',\n",
    "#           '376.13':'ASAP1 T392V',\n",
    "#           '376.20949':'ASAP3b T392Y',\n",
    "#           '485.6':'ASAP3b-SOM2',\n",
    "#           '485.20949':'ASAP3b-SOM2 T392Y',\n",
    "#           '485.20950':'ASAP3b-SOM2 T392V',\n",
    "#           '376.18153':'ASAP1 N391I T392V',\n",
    "#           '376.17995':'ASAP1 N391L T392I'\n",
    "\n",
    "#          }\n",
    "\n",
    "\n",
    "# labels = {\n",
    "#             '421.1':'Voltron',\n",
    "#             '421.2096':'Voltron A122D',\n",
    "#             '421.4909':'Voltron N69E R78H A122D V196P',\n",
    "#             '421.4919':'Voltron R78H A122D V196P',\n",
    "#             '421.4876':'Voltron N69E A122D',\n",
    "#             '421.4892':'Voltron N69E V196P'\n",
    "    \n",
    "#          }\n",
    "\n",
    "\n",
    "\n",
    "\n",
    "labels = {\n",
    "            'ASAP3b.T392V.A':'ASAP3b T392V-GSS3TR-SOM2',\n",
    "            'ASAP3b.T392V.B':'ASAP3b KGC-GSS3-ER2-GSS3-SOM2',\n",
    "            'ASAP3b.T392V.C':'GSSlong-SOM2',\n",
    "            'ASAP3b.T392V.C':'ASAP3-Kv',\n",
    "            'ASAP3b.T392V.D':'ASAP3-Kv(Lin)',\n",
    "            'ASAP3b.T392V.E':'ASAP3b T392V-TS-ER-SOM2',\n",
    "            'ASAP3b.T392V.F':'ASAP3b T392V-NL-SOM2',\n",
    "            'ASAP3b.T392V.G':'ASAP3b T392V-lTlcnC',\n",
    "            'ASAP3b.T392V.H':'ASAP3b T392V-NL-SOM2(Lin)',\n",
    "            'ASAP3b.T392V.I':'ASAP3b T392V-GSS3-SOM2-lTlcnC',\n",
    "            'ASAP3b.T392V.J':'ASAP3b T392V'\n",
    "         }\n",
    "\n",
    "\n",
    "for i in range(len(params)):\n",
    "#     ax = plt.subplot(3,2,i+1)\n",
    "    ax = plt.subplot(1,1,i+1)\n",
    "#     for sensor in sensors:\n",
    "#         \n",
    "#             continue\n",
    "    for sensor in sensors: # Manually pick up sensors to plot\n",
    "        if sensor == '414.1':\n",
    "            continue\n",
    "    \n",
    "        df_sensor = df[df.Mutation == sensor]\n",
    "        param_mean = np.nanmean(df_sensor[params[i]].tolist(), axis=0)\n",
    "        param_sem = np.nanstd(df_sensor[params[i]].tolist(), axis=0)/(len(df_sensor)-1)\n",
    "        x = np.linspace(-100,60,9)\n",
    "        if sensor in('ASAP3b.T392V.J','ASAP3b.T392V.E'):\n",
    "#         if sensor in('376.20950','485.20950','376.20948'):\n",
    "        \n",
    "            ax.errorbar(x, param_mean, yerr = param_sem, fmt = 'o-',\n",
    "                        label = labels[sensor]+' (%d)' %len(df_sensor))\n",
    "        else:\n",
    "            ax.errorbar(x, param_mean, yerr = param_sem, fmt = 'o-',\n",
    "                        label = labels[sensor] +' (%d)' %len(df_sensor), alpha=0.2)\n",
    "\n",
    "    ax.legend()\n",
    "    ax.set_xlabel(x_label)\n",
    "#     ax.set_ylim([-0.3,0.3])\n",
    "    ax.set_ylabel(y_label[i])\n",
    "#     ax.set_title(params[i])\n",
    "\n",
    "\n",
    "handles, labels = ax.get_legend_handles_labels() # Following 3 lines remove the errorbars from legend\n",
    "handles = [h[0] for h in handles]\n",
    "ax.legend(handles, labels, loc='lower left', bbox_to_anchor=(0.55, 0.4))\n",
    "\n",
    "plt.setp(ax, xticks=x)\n",
    "plt.tight_layout()\n",
    "# plt.legend()\n",
    "# fig.savefig('/Users/zhengj10/Desktop/ASAP3b_variants_dFF.png',dpi=1200)\n",
    "plt.show()\n"
   ]
  },
  {
   "cell_type": "code",
   "execution_count": null,
   "metadata": {},
   "outputs": [],
   "source": []
  },
  {
   "cell_type": "code",
   "execution_count": null,
   "metadata": {},
   "outputs": [],
   "source": []
  },
  {
   "cell_type": "code",
   "execution_count": null,
   "metadata": {
    "scrolled": false
   },
   "outputs": [],
   "source": [
    "# df.index = np.arange(1, len(df)+1)\n",
    "# df.to_excel('/Users/zhengj10/Desktop//summary.xlsx')"
   ]
  },
  {
   "cell_type": "code",
   "execution_count": null,
   "metadata": {},
   "outputs": [],
   "source": [
    "# df[df.Mutation == '376.18153']"
   ]
  },
  {
   "cell_type": "markdown",
   "metadata": {},
   "source": [
    "- Plot kinetics at a certain voltage step"
   ]
  },
  {
   "cell_type": "code",
   "execution_count": null,
   "metadata": {},
   "outputs": [],
   "source": [
    "fig = plt.figure(figsize=(10,4))\n",
    "\n",
    "# params = ['tau_on_single','tau_off_single','tau_on_f_double','tau_on_s_double','tau_off_f_double','tau_off_s_double'\n",
    "#          ,'time_on_10-90','time_off_10-90', 'F0']\n",
    "\n",
    "params = ['tau_on_f_double','tau_off_f_double','tau_on_s_double','tau_off_s_double']\n",
    "# params = ['tau_on_single','tau_off_single']\n",
    "\n",
    "for f in range(len(params)):\n",
    "    ax = plt.subplot(2,2,f+1)\n",
    "    mean_all = []\n",
    "    sem_all = []\n",
    "    for sensor in sensors:\n",
    "        df_sensor = df[df.Mutation == sensor]\n",
    "        param_mean = np.nanmean(df_sensor[params[f]].tolist(), axis=0)\n",
    "        param_mean = param_mean[6] # Index is the voltage step (e.g. 6 means 20mV)\n",
    "        param_sem = np.nanstd(df_sensor[params[f]].tolist(), axis=0)/(len(df_sensor)-1)\n",
    "        param_sem = param_sem[6] # Index is the voltage step (e.g. 6 means 20mV)\n",
    "        mean_all.append(param_mean)\n",
    "        sem_all.append(param_sem)\n",
    "#     if params[f] in['tau_off_s_double']:\n",
    "#         ax.set_ylim([0,800])\n",
    "    \n",
    "\n",
    "    ax.spines['right'].set_visible(False)\n",
    "    ax.spines['top'].set_visible(False)\n",
    "    y_pos = np.arange(1, len(sensors)+1)\n",
    "    if f>1:\n",
    "#         plt.xticks(y_pos, sensors, rotation=45, ha = 'right')\n",
    "        plt.xticks(y_pos, labels, rotation=30, ha = 'right')\n",
    "#     colors = ['k', 'y', 'm', 'c', 'g', 'r', 'b', 'brown']\n",
    "    else:\n",
    "        plt.xticks([]) \n",
    "#     colors = ['m', 'c', 'g', 'r', 'b', 'k', 'y', 'brown']\n",
    "#     for xtick, color in zip(ax.get_xticklabels(), colors):\n",
    "#         xtick.set_color(color)\n",
    "\n",
    "    plt.tick_params(\n",
    "        axis='x',          # changes apply to the x-axis\n",
    "        which='both',      # both major and minor ticks are affected\n",
    "        bottom=False,      # ticks along the bottom edge are off\n",
    "        top=False,         # ticks along the top edge are off\n",
    "        labelbottom=True)\n",
    "\n",
    "\n",
    "    ax.set_ylabel(params[f][:-7]+' (ms)', size=12, weight='light')\n",
    "    barlist = ax.bar(y_pos, mean_all, yerr = sem_all)\n",
    "#     barlist[0].set_color('m')\n",
    "#     barlist[1].set_color('c')\n",
    "    # barlist[2].set_color('m')\n",
    "    # barlist[3].set_color('c')\n",
    "    # barlist[4].set_color('g')\n",
    "    # barlist[5].set_color('r')\n",
    "    # barlist[6].set_color('b')\n",
    "    # barlist[7].set_color('brown')\n",
    "    # plt.rcParams[\"axes.labelweight\"] = \"bold\"\n",
    "plt.tight_layout()\n",
    "# fig.savefig('/Users/zhengj10/Desktop/ASAP3b_variants_kinetics.png',dpi=1200)\n",
    "plt.show()\n"
   ]
  },
  {
   "cell_type": "markdown",
   "metadata": {},
   "source": [
    "- dFF vs. F0"
   ]
  },
  {
   "cell_type": "code",
   "execution_count": null,
   "metadata": {},
   "outputs": [],
   "source": [
    "# # sensor_to_plot = []\n",
    "# plt.figure(figsize=[10,9])\n",
    "# sns.set()\n",
    "# i=1\n",
    "# for sensor in sensors:\n",
    "#     df_sensor = df[df.Mutation == sensor]\n",
    "#     x = [cell[6] for cell in df_sensor['F0'].tolist()]\n",
    "#     y = [cell[6] for cell in df_sensor['dFF'].tolist()]\n",
    "#     ax = plt.subplot(3,3,i)\n",
    "#     s_scatter = sns.scatterplot(x,y,ax=ax)\n",
    "#     s_scatter.set_xlabel('')\n",
    "#     s_scatter.set_ylabel(sensor, size=13)\n",
    "#     s_scatter.set_xlabel('F0', size=13)\n",
    "#     i+=1\n",
    "# plt.tight_layout()\n",
    "# # plt.savefig('/Users/zhengj10/Desktop/dFF_vs_F0.png')\n",
    "# plt.show()\n"
   ]
  },
  {
   "cell_type": "markdown",
   "metadata": {},
   "source": [
    "- Plot with raw data (self-defined ROI)"
   ]
  },
  {
   "cell_type": "code",
   "execution_count": null,
   "metadata": {},
   "outputs": [],
   "source": [
    "def get_dff(imgData):\n",
    "    dff_list = []\n",
    "    f0 = np.mean(imgData[100:200, int(imgData.shape[1]/2)-20:int(imgData.shape[1]/2)+20, :])\n",
    "    for frame in range(imgData.shape[0]):\n",
    "        fb = np.mean(imgData[frame,:20,:20])\n",
    "#         fb = np.min(imgData[frame,:,:])\n",
    "        f = np.mean(imgData[frame, int(imgData.shape[1]/2)-20:int(imgData.shape[1]/2)+20, :])\n",
    "        dff = (f-f0)/(f0-fb)\n",
    "        dff_list.append(dff)\n",
    "    return dff_list\n"
   ]
  },
  {
   "cell_type": "code",
   "execution_count": null,
   "metadata": {},
   "outputs": [],
   "source": [
    "filePath = rawPath + '/2019.10.17_000/plate_002/patch_attempt_0025_000/camera_clamp2_000/'\n",
    "\n",
    "\n",
    "print(os.path.exists(filePath))\n",
    "dff_single_cell = []\n",
    "for trial in range(9):\n",
    "\n",
    "    dataFile = filePath + str(trial).zfill(3) + '/Camera/frames.ma'\n",
    "    data = h5py.File(dataFile)\n",
    "    imgData = data['data'][()]\n",
    "    \n",
    "    dff_list = get_dff(imgData)\n",
    "    dff_single_cell.append(np.mean(dff_list[800:1200]))\n",
    "# if dff_single[-1] < -0.3:\n",
    "#     print(cell)\n",
    "# dff_all.append(dff_single)\n"
   ]
  },
  {
   "cell_type": "code",
   "execution_count": null,
   "metadata": {},
   "outputs": [],
   "source": [
    "data = h5py.File(dataFile)\n",
    "imgData = data['data'][()]\n",
    "# print(imgData.shape)"
   ]
  },
  {
   "cell_type": "code",
   "execution_count": null,
   "metadata": {},
   "outputs": [],
   "source": [
    "plt.plot(dff_single_cell)\n",
    "plt.show()\n"
   ]
  },
  {
   "cell_type": "markdown",
   "metadata": {},
   "source": [
    "- Group plot"
   ]
  },
  {
   "cell_type": "code",
   "execution_count": null,
   "metadata": {},
   "outputs": [],
   "source": [
    "# fig = plt.figure()\n",
    "# dff_all_mean = np.mean(dff_all, axis=0)\n",
    "# dff_all_sem = np.std(dff_all, axis = 0)/(len(dff_all)-1)\n",
    "# x = np.linspace(-100,40,9)\n",
    "# plt.errorbar(x, dff_all_mean, yerr=dff_all_sem, fmt='o-', markersize='8', lw=2)\n",
    "# # fig.savefig('/Users/zhengj10/Desktop/414.1.png')\n",
    "# plt.show()\n"
   ]
  },
  {
   "cell_type": "code",
   "execution_count": null,
   "metadata": {},
   "outputs": [],
   "source": []
  },
  {
   "cell_type": "code",
   "execution_count": null,
   "metadata": {},
   "outputs": [],
   "source": [
    "dff_all_sensor['414.1'] = dff_all_mean"
   ]
  },
  {
   "cell_type": "code",
   "execution_count": null,
   "metadata": {},
   "outputs": [],
   "source": [
    "dff_all_sensor"
   ]
  },
  {
   "cell_type": "code",
   "execution_count": null,
   "metadata": {},
   "outputs": [],
   "source": [
    "fig = plt.figure(figsize=[8,8])\n",
    "# colormap = {'376.1':'#1f77b4', '376.13': '#ff7f0e', '414.1': '#2ca02c'}\n",
    "for sensor in['376.1','376.13','414.1']:\n",
    "    dff_all_mean = dff_all_sensor[sensor]\n",
    "    dff_all_sem = np.std(dff_all, axis = 0)/(len(dff_all)-1)\n",
    "    x = np.linspace(-100,40,9)\n",
    "    plt.errorbar(x, dff_all_mean, yerr=dff_all_sem, fmt='o-', markersize='8', lw=2, label=sensor)\n",
    "    plt.legend()\n",
    "# fig.savefig('/Users/zhengj10/Desktop/SfN/PatcherBot.png', dpi=1200)\n",
    "plt.show()\n"
   ]
  },
  {
   "cell_type": "markdown",
   "metadata": {},
   "source": [
    "### Check meta data"
   ]
  },
  {
   "cell_type": "code",
   "execution_count": null,
   "metadata": {},
   "outputs": [],
   "source": [
    "# dataFile = '/Users/zhengj10/Desktop/test/2019.10.17_000/plate_002/patch_attempt_0032_000/camera_clamp2_002/002/Clamp2.ma' # I and V steps\n",
    "# dataFile = '/Users/zhengj10/Desktop/0925_376.1/patch_attempt_0000_000/camera_clamp2_000/000/LEDChannels.ma'\n",
    "# dataFile = '/Users/zhengj10/Desktop/0925_376.1/patch_attempt_0000_000/camera_clamp2_000/000/Camera/daqResult.ma'\n",
    "dataFile = '/Volumes/genie/Jihong_GENIE_stuff/PatcherBot/raw/2019.10.22_000/plate_002/patch_attempt_0025_000/camera_clamp2_000/000/Clamp2.ma'\n"
   ]
  },
  {
   "cell_type": "code",
   "execution_count": null,
   "metadata": {},
   "outputs": [],
   "source": [
    "data = h5py.File(dataFile)\n",
    "meta = data['data'][()]\n"
   ]
  },
  {
   "cell_type": "code",
   "execution_count": null,
   "metadata": {},
   "outputs": [],
   "source": [
    "meta.shape\n"
   ]
  },
  {
   "cell_type": "code",
   "execution_count": null,
   "metadata": {},
   "outputs": [],
   "source": [
    "fig = plt.figure(figsize=[10,12])\n",
    "for ch in range(meta.shape[0]):\n",
    "    ax = fig.add_subplot(3,1,ch+1)\n",
    "    ax.plot(meta[ch,:])\n",
    "    ax.set_xlim([19000,21000])\n",
    "    if ch ==1:\n",
    "        ax.set_ylim([-3*1e-9,0.3*1e-9])\n",
    "\n",
    "plt.show()\n",
    "# fig.savefig('/Users/zhengj10/Desktop/Clamp2.ma.data.2.png')\n"
   ]
  },
  {
   "cell_type": "markdown",
   "metadata": {},
   "source": [
    "### Get tiff sequences for specified voltage step"
   ]
  },
  {
   "cell_type": "code",
   "execution_count": null,
   "metadata": {},
   "outputs": [],
   "source": [
    "# dataFile = '/Users/zhengj10/Desktop/0925_376.1/patch_attempt_0000_000/camera_clamp2_000/008/Camera/frames.ma'\n",
    "# dataFile = '/Users/zhengj10/Desktop/PatcherBot/2019.10.04_000/plate_001//patch_attempt_0008_000/camera_clamp2_000/008/Camera/frames.ma'\n",
    "# dataFile = '/Volumes/genie/Jihong_GENIE_stuff/PatcherBot/patch_attempt_0035_000/camera_clamp2_000/008/Camera/frames.ma'\n",
    "dataFile = os.path.join(rawPath,'2019.10.17_000/plate_002/patch_attempt_0025_000/camera_clamp2_000/000/Camera/frames.ma')"
   ]
  },
  {
   "cell_type": "code",
   "execution_count": null,
   "metadata": {},
   "outputs": [],
   "source": [
    "dataFile"
   ]
  },
  {
   "cell_type": "code",
   "execution_count": null,
   "metadata": {},
   "outputs": [],
   "source": [
    "data = h5py.File(dataFile)\n",
    "imgData = data['data'][()]"
   ]
  },
  {
   "cell_type": "code",
   "execution_count": null,
   "metadata": {},
   "outputs": [],
   "source": [
    "x = data['info']['0']['values'].value # Frame time stamp\n",
    "x"
   ]
  },
  {
   "cell_type": "code",
   "execution_count": null,
   "metadata": {},
   "outputs": [],
   "source": [
    "plt.plot(x[:10])\n",
    "plt.show()\n"
   ]
  },
  {
   "cell_type": "code",
   "execution_count": null,
   "metadata": {},
   "outputs": [],
   "source": [
    "dff_list = get_dff(imgData)\n",
    "# dff_list"
   ]
  },
  {
   "cell_type": "code",
   "execution_count": null,
   "metadata": {},
   "outputs": [],
   "source": [
    "plt.plot(x,dff_list, lw=0.3)\n",
    "plt.show()\n"
   ]
  },
  {
   "cell_type": "code",
   "execution_count": null,
   "metadata": {},
   "outputs": [],
   "source": [
    "# imsave('/Users/zhengj10/Desktop/test.tif', imgData)"
   ]
  },
  {
   "cell_type": "code",
   "execution_count": null,
   "metadata": {},
   "outputs": [],
   "source": [
    "imgData.shape"
   ]
  },
  {
   "cell_type": "markdown",
   "metadata": {},
   "source": [
    "### Save as one tif file (large size)"
   ]
  },
  {
   "cell_type": "code",
   "execution_count": null,
   "metadata": {},
   "outputs": [],
   "source": [
    "entire_seq = np.zeros([2,508,41])\n",
    "for trial in range(9):\n",
    "\n",
    "#     dataFile = '/Users/zhengj10/Desktop/PatcherBot/2019.10.04_000/plate_001/patch_attempt_0025_000/camera_clamp2_000/' + str(trial).zfill(3) + '/Camera/frames.ma'\n",
    "    data = h5py.File(dataFile)\n",
    "    imgData = data['data'][()]\n",
    "    print(imgData.shape)\n",
    "    entire_seq = np.concatenate((entire_seq, imgData), axis=0)\n",
    "\n",
    "entire_seq = entire_seq[2:,:,:]\n",
    "entire_seq.shape\n"
   ]
  },
  {
   "cell_type": "code",
   "execution_count": null,
   "metadata": {},
   "outputs": [],
   "source": [
    "# imsave('/Users/zhengj10/Desktop/test.tif', entire_seq)"
   ]
  },
  {
   "cell_type": "code",
   "execution_count": null,
   "metadata": {},
   "outputs": [],
   "source": [
    "mean_img = np.mean(entire_seq, axis=0)\n",
    "mean_img.shape\n",
    "np.max(mean_img)-np.min(mean_img)\n"
   ]
  },
  {
   "cell_type": "code",
   "execution_count": null,
   "metadata": {},
   "outputs": [],
   "source": [
    "plt.figure(figsize=[16,10])\n",
    "plt.imshow(mean_img, cmap='gray')\n",
    "# plt.colorbar()\n",
    "plt.show()\n"
   ]
  },
  {
   "cell_type": "markdown",
   "metadata": {},
   "source": [
    "### Read all variables in mat file with h5py"
   ]
  },
  {
   "cell_type": "code",
   "execution_count": null,
   "metadata": {},
   "outputs": [],
   "source": [
    "# f = h5py.File(matFile)\n",
    "# f = f['params']\n",
    "# variables = f.items()\n",
    "\n",
    "# for var in variables:\n",
    "#     name = var[0]\n",
    "#     data = var[1]\n",
    "#     print( \"Name \", name)  # Name\n",
    "#     if type(data) is h5py.Dataset:\n",
    "#         # If DataSet pull the associated Data\n",
    "#         # If not a dataset, you may need to access the element sub-items\n",
    "#         value = data.value\n",
    "#         print(\"Value\", value)  # NumPy Array / Value"
   ]
  }
 ],
 "metadata": {
  "kernelspec": {
   "display_name": "Python 3",
   "language": "python",
   "name": "python3"
  },
  "language_info": {
   "codemirror_mode": {
    "name": "ipython",
    "version": 3
   },
   "file_extension": ".py",
   "mimetype": "text/x-python",
   "name": "python",
   "nbconvert_exporter": "python",
   "pygments_lexer": "ipython3",
   "version": "3.8.8"
  }
 },
 "nbformat": 4,
 "nbformat_minor": 2
}
